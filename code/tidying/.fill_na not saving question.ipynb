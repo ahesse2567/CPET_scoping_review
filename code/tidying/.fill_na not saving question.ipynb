{
 "cells": [
  {
   "cell_type": "code",
   "execution_count": 1,
   "id": "d1909029",
   "metadata": {},
   "outputs": [],
   "source": [
    "import pandas as pd\n",
    "import numpy as np"
   ]
  },
  {
   "cell_type": "code",
   "execution_count": 2,
   "id": "bc7646a0",
   "metadata": {},
   "outputs": [],
   "source": [
    "ovid_output = pd.read_csv('/Users/antonhesse/Desktop/Anton/Education/UMN/Lab and Research/HSPL/CPET_data_analysis/data/processed/ovid_export_tidy.csv')\n",
    "# id_intersect = pd.crosstab(id_df['pmcid'], ovid_output['pmc_clean']) > 0\n",
    "# id_intersect.to_csv(\"/Users/antonhesse/Desktop/Anton/Education/UMN/Lab and Research/HSPL/CPET_data_analysis/data/raw/id_intersect.csv\",\\\n",
    "#     index = True)\n",
    "id_df = pd.read_csv('/Users/antonhesse/Desktop/Anton/Education/UMN/Lab and Research/HSPL/CPET_data_analysis/data/raw/pmc_conv.csv')"
   ]
  },
  {
   "cell_type": "markdown",
   "id": "469192ee",
   "metadata": {},
   "source": [
    "The next for loop works as follows:\n",
    "1. Look at the pmcid from the converter API ouput and matches the row of the Ovid output file.\n",
    "2. Extracts the DOIs from each data frame.\n",
    "3. If the current DOI from the Ovid dataframe is empty and if the Ovid doi and converter dataframe DOI aren't the same, look to fill the Ovid DOI with the converter DOI.\n",
    "4. Fill the empty Ovid DOI with the converter DOI. Even though I have inplace = True, this isn't saving. I confirmed by slowly stepping through in debug mode."
   ]
  },
  {
   "cell_type": "code",
   "execution_count": null,
   "id": "ec8f0cb1",
   "metadata": {},
   "outputs": [],
   "source": [
    "for i in range(len(id_df)):\n",
    "    idx = np.where(ovid_output['pmc_clean'] == id_df.loc[i,'pmcid'])\n",
    "    ovid_doi = ovid_output.loc[idx,'doi_clean'].values[0]\n",
    "    id_df_doi = id_df.loc[i,'doi']\n",
    "    if ovid_output.loc[idx,'doi_clean'].isnull().values[0] & (ovid_doi != id_df_doi):\n",
    "        if ovid_output.loc[idx,'doi_clean'].isna().bool():\n",
    "            ovid_output.loc[idx,'doi_clean'].fillna(id_df_doi, inplace=True) # not saving for some reason\n",
    "        else:\n",
    "            ovid_output.loc[idx,'doi_clean'] = id_df_doi\n",
    "        print(f'i = {i}\\nindex = {idx}')"
   ]
  },
  {
   "cell_type": "code",
   "execution_count": null,
   "id": "a69b1d9b",
   "metadata": {},
   "outputs": [],
   "source": [
    "ovid_output.to_csv('/Users/antonhesse/Desktop/Anton/Education/UMN/Lab and Research/HSPL/CPET_data_analysis/data/processed/ovid_output_pmc_doi.csv')"
   ]
  }
 ],
 "metadata": {
  "kernelspec": {
   "display_name": "Python 3",
   "language": "python",
   "name": "python3"
  },
  "language_info": {
   "codemirror_mode": {
    "name": "ipython",
    "version": 3
   },
   "file_extension": ".py",
   "mimetype": "text/x-python",
   "name": "python",
   "nbconvert_exporter": "python",
   "pygments_lexer": "ipython3",
   "version": "3.8.8"
  }
 },
 "nbformat": 4,
 "nbformat_minor": 5
}
