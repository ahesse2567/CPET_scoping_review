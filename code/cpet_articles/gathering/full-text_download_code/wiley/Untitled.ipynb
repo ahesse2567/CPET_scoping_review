{
 "cells": [
  {
   "cell_type": "code",
   "execution_count": 1,
   "id": "13e381e1-bdda-44be-b459-77fdb07d9ad9",
   "metadata": {},
   "outputs": [],
   "source": [
    "import re"
   ]
  },
  {
   "cell_type": "code",
   "execution_count": 10,
   "id": "7e08bb0e-a334-429d-9835-36ea4762a7b8",
   "metadata": {},
   "outputs": [
    {
     "name": "stdout",
     "output_type": "stream",
     "text": [
      "eurjhf-hfp181.pdf\n",
      "eurjhf-hfp181.pdf\n"
     ]
    }
   ],
   "source": [
    "doi_suffix = 'eurjhf/hfp181.pdf'\n",
    "print(doi_suffix)\n",
    "doi_suffix = re.sub(r\"\"\"([()/\\\\*,\"': ?;<>])\"\"\", '_._', doi_suffix)\n",
    "print(doi_suffix)\n",
    "# filename = dest_folder + str(doi_suffix)+'.pdf'"
   ]
  },
  {
   "cell_type": "code",
   "execution_count": null,
   "id": "99fe9b33-faee-4a42-943d-a02024f7504b",
   "metadata": {},
   "outputs": [],
   "source": []
  }
 ],
 "metadata": {
  "kernelspec": {
   "display_name": "Python 3 (ipykernel)",
   "language": "python",
   "name": "python3"
  },
  "language_info": {
   "codemirror_mode": {
    "name": "ipython",
    "version": 3
   },
   "file_extension": ".py",
   "mimetype": "text/x-python",
   "name": "python",
   "nbconvert_exporter": "python",
   "pygments_lexer": "ipython3",
   "version": "3.8.8"
  }
 },
 "nbformat": 4,
 "nbformat_minor": 5
}
