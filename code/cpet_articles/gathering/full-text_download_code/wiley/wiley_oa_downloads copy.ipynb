{
 "cells": [
  {
   "cell_type": "code",
   "execution_count": 30,
   "id": "0f4487b6",
   "metadata": {},
   "outputs": [],
   "source": [
    "import pandas as pd\n",
    "from tqdm import tqdm\n",
    "import json\n",
    "import requests\n",
    "from pathlib import Path\n",
    "import re\n",
    "import random\n",
    "import numpy as np\n",
    "import time"
   ]
  },
  {
   "cell_type": "code",
   "execution_count": 31,
   "id": "014ba016-85bb-4ef1-86fc-583e1d2b2fd9",
   "metadata": {},
   "outputs": [],
   "source": [
    "def get_publisher_download_url(crossref_resp):\n",
    "    # search for 'text-mining' in the intended-application field\n",
    "    text_mining = []\n",
    "    for link in crossref_response.json()['link']:\n",
    "        if re.search(r'text-mining',link['intended-application']):\n",
    "            text_mining.append(re.search('text-mining', link['intended-application']))\n",
    "        else:\n",
    "            text_mining.append(None)\n",
    "            \n",
    "    # find the index of match obects in crossref link information\n",
    "    publisher_api_idxs = np.where(np.array(text_mining) != None)[0].tolist()\n",
    "    # wiley_api_idxs\n",
    "    links = [crossref_response.json()['link'][i] for i in publisher_api_idxs]\n",
    "    # for now use the first link if there are more than one link\n",
    "    full_text_link = links[0]['URL']\n",
    "    return full_text_link"
   ]
  },
  {
   "cell_type": "code",
   "execution_count": null,
   "id": "18586e14-cfb3-4a7e-92f0-72fa979ada65",
   "metadata": {},
   "outputs": [],
   "source": [
    "def download_pdf(doi, dest_folder, content):\n",
    "    doi_suffix = str(doi.split('/', 1)[1:]).strip(\"[']\")\n",
    "    doi_suffix = re.sub(r\"\"\"([()/\\\\*,\"': ?;<>])\"\"\", '_._', doi_suffix)\n",
    "    filename = dest_folder + str(doi_suffix)+'.pdf'\n",
    "    with open(filename, mode = 'wb') as f:\n",
    "        f.write(content)"
   ]
  },
  {
   "cell_type": "code",
   "execution_count": null,
   "id": "32ce696d-d6e3-431c-ac61-ab7901c4643d",
   "metadata": {},
   "outputs": [],
   "source": [
    "doi = 'eurjhf/hfp181.pdf'\n",
    "doi_suffix = str(doi.split('/', 1)[1:]).strip(\"[']\")\n",
    "re.sub(r\"\"\"([()\\\\*,\"': ?;<>])\"\"\", '_._'\n",
    "filename = dest_folder + str(doi_suffix)+'.pdf'\n",
    "with open(filename, mode = 'wb') as f:\n",
    "    f.write(content)"
   ]
  },
  {
   "cell_type": "code",
   "execution_count": 32,
   "id": "cbc0cf05-1930-4145-a647-91af52181dbc",
   "metadata": {},
   "outputs": [],
   "source": [
    "with open('/Users/antonhesse/Desktop/Anton/Education/UMN/Lab and Research/HSPL/CPET_scoping_review/code/cpet_articles/gathering/full-text_download_code/wiley/wiley_config.json') as config_file:\n",
    "    wiley_token = json.load(config_file)['api_key']"
   ]
  },
  {
   "cell_type": "code",
   "execution_count": 33,
   "id": "f46efc8a-963c-43e2-bc1c-c620ffc14b4a",
   "metadata": {},
   "outputs": [
    {
     "data": {
      "text/plain": [
       "12825"
      ]
     },
     "execution_count": 33,
     "metadata": {},
     "output_type": "execute_result"
    }
   ],
   "source": [
    "pdf_file_paths = list(Path('/Users/antonhesse/Desktop/Anton/Education/UMN/Lab and Research/HSPL/CPET_scoping_review/data/cpet_articles/full_texts/pdfs').rglob('*/*.pdf'))\n",
    "pdfs = [path.stem for path in pdf_file_paths]\n",
    "len(pdfs)"
   ]
  },
  {
   "cell_type": "code",
   "execution_count": 34,
   "id": "6d7d3ece-82ec-4b2e-9d34-135825122ed2",
   "metadata": {},
   "outputs": [],
   "source": [
    "articles = pd.read_csv('/Users/antonhesse/Desktop/Anton/Education/UMN/Lab and Research/HSPL/CPET_scoping_review/data/cpet_articles/unpaywall/unpaywall_info.csv')\n",
    "wiley_oa_articles = articles[(articles['publisher'] == 'Wiley') & (articles['is_oa'] == True)].drop_duplicates().reset_index(drop=True)"
   ]
  },
  {
   "cell_type": "code",
   "execution_count": 35,
   "id": "7995b8f0-0a18-442f-806c-8856ec96c40f",
   "metadata": {},
   "outputs": [],
   "source": [
    "re_doi_suffix = re.compile(r'(?<=\\d/).*')\n",
    "wiley_oa_articles['doi_suffix'] = wiley_oa_articles['doi'].apply(lambda x: re_doi_suffix.search(x).group())"
   ]
  },
  {
   "cell_type": "code",
   "execution_count": 36,
   "id": "f1afea43-d5a3-4290-b16f-fde3959db099",
   "metadata": {},
   "outputs": [
    {
     "data": {
      "text/plain": [
       "(496, 50)"
      ]
     },
     "execution_count": 36,
     "metadata": {},
     "output_type": "execute_result"
    }
   ],
   "source": [
    "full_texts_to_download = [x for x in wiley_oa_articles['doi_suffix'].tolist() if x not in pdfs]\n",
    "merge = pd.merge(pd.DataFrame({'doi_suffix': full_texts_to_download}), wiley_oa_articles, how='inner', on='doi_suffix')\n",
    "merge.shape"
   ]
  },
  {
   "cell_type": "code",
   "execution_count": 42,
   "id": "b48ff0dd-c7ea-4972-b9b9-4828ca66732e",
   "metadata": {},
   "outputs": [],
   "source": [
    "user_agent = 'Mozilla/5.0 (Macintosh; Intel Mac OS X 10.15; rv:101.0) Gecko/20100101 Firefox/101.0'\n",
    "accept = 'application/vnd.citationstyles.csl+json, application/vnd.crossref.unixref+xml'\n",
    "dest_folder = '/Users/antonhesse/Desktop/Anton/Education/UMN/Lab and Research/HSPL/CPET_scoping_review/data/cpet_articles/full_texts/pdfs/wiley_oa'"
   ]
  },
  {
   "cell_type": "code",
   "execution_count": 43,
   "id": "e7be3c9d-cbfd-4aea-a456-023a9aaffca4",
   "metadata": {},
   "outputs": [],
   "source": [
    "# n = random.randint(0, merge.shape[0])\n",
    "# row = merge.loc[n,:]\n",
    "# doi = row['doi']\n",
    "# doi"
   ]
  },
  {
   "cell_type": "code",
   "execution_count": 44,
   "id": "f7d1f358-b4d4-42e8-af52-ebc769f81251",
   "metadata": {},
   "outputs": [],
   "source": [
    "# doi = row['doi']\n",
    "# out = {'doi': doi}\n",
    "# doi_url = 'https://doi.org/' + str(doi)\n",
    "# crossref_headers = {'Accept': accept, 'User-Agent': user_agent}\n",
    "# try:\n",
    "#     crossref_response = requests.get(\n",
    "#                     url = doi_url,\n",
    "#                     headers=crossref_headers,\n",
    "#                     allow_redirects=True,\n",
    "#                     verify=True)\n",
    "#     out.update({'CR_status_code': crossref_response.status_code})\n",
    "\n",
    "#     if crossref_response.status_code == 200:\n",
    "#         full_text_url = get_publisher_download_url(crossref_response)\n",
    "#         publisher_headers = {\n",
    "#             'User-Agent': user_agent,\n",
    "#             'Wiley-TDM-Client-Token': wiley_token,\n",
    "#             # 'CR-TDM-Rate-Limit': '1000',\n",
    "#             # 'CR-TDM-Rate-Limit-Remaining': '76',\n",
    "#             # 'CR-TDM-Rate-Limit-Reset': '1378072800'\n",
    "#         }\n",
    "#         publisher_response = requests.get(full_text_url, headers = publisher_headers, allow_redirects=True)\n",
    "#         out.update({'publisher_status_code': publisher_response.status_code})\n",
    "#         if publisher_response.status_code == 200:\n",
    "#             doi_suffix = str(doi.split('/', 1)[1:]).strip(\"[']\")\n",
    "#             filename = f'{dest_folder}/{doi_suffix}.pdf'\n",
    "#             with open(filename, mode='wb') as f:\n",
    "#                 f.write(publisher_response.content)\n",
    "# except Exception as e:\n",
    "#     print(e)\n",
    "#     out.update({'error': e})\n",
    "\n",
    "# print(publisher_response.status_code)"
   ]
  },
  {
   "cell_type": "code",
   "execution_count": 45,
   "id": "cac69897-804f-4aba-a6d0-962c06354d30",
   "metadata": {},
   "outputs": [],
   "source": [
    "log = []"
   ]
  },
  {
   "cell_type": "code",
   "execution_count": null,
   "id": "a44834d6-20f6-427e-91c4-8d073d116c43",
   "metadata": {},
   "outputs": [
    {
     "name": "stderr",
     "output_type": "stream",
     "text": [
      "  4%|▍         | 19/496 [00:15<07:40,  1.04it/s]"
     ]
    },
    {
     "name": "stdout",
     "output_type": "stream",
     "text": [
      "[Errno 2] No such file or directory: '/Users/antonhesse/Desktop/Anton/Education/UMN/Lab and Research/HSPL/CPET_scoping_review/data/cpet_articles/full_texts/pdfs/wiley_oa/eurjhf/hfq086.pdf'\n"
     ]
    },
    {
     "name": "stderr",
     "output_type": "stream",
     "text": [
      "  4%|▍         | 21/496 [00:21<13:55,  1.76s/it]"
     ]
    },
    {
     "name": "stdout",
     "output_type": "stream",
     "text": [
      "[Errno 2] No such file or directory: '/Users/antonhesse/Desktop/Anton/Education/UMN/Lab and Research/HSPL/CPET_scoping_review/data/cpet_articles/full_texts/pdfs/wiley_oa/eurjhf/hfp181.pdf'\n"
     ]
    },
    {
     "name": "stderr",
     "output_type": "stream",
     "text": [
      "  5%|▍         | 23/496 [00:25<14:25,  1.83s/it]"
     ]
    },
    {
     "name": "stdout",
     "output_type": "stream",
     "text": [
      "[Errno 2] No such file or directory: '/Users/antonhesse/Desktop/Anton/Education/UMN/Lab and Research/HSPL/CPET_scoping_review/data/cpet_articles/full_texts/pdfs/wiley_oa/eurjhf/hfp114.pdf'\n"
     ]
    },
    {
     "name": "stderr",
     "output_type": "stream",
     "text": [
      " 40%|███▉      | 197/496 [06:08<15:13,  3.05s/it]"
     ]
    },
    {
     "name": "stdout",
     "output_type": "stream",
     "text": [
      "list index out of range\n"
     ]
    },
    {
     "name": "stderr",
     "output_type": "stream",
     "text": [
      " 40%|████      | 200/496 [06:17<16:30,  3.35s/it]"
     ]
    },
    {
     "name": "stdout",
     "output_type": "stream",
     "text": [
      "[Errno 2] No such file or directory: '/Users/antonhesse/Desktop/Anton/Education/UMN/Lab and Research/HSPL/CPET_scoping_review/data/cpet_articles/full_texts/pdfs/wiley_oa/eurjhf/hfq187.pdf'\n"
     ]
    },
    {
     "name": "stderr",
     "output_type": "stream",
     "text": [
      " 41%|████      | 204/496 [06:36<21:28,  4.41s/it]"
     ]
    },
    {
     "name": "stdout",
     "output_type": "stream",
     "text": [
      "[Errno 2] No such file or directory: '/Users/antonhesse/Desktop/Anton/Education/UMN/Lab and Research/HSPL/CPET_scoping_review/data/cpet_articles/full_texts/pdfs/wiley_oa/eurjhf/hfp116.pdf'\n"
     ]
    },
    {
     "name": "stderr",
     "output_type": "stream",
     "text": [
      " 47%|████▋     | 234/496 [08:19<14:18,  3.28s/it]"
     ]
    },
    {
     "name": "stdout",
     "output_type": "stream",
     "text": [
      "HTTPConnectionPool(host='api.wiley.com', port=80): Max retries exceeded with url: /onlinelibrary/tdm/v1/articles/10.1113%2Fjphysiol.2003.042747 (Caused by NewConnectionError('<urllib3.connection.HTTPConnection object at 0x7f8164a9a9a0>: Failed to establish a new connection: [Errno 61] Connection refused'))\n"
     ]
    },
    {
     "name": "stderr",
     "output_type": "stream",
     "text": [
      " 47%|████▋     | 235/496 [08:20<11:01,  2.53s/it]"
     ]
    },
    {
     "name": "stdout",
     "output_type": "stream",
     "text": [
      "HTTPConnectionPool(host='api.wiley.com', port=80): Max retries exceeded with url: /onlinelibrary/tdm/v1/articles/10.1113%2Fjphysiol.2003.040162 (Caused by NewConnectionError('<urllib3.connection.HTTPConnection object at 0x7f81630abd30>: Failed to establish a new connection: [Errno 61] Connection refused'))\n"
     ]
    },
    {
     "name": "stderr",
     "output_type": "stream",
     "text": [
      " 48%|████▊     | 240/496 [08:34<13:01,  3.05s/it]"
     ]
    },
    {
     "name": "stdout",
     "output_type": "stream",
     "text": [
      "HTTPConnectionPool(host='api.wiley.com', port=80): Max retries exceeded with url: /onlinelibrary/tdm/v1/articles/10.1113%2Fjphysiol.2002.031179 (Caused by NewConnectionError('<urllib3.connection.HTTPConnection object at 0x7f81630cdbb0>: Failed to establish a new connection: [Errno 61] Connection refused'))\n"
     ]
    },
    {
     "name": "stderr",
     "output_type": "stream",
     "text": [
      " 49%|████▉     | 242/496 [08:38<10:23,  2.46s/it]"
     ]
    },
    {
     "name": "stdout",
     "output_type": "stream",
     "text": [
      "HTTPConnectionPool(host='api.wiley.com', port=80): Max retries exceeded with url: /onlinelibrary/tdm/v1/articles/10.1113%2Fjphysiol.2002.029108 (Caused by NewConnectionError('<urllib3.connection.HTTPConnection object at 0x7f81630877c0>: Failed to establish a new connection: [Errno 61] Connection refused'))\n"
     ]
    },
    {
     "name": "stderr",
     "output_type": "stream",
     "text": [
      " 51%|█████     | 253/496 [09:08<10:23,  2.57s/it]"
     ]
    },
    {
     "name": "stdout",
     "output_type": "stream",
     "text": [
      "HTTPConnectionPool(host='api.wiley.com', port=80): Max retries exceeded with url: /onlinelibrary/tdm/v1/articles/10.1111%2Fj.1469-7793.2001.00283.x (Caused by NewConnectionError('<urllib3.connection.HTTPConnection object at 0x7f8163087250>: Failed to establish a new connection: [Errno 61] Connection refused'))\n"
     ]
    },
    {
     "name": "stderr",
     "output_type": "stream",
     "text": [
      " 59%|█████▉    | 294/496 [09:53<03:04,  1.09it/s]"
     ]
    },
    {
     "name": "stdout",
     "output_type": "stream",
     "text": [
      "HTTPConnectionPool(host='api.wiley.com', port=80): Max retries exceeded with url: /onlinelibrary/tdm/v1/articles/10.1113%2Fjphysiol.1987.sp016420 (Caused by NewConnectionError('<urllib3.connection.HTTPConnection object at 0x7f8163087550>: Failed to establish a new connection: [Errno 61] Connection refused'))\n"
     ]
    },
    {
     "name": "stderr",
     "output_type": "stream",
     "text": [
      " 60%|█████▉    | 296/496 [09:55<02:59,  1.12it/s]"
     ]
    },
    {
     "name": "stdout",
     "output_type": "stream",
     "text": [
      "HTTPConnectionPool(host='api.wiley.com', port=80): Max retries exceeded with url: /onlinelibrary/tdm/v1/articles/10.1111%2Fj.1365-2125.1981.tb01205.x (Caused by NewConnectionError('<urllib3.connection.HTTPConnection object at 0x7f816309b7c0>: Failed to establish a new connection: [Errno 61] Connection refused'))\n"
     ]
    },
    {
     "name": "stderr",
     "output_type": "stream",
     "text": [
      " 60%|██████    | 300/496 [09:58<02:43,  1.20it/s]"
     ]
    }
   ],
   "source": [
    "for idx, row in tqdm(merge.iterrows(), total=merge.shape[0]):\n",
    "    doi = row['doi']\n",
    "    out = {'doi': doi}\n",
    "    doi_url = 'https://doi.org/' + str(doi)\n",
    "    crossref_headers = {'Accept': accept, 'User-Agent': user_agent}\n",
    "    try:\n",
    "        crossref_response = requests.get(\n",
    "                        url = doi_url,\n",
    "                        headers=crossref_headers,\n",
    "                        allow_redirects=True,\n",
    "                        verify=True)\n",
    "        out.update({'CR_status_code': crossref_response.status_code})\n",
    "\n",
    "        if crossref_response.status_code == 200:\n",
    "            full_text_url = get_publisher_download_url(crossref_response)\n",
    "            publisher_headers = {\n",
    "                'User-Agent': user_agent,\n",
    "                'Wiley-TDM-Client-Token': wiley_token,\n",
    "                # 'CR-TDM-Rate-Limit': '1000',\n",
    "                # 'CR-TDM-Rate-Limit-Remaining': '76',\n",
    "                # 'CR-TDM-Rate-Limit-Reset': '1378072800'\n",
    "            }\n",
    "            publisher_response = requests.get(full_text_url, headers = publisher_headers, allow_redirects=True)\n",
    "            out.update({'publisher_status_code': publisher_response.status_code})\n",
    "            if publisher_response.status_code == 200:\n",
    "                download_pdf(doi = doi, dest_folder=dest_folder, content=full_text_resp.content)\n",
    "    except Exception as e:\n",
    "        print(e)\n",
    "        out.update({'error': e})\n",
    "    time.sleep(0.35)\n",
    "\n",
    "    log.append(out)"
   ]
  },
  {
   "cell_type": "code",
   "execution_count": null,
   "id": "ea964398-93f0-41b6-9059-f64455cb88fc",
   "metadata": {},
   "outputs": [],
   "source": [
    "log_df = pd.DataFrame(log)"
   ]
  },
  {
   "cell_type": "code",
   "execution_count": 280,
   "id": "15a9a903-7eb9-47ef-9130-3a2854c26963",
   "metadata": {},
   "outputs": [],
   "source": [
    "non200 = log_df[log_df['publisher_status_code'] != 200].reset_index(drop=True)\n",
    "non200.shape"
   ]
  },
  {
   "cell_type": "code",
   "execution_count": 281,
   "id": "9c9cd6fa-be0b-4678-94c3-1c2a91b4881e",
   "metadata": {},
   "outputs": [],
   "source": [
    "wiley_errors = pd.merge(non200, merge, how='inner', on='doi')\n",
    "wiley_errors.to_csv('/Users/antonhesse/Desktop/Anton/Education/UMN/Lab and Research/HSPL/CPET_scoping_review/data/cpet_articles/unpaywall/wiley_oa_status_codes.csv',\n",
    "                    index=False)"
   ]
  },
  {
   "cell_type": "code",
   "execution_count": 283,
   "id": "44bd6a9b-c23b-4b58-9801-67c52597decf",
   "metadata": {},
   "outputs": [
    {
     "data": {
      "text/plain": [
       "(693, 53)"
      ]
     },
     "execution_count": 283,
     "metadata": {},
     "output_type": "execute_result"
    }
   ],
   "source": [
    "wiley_errors.shape"
   ]
  },
  {
   "cell_type": "code",
   "execution_count": null,
   "id": "8ae899fe-3870-4236-af54-8893e2906350",
   "metadata": {},
   "outputs": [],
   "source": []
  }
 ],
 "metadata": {
  "kernelspec": {
   "display_name": "Python 3 (ipykernel)",
   "language": "python",
   "name": "python3"
  },
  "language_info": {
   "codemirror_mode": {
    "name": "ipython",
    "version": 3
   },
   "file_extension": ".py",
   "mimetype": "text/x-python",
   "name": "python",
   "nbconvert_exporter": "python",
   "pygments_lexer": "ipython3",
   "version": "3.8.8"
  }
 },
 "nbformat": 4,
 "nbformat_minor": 5
}
