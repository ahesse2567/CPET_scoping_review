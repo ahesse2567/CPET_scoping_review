{
 "cells": [
  {
   "cell_type": "code",
   "execution_count": 1,
   "id": "8fee1810-8be2-4195-9670-f6f75b475ac7",
   "metadata": {},
   "outputs": [],
   "source": [
    "import requests\n",
    "import pandas as pd\n",
    "import requests\n",
    "import json\n",
    "from tqdm import tqdm\n",
    "from pathlib import Path\n",
    "import re"
   ]
  },
  {
   "cell_type": "code",
   "execution_count": 2,
   "id": "35d0e431-cad7-4691-9df7-9b706a86df62",
   "metadata": {},
   "outputs": [],
   "source": [
    "def download_pdf(doi, dest_folder, content):\n",
    "    doi_suffix = str(doi.split('/', 1)[1:]).strip(\"[']\")\n",
    "    doi_suffix = re.sub(r\"\"\"([()/\\\\*,\"': ?;<>])\"\"\", '_._', doi_suffix)\n",
    "    filename = dest_folder + '/' + str(doi_suffix)+'.pdf'\n",
    "    with open(filename, mode = 'wb') as f:\n",
    "        f.write(content)"
   ]
  },
  {
   "cell_type": "code",
   "execution_count": 3,
   "id": "347517fb-91f3-4d6f-8530-8e8c4175c340",
   "metadata": {},
   "outputs": [],
   "source": [
    "with open('/Users/antonhesse/Desktop/Anton/Education/UMN/Lab and Research/HSPL/CPET_scoping_review/code/cpet_articles/gathering/full-text_download_code/springer/springer_config.json') as config_file:\n",
    "    api_key = json.load(config_file)['api_key']"
   ]
  },
  {
   "cell_type": "code",
   "execution_count": 4,
   "id": "b813d03e-1829-4bae-b604-9e8ff1119a11",
   "metadata": {},
   "outputs": [],
   "source": [
    "articles = pd.read_csv('/Users/antonhesse/Desktop/Anton/Education/UMN/Lab and Research/HSPL/CPET_scoping_review/data/cpet_articles/unpaywall/unpaywall_info.csv')\n",
    "springer_articles = articles[(articles['is_oa'] == True) & \\\n",
    "    ((articles['publisher'] == 'Springer Science and Business Media LLC') | \\\n",
    "     (articles['publisher'] == 'Springer Nature') | \\\n",
    "     (articles['publisher'] == 'Springer International Publishing'))].drop_duplicates().reset_index(drop=True)"
   ]
  },
  {
   "cell_type": "code",
   "execution_count": 5,
   "id": "71fbcdb9-3ec7-4d0c-bda4-fcae5a886268",
   "metadata": {},
   "outputs": [
    {
     "data": {
      "text/plain": [
       "Springer Science and Business Media LLC    934\n",
       "Springer Nature                              3\n",
       "Springer International Publishing            1\n",
       "Name: publisher, dtype: int64"
      ]
     },
     "execution_count": 5,
     "metadata": {},
     "output_type": "execute_result"
    }
   ],
   "source": [
    "springer_articles['publisher'].value_counts()"
   ]
  },
  {
   "cell_type": "code",
   "execution_count": 6,
   "id": "36b2db34-4175-450a-84fb-488bd6bf4ba0",
   "metadata": {},
   "outputs": [],
   "source": [
    "pdf_file_paths = list(Path('/Users/antonhesse/Desktop/Anton/Education/UMN/Lab and Research/HSPL/CPET_scoping_review/data/cpet_articles/full_texts/pdfs').rglob('*/*.pdf'))\n",
    "pdfs = [path.stem for path in pdf_file_paths]"
   ]
  },
  {
   "cell_type": "code",
   "execution_count": 7,
   "id": "160a6536-eacd-4398-87e9-23c4c59ee81e",
   "metadata": {},
   "outputs": [
    {
     "data": {
      "text/plain": [
       "(50, 50)"
      ]
     },
     "execution_count": 7,
     "metadata": {},
     "output_type": "execute_result"
    }
   ],
   "source": [
    "re_doi_suffix = re.compile(r'(?<=\\d/).*')\n",
    "springer_articles['doi_suffix'] = springer_articles['doi'].apply(lambda x: re_doi_suffix.search(x).group())\n",
    "full_texts_to_download = [x for x in springer_articles['doi_suffix'].tolist() if x not in pdfs]\n",
    "merge = pd.merge(pd.DataFrame({'doi_suffix': full_texts_to_download}), springer_articles, how='inner', on='doi_suffix')\n",
    "merge.shape"
   ]
  },
  {
   "cell_type": "code",
   "execution_count": 11,
   "id": "93ce4b23-4044-4c64-8d7f-95f7f7ca28c7",
   "metadata": {},
   "outputs": [],
   "source": [
    "springer_api_url = 'https://api.springernature.com/meta/v2/json?'\n",
    "headers = {'User-Agent': 'Mozilla/5.0 (Macintosh; Intel Mac OS X 10.15; rv:100.0) Gecko/20100101 Firefox/100.0'}\n",
    "folder = '/Users/antonhesse/Desktop/Anton/Education/UMN/Lab and Research/HSPL/CPET_scoping_review/data/cpet_articles/full_texts/pdfs/springer_oa'"
   ]
  },
  {
   "cell_type": "code",
   "execution_count": 12,
   "id": "95e296ae-9c4b-47f2-8570-c68cbe5c955a",
   "metadata": {},
   "outputs": [],
   "source": [
    "log = []"
   ]
  },
  {
   "cell_type": "code",
   "execution_count": 13,
   "id": "6c6ccda7-db66-4d08-accb-c5bddab84de7",
   "metadata": {},
   "outputs": [
    {
     "name": "stderr",
     "output_type": "stream",
     "text": [
      "100%|██████████| 50/50 [03:48<00:00,  4.57s/it]\n"
     ]
    }
   ],
   "source": [
    "for i, row in tqdm(merge.iterrows(), total=merge.shape[0]):\n",
    "    doi = row['doi']\n",
    "    out = {'doi': doi}\n",
    "    params = {\n",
    "    'api_key': api_key,\n",
    "    'q': doi\n",
    "    }\n",
    "\n",
    "    try:\n",
    "        response = requests.get(url = springer_api_url, params = params, headers=headers, allow_redirects=True)\n",
    "        out.update({'query_status_code': response.status_code})\n",
    "                    \n",
    "        if response.status_code == 200:\n",
    "            pdf_url = response.json()['records'][0]['url'][1]['value']\n",
    "            pdf_response = requests.get(pdf_url, stream=True, allow_redirects=True)\n",
    "            out.update({'pdf_status_code': pdf_response.status_code})\n",
    "                    \n",
    "            if pdf_response.status_code == 200:\n",
    "                download_pdf(doi, dest_folder=folder, content=pdf_response.content)\n",
    "\n",
    "    except Exception as e:\n",
    "        print(f'{e} at index {i} for DOI {doi}')\n",
    "        out.update({'error': e})\n",
    "    \n",
    "    log.append(out)\n"
   ]
  },
  {
   "cell_type": "code",
   "execution_count": null,
   "id": "c06a8c0e-e48a-49d9-ab32-70f3e030ea02",
   "metadata": {},
   "outputs": [],
   "source": [
    "log_df = pd.DataFrame(log)"
   ]
  }
 ],
 "metadata": {
  "kernelspec": {
   "display_name": "Python 3 (ipykernel)",
   "language": "python",
   "name": "python3"
  },
  "language_info": {
   "codemirror_mode": {
    "name": "ipython",
    "version": 3
   },
   "file_extension": ".py",
   "mimetype": "text/x-python",
   "name": "python",
   "nbconvert_exporter": "python",
   "pygments_lexer": "ipython3",
   "version": "3.8.8"
  }
 },
 "nbformat": 4,
 "nbformat_minor": 5
}
