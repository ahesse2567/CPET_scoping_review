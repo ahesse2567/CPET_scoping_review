{
 "cells": [
  {
   "cell_type": "code",
   "execution_count": 41,
   "id": "783fdfac-b61b-4041-a628-4c8b89a1432e",
   "metadata": {},
   "outputs": [],
   "source": [
    "from selenium import webdriver\n",
    "from selenium.webdriver.firefox.service import Service as FirefoxService\n",
    "from send2trash import send2trash\n",
    "from webdriver_manager.firefox import GeckoDriverManager\n",
    "from selenium.webdriver.common.by import By\n",
    "from selenium.webdriver.common.keys import Keys\n",
    "import pandas as pd\n",
    "import requests\n",
    "import random\n",
    "import time\n",
    "from tqdm import tqdm\n",
    "from pathlib import Path\n",
    "import re\n",
    "\n",
    "# this will be very annoying to do because we'll need to adjust for each publisher"
   ]
  },
  {
   "cell_type": "code",
   "execution_count": 22,
   "id": "4a41d878-f28f-4fdd-883d-9906c14f767b",
   "metadata": {},
   "outputs": [],
   "source": [
    "articles = pd.read_csv('/Users/antonhesse/Desktop/Anton/Education/UMN/Lab and Research/HSPL/CPET_scoping_review/data/cpet_articles/unpaywall/unpaywall_info.csv')\n",
    "ca_articles = articles[articles['is_oa'] == False].reset_index(drop=True)"
   ]
  },
  {
   "cell_type": "code",
   "execution_count": 23,
   "id": "c52f4be3-86b2-4725-a0d1-d086ddb12a61",
   "metadata": {},
   "outputs": [],
   "source": [
    "pdf_paths = list(Path('/Users/antonhesse/Desktop/Anton/Education/UMN/Lab and Research/HSPL/CPET_scoping_review/data/cpet_articles/full_texts/pdfs').rglob('*.pdf'))\n",
    "pdf_files = [path.stem for path in pdf_paths]\n",
    "epub_paths = list(Path('/Users/antonhesse/Desktop/Anton/Education/UMN/Lab and Research/HSPL/CPET_scoping_review/data/cpet_articles/full_texts/epubs').rglob('*.epub'))\n",
    "epub_files = [path.stem for path in epub_paths]\n",
    "txt_paths = list(Path('/Users/antonhesse/Desktop/Anton/Education/UMN/Lab and Research/HSPL/CPET_scoping_review/data/cpet_articles/full_texts/txts').rglob('*.txt'))\n",
    "txt_files = [path.stem for path in txt_paths]"
   ]
  },
  {
   "cell_type": "code",
   "execution_count": 24,
   "id": "f394535e-e2f1-4c04-90f7-ef9eba61f2e1",
   "metadata": {},
   "outputs": [],
   "source": [
    "full_texts = pdf_files + epub_files + txt_files\n",
    "full_texts = list(set(full_texts))"
   ]
  },
  {
   "cell_type": "code",
   "execution_count": 25,
   "id": "456f08c0-193f-436b-96d3-1e368420a479",
   "metadata": {},
   "outputs": [],
   "source": [
    "re_doi_suffix = re.compile(r'(?<=\\d/).*')\n",
    "ca_articles['doi_suffix'] = ca_articles['doi'].apply(lambda x: re_doi_suffix.search(x).group())"
   ]
  },
  {
   "cell_type": "code",
   "execution_count": 28,
   "id": "83d1fc48-a392-4803-bb9f-23014a41ee8c",
   "metadata": {},
   "outputs": [],
   "source": [
    "full_texts_to_download = [x for x in ca_articles['doi_suffix'].tolist() if x not in full_texts]\n",
    "merge = pd.merge(pd.DataFrame({'doi_suffix': full_texts_to_download}), ca_articles, how='inner', on='doi_suffix')"
   ]
  },
  {
   "cell_type": "code",
   "execution_count": 77,
   "id": "c97e73cc-04ea-465c-8cff-2a166ac680b2",
   "metadata": {},
   "outputs": [],
   "source": [
    "n = random.randint(0, merge.shape[0])\n",
    "row = merge.loc[n,:]"
   ]
  },
  {
   "cell_type": "code",
   "execution_count": 78,
   "id": "6abe7408-4649-41dd-99ee-66f2d98c5503",
   "metadata": {},
   "outputs": [
    {
     "name": "stdout",
     "output_type": "stream",
     "text": [
      "DOI: 10.1177/2047487320914734\n",
      "DOI URL: https://doi.org/10.1177/2047487320914734\n"
     ]
    }
   ],
   "source": [
    "doi = row['doi']\n",
    "doi_url = row['doi_url']\n",
    "print('DOI:', doi)\n",
    "print('DOI URL:', doi_url)"
   ]
  },
  {
   "cell_type": "code",
   "execution_count": 75,
   "id": "5c127f8a-628b-49b3-b79c-2415be99d9f5",
   "metadata": {},
   "outputs": [],
   "source": [
    "headers = {'User-Agent': 'Mozilla/5.0 (Macintosh; Intel Mac OS X 10.15; rv:102.0) Gecko/20100101 Firefox/102.0'}\n",
    "# dest_folder = 'data/cpet_articles/full_texts/pdfs/aps_non_oa/' # set dest_folder based on publisher"
   ]
  },
  {
   "cell_type": "code",
   "execution_count": 71,
   "id": "7f8caaf4-1a73-4adc-acdb-582968f0cc54",
   "metadata": {},
   "outputs": [
    {
     "name": "stdout",
     "output_type": "stream",
     "text": [
      "\n"
     ]
    }
   ],
   "source": [
    "driver = webdriver.Firefox(service=FirefoxService(GeckoDriverManager().install()))\n",
    "driver.implicitly_wait(1) # hopefully let's JS load correctly"
   ]
  },
  {
   "cell_type": "code",
   "execution_count": 79,
   "id": "e5af856d-2eb1-4667-8efe-77d4f1ad6fb7",
   "metadata": {},
   "outputs": [],
   "source": [
    "driver.get(url = doi_url)"
   ]
  },
  {
   "cell_type": "code",
   "execution_count": 36,
   "id": "6b0b74c3-2962-4e0c-b2f4-38b969d4a34a",
   "metadata": {},
   "outputs": [],
   "source": [
    "driver.get(url = 'https://www.lib.umn.edu/') # start at UMN library page"
   ]
  },
  {
   "cell_type": "code",
   "execution_count": 63,
   "id": "bcd21aae-8f31-4cb7-9dfd-23bdca67e614",
   "metadata": {},
   "outputs": [],
   "source": [
    "search_bar = driver.find_element(By.XPATH, \"//input[@class='form-control form-control-lg' and @name='search']\")"
   ]
  },
  {
   "cell_type": "code",
   "execution_count": 66,
   "id": "206a5a30-c227-4068-8754-12bb5845d742",
   "metadata": {},
   "outputs": [],
   "source": [
    "search_bar.clear()\n",
    "search_bar.send_keys(doi)\n",
    "search_bar.send_keys(Keys.RETURN)"
   ]
  },
  {
   "cell_type": "code",
   "execution_count": 62,
   "id": "d8cd0183-30fa-4beb-a394-ec382bccf216",
   "metadata": {},
   "outputs": [],
   "source": []
  },
  {
   "cell_type": "code",
   "execution_count": null,
   "id": "5d162f86-40cf-4a94-97cb-becff78d4702",
   "metadata": {},
   "outputs": [],
   "source": []
  }
 ],
 "metadata": {
  "kernelspec": {
   "display_name": "Python 3 (ipykernel)",
   "language": "python",
   "name": "python3"
  },
  "language_info": {
   "codemirror_mode": {
    "name": "ipython",
    "version": 3
   },
   "file_extension": ".py",
   "mimetype": "text/x-python",
   "name": "python",
   "nbconvert_exporter": "python",
   "pygments_lexer": "ipython3",
   "version": "3.8.8"
  }
 },
 "nbformat": 4,
 "nbformat_minor": 5
}
