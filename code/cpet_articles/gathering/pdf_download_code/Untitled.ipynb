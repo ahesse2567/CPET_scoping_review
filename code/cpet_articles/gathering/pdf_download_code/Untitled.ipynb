{
 "cells": [
  {
   "cell_type": "code",
   "execution_count": 68,
   "id": "0f4487b6",
   "metadata": {},
   "outputs": [],
   "source": [
    "import sys\n",
    "sys.path.append('code/cpet_articles/gathering/pdf_download_code')\n",
    "from crossref_pdf_download import crossref_pdf_download\n",
    "import pandas as pd\n",
    "from tqdm import tqdm\n",
    "import json\n",
    "import requests"
   ]
  },
  {
   "cell_type": "code",
   "execution_count": 64,
   "id": "2b0e081b",
   "metadata": {},
   "outputs": [
    {
     "data": {
      "text/plain": [
       "(1137, 52)"
      ]
     },
     "execution_count": 64,
     "metadata": {},
     "output_type": "execute_result"
    }
   ],
   "source": [
    "wiley_non_oa_status_codes = pd.read_csv('/Users/antonhesse/Desktop/Anton/Education/UMN/Lab and Research/HSPL/CPET_scoping_review/data/cpet_articles/unpaywall/wiley_non_oa_status_codes.csv')\n",
    "non200 = wiley_non_oa_status_codes[wiley_non_oa_status_codes['publisher_status_code'] != 200]\n",
    "non200.shape"
   ]
  },
  {
   "cell_type": "code",
   "execution_count": 65,
   "id": "241495b5",
   "metadata": {},
   "outputs": [],
   "source": [
    "user_agent = 'Mozilla/5.0 (Macintosh; Intel Mac OS X 10.15; rv:101.0) Gecko/20100101 Firefox/101.0'\n",
    "accept = 'application/vnd.citationstyles.csl+json, application/vnd.crossref.unixref+xml'\n",
    "dest_folder = 'data/cpet_articles/pdfs/cdn_non_oa_pdfs'\n",
    "\n",
    "with open('/Users/antonhesse/Desktop/Anton/Education/UMN/Lab and Research/HSPL/CPET_scoping_review/code/cpet_articles/gathering/pdf_download_code/wiley_config.json') as config_file:\n",
    "    wiley_token = json.load(config_file)['api_key']"
   ]
  },
  {
   "cell_type": "code",
   "execution_count": 71,
   "id": "3749266b",
   "metadata": {},
   "outputs": [
    {
     "name": "stdout",
     "output_type": "stream",
     "text": [
      "Status code 403 for DOI 10.1111/cpf.12525\n"
     ]
    },
    {
     "data": {
      "text/plain": [
       "{'doi': '10.1111/cpf.12525',\n",
       " 'CR_status_code': 200,\n",
       " 'publisher_status_code': 403}"
      ]
     },
     "execution_count": 71,
     "metadata": {},
     "output_type": "execute_result"
    }
   ],
   "source": [
    "test_doi = non200.loc[0,'doi']\n",
    "test_doi\n",
    "\n",
    "crossref_pdf_download(\n",
    "    doi=test_doi,\n",
    "    accept=accept,\n",
    "    dest=dest_folder,\n",
    "    user_agent=user_agent,\n",
    "    TDM_token=crossref_token,\n",
    "    TDM_header='Wiley-TDM-Client-Token',\n",
    "    verify=True)"
   ]
  },
  {
   "cell_type": "code",
   "execution_count": 72,
   "id": "8370c6cb",
   "metadata": {},
   "outputs": [],
   "source": [
    "doi = non200.loc[0,'doi_url']\n",
    "doi_url = 'https://doi.org/' + str(doi)\n",
    "out = {'doi': doi}\n",
    "verify=True\n",
    "TDM_header='Wiley-TDM-Client-Token'\n",
    "TDM_token=crossref_token\n",
    "\n",
    "crossref_headers = {'Accept': accept, 'User-Agent': user_agent}"
   ]
  },
  {
   "cell_type": "code",
   "execution_count": 73,
   "id": "003dec78",
   "metadata": {},
   "outputs": [
    {
     "data": {
      "text/plain": [
       "{'doi': 'https://doi.org/10.1111/cpf.12525', 'CR_status_code': 200}"
      ]
     },
     "execution_count": 73,
     "metadata": {},
     "output_type": "execute_result"
    }
   ],
   "source": [
    "crossref_response = requests.get(\n",
    "    url = doi_url,\n",
    "    headers=crossref_headers,\n",
    "    allow_redirects=True,\n",
    "    verify=verify)\n",
    "\n",
    "out.update({'CR_status_code': crossref_response.status_code})\n",
    "out"
   ]
  },
  {
   "cell_type": "code",
   "execution_count": 74,
   "id": "873858e8",
   "metadata": {},
   "outputs": [
    {
     "data": {
      "text/plain": [
       "{'URL': 'https://api.wiley.com/onlinelibrary/tdm/v1/articles/10.1111%2Fcpf.12525',\n",
       " 'content-type': 'application/pdf',\n",
       " 'content-version': 'vor',\n",
       " 'intended-application': 'text-mining'}"
      ]
     },
     "execution_count": 74,
     "metadata": {},
     "output_type": "execute_result"
    }
   ],
   "source": [
    "crossref_response.json()['link'][0]"
   ]
  },
  {
   "cell_type": "code",
   "execution_count": 42,
   "id": "afcdc338",
   "metadata": {},
   "outputs": [],
   "source": [
    "full_text_link = crossref_response.json()['link'][0]['URL'] # change to full-text xml link later"
   ]
  },
  {
   "cell_type": "code",
   "execution_count": 41,
   "id": "98d087dd",
   "metadata": {},
   "outputs": [
    {
     "name": "stdout",
     "output_type": "stream",
     "text": [
      "xml is in there\n"
     ]
    }
   ],
   "source": [
    "if 'application/xml' in crossref_response.json()['link'][0]['content-type']:\n",
    "    print('xml is in there')"
   ]
  },
  {
   "cell_type": "code",
   "execution_count": 58,
   "id": "a50b178d",
   "metadata": {},
   "outputs": [
    {
     "data": {
      "text/plain": [
       "{'User-Agent': 'Mozilla/5.0 (Macintosh; Intel Mac OS X 10.15; rv:101.0) Gecko/20100101 Firefox/101.0',\n",
       " 'Content-Type': 'application/xml',\n",
       " 'CR-TDM-Client-Token': 'f95f9ecf-68f16d7d-ac324cc4-8e1da41d'}"
      ]
     },
     "execution_count": 58,
     "metadata": {},
     "output_type": "execute_result"
    }
   ],
   "source": [
    "publisher_headers = {'User-Agent': user_agent, 'Content-Type': 'application/xml'}\n",
    "if (TDM_header != None) & (TDM_token != None):\n",
    "    publisher_headers.update({TDM_header: TDM_token})\n",
    "publisher_headers"
   ]
  },
  {
   "cell_type": "code",
   "execution_count": 59,
   "id": "65542412",
   "metadata": {},
   "outputs": [
    {
     "data": {
      "text/plain": [
       "403"
      ]
     },
     "execution_count": 59,
     "metadata": {},
     "output_type": "execute_result"
    }
   ],
   "source": [
    "publisher_response = requests.get(full_text_link, headers = publisher_headers, allow_redirects=True)\n",
    "publisher_response.status_code"
   ]
  },
  {
   "cell_type": "code",
   "execution_count": null,
   "id": "577c4117",
   "metadata": {},
   "outputs": [],
   "source": [
    "publisher_headers = {'User-Agent': user_agent}\n",
    "if (TDM_header != None) & (TDM_token != None):\n",
    "    publisher_headers.update({TDM_header: TDM_token})\n",
    "\n",
    "publisher_response = requests.get(pdf_url, headers = publisher_headers, allow_redirects=True, verify=verify)\n",
    "out.update({'publisher_status_code': publisher_response.status_code})\n",
    "\n",
    "if publisher_response.status_code != 200:\n",
    "    print(f'Status code {publisher_response.status_code} for DOI {doi}')\n",
    "    return out\n",
    "\n",
    "doi_suffix = str(doi.split('/')[1:]).strip(\"[']\")\n",
    "filename = f'{dest}/{doi_suffix}.pdf'\n",
    "\n",
    "with open(filename, mode='wb') as f:\n",
    "    f.write(publisher_response.content)\n",
    "\n",
    "except Exception as e:\n",
    "print(f'Exception at DOI {doi}')\n",
    "print(e)\n",
    "out.update({'error': e})\n",
    "\n",
    "return out"
   ]
  },
  {
   "cell_type": "code",
   "execution_count": null,
   "id": "0c6aa36d",
   "metadata": {},
   "outputs": [],
   "source": []
  },
  {
   "cell_type": "code",
   "execution_count": null,
   "id": "96a56c94",
   "metadata": {},
   "outputs": [],
   "source": [
    "res = []\n",
    "for i, row in tqdm(cdn.iterrows(), total=cdn.shape[0]):\n",
    "    temp = crossref_pdf_download(\n",
    "        doi=row['doi'],\n",
    "        accept=accept,\n",
    "        dest=dest_folder,\n",
    "        user_agent=user_agent,\n",
    "        verify=True)\n",
    "    res.append(temp)"
   ]
  }
 ],
 "metadata": {
  "kernelspec": {
   "display_name": "Python 3 (ipykernel)",
   "language": "python",
   "name": "python3"
  },
  "language_info": {
   "codemirror_mode": {
    "name": "ipython",
    "version": 3
   },
   "file_extension": ".py",
   "mimetype": "text/x-python",
   "name": "python",
   "nbconvert_exporter": "python",
   "pygments_lexer": "ipython3",
   "version": "3.8.8"
  }
 },
 "nbformat": 4,
 "nbformat_minor": 5
}
