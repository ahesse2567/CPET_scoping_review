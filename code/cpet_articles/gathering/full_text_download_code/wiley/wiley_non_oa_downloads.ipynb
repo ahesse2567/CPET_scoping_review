{
 "cells": [
  {
   "cell_type": "code",
   "execution_count": 256,
   "id": "0f4487b6",
   "metadata": {},
   "outputs": [],
   "source": [
    "# import sys\n",
    "# sys.path.append('/Users/antonhesse/Desktop/Anton/Education/UMN/Lab and Research/HSPL/CPET_scoping_review/code/cpet_articles/gathering/full-text_download_code/helper_funcs')\n",
    "# from crossref_pdf_download import crossref_pdf_download\n",
    "import pandas as pd\n",
    "from tqdm import tqdm\n",
    "import json\n",
    "import requests\n",
    "from pathlib import Path\n",
    "import re\n",
    "import random\n",
    "import numpy as np\n",
    "import time"
   ]
  },
  {
   "cell_type": "code",
   "execution_count": 257,
   "id": "014ba016-85bb-4ef1-86fc-583e1d2b2fd9",
   "metadata": {},
   "outputs": [],
   "source": [
    "def get_publisher_download_url(crossref_resp):\n",
    "    # search for 'text-mining' in the intended-application field\n",
    "    text_mining = []\n",
    "    for link in crossref_response.json()['link']:\n",
    "        if re.search(r'text-mining',link['intended-application']):\n",
    "            text_mining.append(re.search('text-mining', link['intended-application']))\n",
    "        else:\n",
    "            text_mining.append(None)\n",
    "            \n",
    "    # find the index of match obects in crossref link information\n",
    "    publisher_api_idxs = np.where(np.array(text_mining) != None)[0].tolist()\n",
    "    # wiley_api_idxs\n",
    "    links = [crossref_response.json()['link'][i] for i in publisher_api_idxs]\n",
    "    # for now use the first link if there are more than one link\n",
    "    full_text_link = links[0]['URL']\n",
    "    return full_text_link"
   ]
  },
  {
   "cell_type": "code",
   "execution_count": 258,
   "id": "cbc0cf05-1930-4145-a647-91af52181dbc",
   "metadata": {},
   "outputs": [],
   "source": [
    "with open('/Users/antonhesse/Desktop/Anton/Education/UMN/Lab and Research/HSPL/CPET_scoping_review/code/cpet_articles/gathering/full-text_download_code/wiley/wiley_config.json') as config_file:\n",
    "    wiley_token = json.load(config_file)['api_key']"
   ]
  },
  {
   "cell_type": "code",
   "execution_count": 259,
   "id": "665d1e78-5c0a-4cdf-a8bd-ddd5973b021f",
   "metadata": {},
   "outputs": [],
   "source": [
    "# wiley_non_oa_status_codes = pd.read_csv('/Users/antonhesse/Desktop/Anton/Education/UMN/Lab and Research/HSPL/CPET_scoping_review/data/cpet_articles/unpaywall/wiley_non_oa_status_codes.csv')\n",
    "# non200 = wiley_non_oa_status_codes[wiley_non_oa_status_codes['publisher_status_code'] != 200]\n",
    "# non200.shape"
   ]
  },
  {
   "cell_type": "code",
   "execution_count": 260,
   "id": "f46efc8a-963c-43e2-bc1c-c620ffc14b4a",
   "metadata": {},
   "outputs": [
    {
     "data": {
      "text/plain": [
       "12659"
      ]
     },
     "execution_count": 260,
     "metadata": {},
     "output_type": "execute_result"
    }
   ],
   "source": [
    "pdf_file_paths = list(Path('/Users/antonhesse/Desktop/Anton/Education/UMN/Lab and Research/HSPL/CPET_scoping_review/data/cpet_articles/full_texts/pdfs').rglob('*/*.pdf'))\n",
    "pdfs = [path.stem for path in pdf_file_paths]\n",
    "len(pdfs)"
   ]
  },
  {
   "cell_type": "code",
   "execution_count": 261,
   "id": "6d7d3ece-82ec-4b2e-9d34-135825122ed2",
   "metadata": {},
   "outputs": [],
   "source": [
    "articles = pd.read_csv('/Users/antonhesse/Desktop/Anton/Education/UMN/Lab and Research/HSPL/CPET_scoping_review/data/cpet_articles/unpaywall/unpaywall_info.csv')\n",
    "wiley_ca_articles = articles[(articles['publisher'] == 'Wiley') & (articles['is_oa'] == False)].drop_duplicates().reset_index(drop=True)"
   ]
  },
  {
   "cell_type": "code",
   "execution_count": 262,
   "id": "7995b8f0-0a18-442f-806c-8856ec96c40f",
   "metadata": {},
   "outputs": [],
   "source": [
    "re_doi_suffix = re.compile(r'(?<=\\d/).*')\n",
    "wiley_ca_articles['doi_suffix'] = wiley_ca_articles['doi'].apply(lambda x: re_doi_suffix.search(x).group())"
   ]
  },
  {
   "cell_type": "code",
   "execution_count": 263,
   "id": "f1afea43-d5a3-4290-b16f-fde3959db099",
   "metadata": {},
   "outputs": [
    {
     "data": {
      "text/plain": [
       "(836, 50)"
      ]
     },
     "execution_count": 263,
     "metadata": {},
     "output_type": "execute_result"
    }
   ],
   "source": [
    "full_texts_to_download = [x for x in wiley_ca_articles['doi_suffix'].tolist() if x not in pdfs]\n",
    "merge = pd.merge(pd.DataFrame({'doi_suffix': full_texts_to_download}), wiley_ca_articles, how='inner', on='doi_suffix')\n",
    "merge.shape"
   ]
  },
  {
   "cell_type": "code",
   "execution_count": 264,
   "id": "b48ff0dd-c7ea-4972-b9b9-4828ca66732e",
   "metadata": {},
   "outputs": [],
   "source": [
    "user_agent = 'Mozilla/5.0 (Macintosh; Intel Mac OS X 10.15; rv:101.0) Gecko/20100101 Firefox/101.0'\n",
    "accept = 'application/vnd.citationstyles.csl+json, application/vnd.crossref.unixref+xml'\n",
    "dest_folder = '/Users/antonhesse/Desktop/Anton/Education/UMN/Lab and Research/HSPL/CPET_scoping_review/data/cpet_articles/full_texts/pdfs/wiley_non_oa'"
   ]
  },
  {
   "cell_type": "code",
   "execution_count": 265,
   "id": "e7be3c9d-cbfd-4aea-a456-023a9aaffca4",
   "metadata": {},
   "outputs": [],
   "source": [
    "# n = random.randint(0, merge.shape[0])\n",
    "# row = merge.loc[n,:]\n",
    "# doi = row['doi']\n",
    "# doi"
   ]
  },
  {
   "cell_type": "code",
   "execution_count": 266,
   "id": "f7d1f358-b4d4-42e8-af52-ebc769f81251",
   "metadata": {},
   "outputs": [],
   "source": [
    "# doi = row['doi']\n",
    "# out = {'doi': doi}\n",
    "# doi_url = 'https://doi.org/' + str(doi)\n",
    "# crossref_headers = {'Accept': accept, 'User-Agent': user_agent}\n",
    "# try:\n",
    "#     crossref_response = requests.get(\n",
    "#                     url = doi_url,\n",
    "#                     headers=crossref_headers,\n",
    "#                     allow_redirects=True,\n",
    "#                     verify=True)\n",
    "#     out.update({'CR_status_code': crossref_response.status_code})\n",
    "\n",
    "#     if crossref_response.status_code == 200:\n",
    "#         full_text_url = get_publisher_download_url(crossref_response)\n",
    "#         publisher_headers = {\n",
    "#             'User-Agent': user_agent,\n",
    "#             'Wiley-TDM-Client-Token': wiley_token,\n",
    "#             # 'CR-TDM-Rate-Limit': '1000',\n",
    "#             # 'CR-TDM-Rate-Limit-Remaining': '76',\n",
    "#             # 'CR-TDM-Rate-Limit-Reset': '1378072800'\n",
    "#         }\n",
    "#         publisher_response = requests.get(full_text_url, headers = publisher_headers, allow_redirects=True)\n",
    "#         out.update({'publisher_status_code': publisher_response.status_code})\n",
    "#         if publisher_response.status_code == 200:\n",
    "#             doi_suffix = str(doi.split('/', 1)[1:]).strip(\"[']\")\n",
    "#             filename = f'{dest_folder}/{doi_suffix}.pdf'\n",
    "#             with open(filename, mode='wb') as f:\n",
    "#                 f.write(publisher_response.content)\n",
    "# except Exception as e:\n",
    "#     print(e)\n",
    "#     out.update({'error': e})\n",
    "\n",
    "# print(publisher_response.status_code)"
   ]
  },
  {
   "cell_type": "code",
   "execution_count": 267,
   "id": "cac69897-804f-4aba-a6d0-962c06354d30",
   "metadata": {},
   "outputs": [],
   "source": [
    "log = []"
   ]
  },
  {
   "cell_type": "code",
   "execution_count": null,
   "id": "a44834d6-20f6-427e-91c4-8d073d116c43",
   "metadata": {},
   "outputs": [],
   "source": [
    "for idx, row in tqdm(merge.iterrows(), total=merge.shape[0]):\n",
    "    doi = row['doi']\n",
    "    out = {'doi': doi}\n",
    "    doi_url = 'https://doi.org/' + str(doi)\n",
    "    crossref_headers = {'Accept': accept, 'User-Agent': user_agent}\n",
    "    try:\n",
    "        crossref_response = requests.get(\n",
    "                        url = doi_url,\n",
    "                        headers=crossref_headers,\n",
    "                        allow_redirects=True,\n",
    "                        verify=True)\n",
    "        out.update({'CR_status_code': crossref_response.status_code})\n",
    "\n",
    "        if crossref_response.status_code == 200:\n",
    "            full_text_url = get_publisher_download_url(crossref_response)\n",
    "            publisher_headers = {\n",
    "                'User-Agent': user_agent,\n",
    "                'Wiley-TDM-Client-Token': wiley_token,\n",
    "                # 'CR-TDM-Rate-Limit': '1000',\n",
    "                # 'CR-TDM-Rate-Limit-Remaining': '76',\n",
    "                # 'CR-TDM-Rate-Limit-Reset': '1378072800'\n",
    "            }\n",
    "            publisher_response = requests.get(full_text_url, headers = publisher_headers, allow_redirects=True)\n",
    "            out.update({'publisher_status_code': publisher_response.status_code})\n",
    "            if publisher_response.status_code == 200:\n",
    "                doi_suffix = str(doi.split('/', 1)[1:]).strip(\"[']\")\n",
    "                filename = f'{dest_folder}/{doi_suffix}.pdf'\n",
    "                with open(filename, mode='wb') as f:\n",
    "                    f.write(publisher_response.content)\n",
    "    except Exception as e:\n",
    "        print(e)\n",
    "        out.update({'error': e})\n",
    "    time.sleep(0.35)\n",
    "\n",
    "    log.append(out)"
   ]
  },
  {
   "cell_type": "code",
   "execution_count": 269,
   "id": "ea964398-93f0-41b6-9059-f64455cb88fc",
   "metadata": {},
   "outputs": [
    {
     "data": {
      "text/html": [
       "<div>\n",
       "<style scoped>\n",
       "    .dataframe tbody tr th:only-of-type {\n",
       "        vertical-align: middle;\n",
       "    }\n",
       "\n",
       "    .dataframe tbody tr th {\n",
       "        vertical-align: top;\n",
       "    }\n",
       "\n",
       "    .dataframe thead th {\n",
       "        text-align: right;\n",
       "    }\n",
       "</style>\n",
       "<table border=\"1\" class=\"dataframe\">\n",
       "  <thead>\n",
       "    <tr style=\"text-align: right;\">\n",
       "      <th></th>\n",
       "      <th>doi</th>\n",
       "      <th>CR_status_code</th>\n",
       "      <th>publisher_status_code</th>\n",
       "      <th>error</th>\n",
       "    </tr>\n",
       "  </thead>\n",
       "  <tbody>\n",
       "    <tr>\n",
       "      <th>0</th>\n",
       "      <td>10.1113/ep090105</td>\n",
       "      <td>200</td>\n",
       "      <td>503.0</td>\n",
       "      <td>NaN</td>\n",
       "    </tr>\n",
       "    <tr>\n",
       "      <th>1</th>\n",
       "      <td>10.1111/acer.14742</td>\n",
       "      <td>200</td>\n",
       "      <td>503.0</td>\n",
       "      <td>NaN</td>\n",
       "    </tr>\n",
       "    <tr>\n",
       "      <th>2</th>\n",
       "      <td>10.1111/apha.13785</td>\n",
       "      <td>200</td>\n",
       "      <td>503.0</td>\n",
       "      <td>NaN</td>\n",
       "    </tr>\n",
       "    <tr>\n",
       "      <th>3</th>\n",
       "      <td>10.1111/apha.13776</td>\n",
       "      <td>200</td>\n",
       "      <td>503.0</td>\n",
       "      <td>NaN</td>\n",
       "    </tr>\n",
       "    <tr>\n",
       "      <th>4</th>\n",
       "      <td>10.1111/psyp.13980</td>\n",
       "      <td>200</td>\n",
       "      <td>503.0</td>\n",
       "      <td>NaN</td>\n",
       "    </tr>\n",
       "    <tr>\n",
       "      <th>...</th>\n",
       "      <td>...</td>\n",
       "      <td>...</td>\n",
       "      <td>...</td>\n",
       "      <td>...</td>\n",
       "    </tr>\n",
       "    <tr>\n",
       "      <th>831</th>\n",
       "      <td>10.1007/s11745-005-1381-5</td>\n",
       "      <td>200</td>\n",
       "      <td>NaN</td>\n",
       "      <td>list index out of range</td>\n",
       "    </tr>\n",
       "    <tr>\n",
       "      <th>832</th>\n",
       "      <td>10.1136/vr.135.21.499</td>\n",
       "      <td>200</td>\n",
       "      <td>NaN</td>\n",
       "      <td>list index out of range</td>\n",
       "    </tr>\n",
       "    <tr>\n",
       "      <th>833</th>\n",
       "      <td>10.1113/jp282371</td>\n",
       "      <td>200</td>\n",
       "      <td>503.0</td>\n",
       "      <td>NaN</td>\n",
       "    </tr>\n",
       "    <tr>\n",
       "      <th>834</th>\n",
       "      <td>10.1113/ep090422</td>\n",
       "      <td>200</td>\n",
       "      <td>503.0</td>\n",
       "      <td>NaN</td>\n",
       "    </tr>\n",
       "    <tr>\n",
       "      <th>835</th>\n",
       "      <td>10.1111/cpf.12760</td>\n",
       "      <td>200</td>\n",
       "      <td>503.0</td>\n",
       "      <td>NaN</td>\n",
       "    </tr>\n",
       "  </tbody>\n",
       "</table>\n",
       "<p>836 rows × 4 columns</p>\n",
       "</div>"
      ],
      "text/plain": [
       "                           doi  CR_status_code  publisher_status_code  \\\n",
       "0             10.1113/ep090105             200                  503.0   \n",
       "1           10.1111/acer.14742             200                  503.0   \n",
       "2           10.1111/apha.13785             200                  503.0   \n",
       "3           10.1111/apha.13776             200                  503.0   \n",
       "4           10.1111/psyp.13980             200                  503.0   \n",
       "..                         ...             ...                    ...   \n",
       "831  10.1007/s11745-005-1381-5             200                    NaN   \n",
       "832      10.1136/vr.135.21.499             200                    NaN   \n",
       "833           10.1113/jp282371             200                  503.0   \n",
       "834           10.1113/ep090422             200                  503.0   \n",
       "835          10.1111/cpf.12760             200                  503.0   \n",
       "\n",
       "                       error  \n",
       "0                        NaN  \n",
       "1                        NaN  \n",
       "2                        NaN  \n",
       "3                        NaN  \n",
       "4                        NaN  \n",
       "..                       ...  \n",
       "831  list index out of range  \n",
       "832  list index out of range  \n",
       "833                      NaN  \n",
       "834                      NaN  \n",
       "835                      NaN  \n",
       "\n",
       "[836 rows x 4 columns]"
      ]
     },
     "execution_count": 269,
     "metadata": {},
     "output_type": "execute_result"
    }
   ],
   "source": [
    "log_df = pd.DataFrame(log)\n",
    "log_df"
   ]
  },
  {
   "cell_type": "code",
   "execution_count": 280,
   "id": "15a9a903-7eb9-47ef-9130-3a2854c26963",
   "metadata": {},
   "outputs": [],
   "source": [
    "non200 = log_df[log_df['publisher_status_code'] != 200].reset_index(drop=True)\n",
    "# non200.shape"
   ]
  },
  {
   "cell_type": "code",
   "execution_count": 281,
   "id": "9c9cd6fa-be0b-4678-94c3-1c2a91b4881e",
   "metadata": {},
   "outputs": [],
   "source": [
    "wiley_errors = pd.merge(non200, merge, how='inner', on='doi')\n",
    "wiley_errors.to_csv('/Users/antonhesse/Desktop/Anton/Education/UMN/Lab and Research/HSPL/CPET_scoping_review/data/cpet_articles/unpaywall/wiley_non_oa_status_codes.csv',\n",
    "                    index=False)"
   ]
  },
  {
   "cell_type": "code",
   "execution_count": 283,
   "id": "44bd6a9b-c23b-4b58-9801-67c52597decf",
   "metadata": {},
   "outputs": [
    {
     "data": {
      "text/plain": [
       "(693, 53)"
      ]
     },
     "execution_count": 283,
     "metadata": {},
     "output_type": "execute_result"
    }
   ],
   "source": [
    "wiley_errors.shape"
   ]
  },
  {
   "cell_type": "code",
   "execution_count": null,
   "id": "8ae899fe-3870-4236-af54-8893e2906350",
   "metadata": {},
   "outputs": [],
   "source": []
  }
 ],
 "metadata": {
  "kernelspec": {
   "display_name": "Python 3 (ipykernel)",
   "language": "python",
   "name": "python3"
  },
  "language_info": {
   "codemirror_mode": {
    "name": "ipython",
    "version": 3
   },
   "file_extension": ".py",
   "mimetype": "text/x-python",
   "name": "python",
   "nbconvert_exporter": "python",
   "pygments_lexer": "ipython3",
   "version": "3.8.8"
  }
 },
 "nbformat": 4,
 "nbformat_minor": 5
}
