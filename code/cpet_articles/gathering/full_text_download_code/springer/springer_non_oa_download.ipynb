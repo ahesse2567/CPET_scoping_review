{
 "cells": [
  {
   "cell_type": "code",
   "execution_count": 28,
   "id": "8fee1810-8be2-4195-9670-f6f75b475ac7",
   "metadata": {},
   "outputs": [],
   "source": [
    "import requests\n",
    "import pandas as pd\n",
    "import requests\n",
    "import json\n",
    "from tqdm import tqdm\n",
    "from pathlib import Path\n",
    "import re"
   ]
  },
  {
   "cell_type": "code",
   "execution_count": 31,
   "id": "35d0e431-cad7-4691-9df7-9b706a86df62",
   "metadata": {},
   "outputs": [],
   "source": [
    "def download_pdf(doi, dest_folder, content):\n",
    "    doi_suffix = str(doi.split('/', 1)[1:]).strip(\"[']\")\n",
    "    doi_suffix = re.sub(r\"\"\"([()/\\\\*,\"': ?;<>])\"\"\", '_._', doi_suffix)\n",
    "    filename = dest_folder + '/' + str(doi_suffix)+'.pdf'\n",
    "    with open(filename, mode = 'wb') as f:\n",
    "        f.write(content)"
   ]
  },
  {
   "cell_type": "code",
   "execution_count": 23,
   "id": "347517fb-91f3-4d6f-8530-8e8c4175c340",
   "metadata": {},
   "outputs": [],
   "source": [
    "with open('/Users/antonhesse/Desktop/Anton/Education/UMN/Lab and Research/HSPL/CPET_scoping_review/code/cpet_articles/gathering/full-text_download_code/springer/springer_config.json') as config_file:\n",
    "    api_key = json.load(config_file)['api_key']"
   ]
  },
  {
   "cell_type": "code",
   "execution_count": 24,
   "id": "b813d03e-1829-4bae-b604-9e8ff1119a11",
   "metadata": {},
   "outputs": [],
   "source": [
    "articles = pd.read_csv('/Users/antonhesse/Desktop/Anton/Education/UMN/Lab and Research/HSPL/CPET_scoping_review/data/cpet_articles/unpaywall/unpaywall_info.csv')\n",
    "springer_non_oa_articles = articles[(articles['is_oa'] == False) & \\\n",
    "    ((articles['publisher'] == 'Springer Science and Business Media LLC') | \\\n",
    "     (articles['publisher'] == 'Springer Nature') | \\\n",
    "     (articles['publisher'] == 'Springer International Publishing'))].drop_duplicates().reset_index(drop=True)"
   ]
  },
  {
   "cell_type": "code",
   "execution_count": 25,
   "id": "71fbcdb9-3ec7-4d0c-bda4-fcae5a886268",
   "metadata": {},
   "outputs": [
    {
     "data": {
      "text/plain": [
       "Springer Science and Business Media LLC    2276\n",
       "Springer Nature                             205\n",
       "Springer International Publishing            31\n",
       "Name: publisher, dtype: int64"
      ]
     },
     "execution_count": 25,
     "metadata": {},
     "output_type": "execute_result"
    }
   ],
   "source": [
    "springer_non_oa_articles['publisher'].value_counts()"
   ]
  },
  {
   "cell_type": "code",
   "execution_count": 26,
   "id": "36b2db34-4175-450a-84fb-488bd6bf4ba0",
   "metadata": {},
   "outputs": [],
   "source": [
    "pdf_file_paths = list(Path('/Users/antonhesse/Desktop/Anton/Education/UMN/Lab and Research/HSPL/CPET_scoping_review/data/cpet_articles/full_texts/pdfs').rglob('*/*.pdf'))\n",
    "pdfs = [path.stem for path in pdf_file_paths]"
   ]
  },
  {
   "cell_type": "code",
   "execution_count": 29,
   "id": "160a6536-eacd-4398-87e9-23c4c59ee81e",
   "metadata": {},
   "outputs": [
    {
     "data": {
      "text/plain": [
       "(296, 50)"
      ]
     },
     "execution_count": 29,
     "metadata": {},
     "output_type": "execute_result"
    }
   ],
   "source": [
    "re_doi_suffix = re.compile(r'(?<=\\d/).*')\n",
    "springer_non_oa_articles['doi_suffix'] = springer_non_oa_articles['doi'].apply(lambda x: re_doi_suffix.search(x).group())\n",
    "full_texts_to_download = [x for x in springer_non_oa_articles['doi_suffix'].tolist() if x not in pdfs]\n",
    "merge = pd.merge(pd.DataFrame({'doi_suffix': full_texts_to_download}), springer_non_oa_articles, how='inner', on='doi_suffix')\n",
    "merge.shape"
   ]
  },
  {
   "cell_type": "code",
   "execution_count": 41,
   "id": "93ce4b23-4044-4c64-8d7f-95f7f7ca28c7",
   "metadata": {},
   "outputs": [],
   "source": [
    "springer_api_url = 'https://api.springernature.com/meta/v2/json?'\n",
    "headers = {'User-Agent': 'Mozilla/5.0 (Macintosh; Intel Mac OS X 10.15; rv:100.0) Gecko/20100101 Firefox/100.0'}\n",
    "folder = '/Users/antonhesse/Desktop/Anton/Education/UMN/Lab and Research/HSPL/CPET_scoping_review/data/cpet_articles/full_texts/pdfs/springer_non_oa'"
   ]
  },
  {
   "cell_type": "code",
   "execution_count": 42,
   "id": "95e296ae-9c4b-47f2-8570-c68cbe5c955a",
   "metadata": {},
   "outputs": [],
   "source": [
    "log = []"
   ]
  },
  {
   "cell_type": "code",
   "execution_count": 43,
   "id": "6c6ccda7-db66-4d08-accb-c5bddab84de7",
   "metadata": {},
   "outputs": [
    {
     "name": "stderr",
     "output_type": "stream",
     "text": [
      " 11%|█         | 33/296 [02:03<14:02,  3.20s/it]"
     ]
    },
    {
     "name": "stdout",
     "output_type": "stream",
     "text": [
      "HTTPSConnectionPool(host='41110.springer.com', port=443): Max retries exceeded with url: /track/pdf/10.1186/s41110-020-00121-5.pdf (Caused by NewConnectionError('<urllib3.connection.HTTPSConnection object at 0x7fae39b4bac0>: Failed to establish a new connection: [Errno 8] nodename nor servname provided, or not known')) at index 32 for DOI 10.1007/s00421-009-1351-8\n"
     ]
    },
    {
     "name": "stderr",
     "output_type": "stream",
     "text": [
      " 12%|█▏        | 35/296 [02:07<11:38,  2.68s/it]"
     ]
    },
    {
     "name": "stdout",
     "output_type": "stream",
     "text": [
      "HTTPSConnectionPool(host='40200.springer.com', port=443): Max retries exceeded with url: /track/pdf/10.1007/s40200-021-00759-6.pdf (Caused by NewConnectionError('<urllib3.connection.HTTPSConnection object at 0x7fae39970eb0>: Failed to establish a new connection: [Errno 8] nodename nor servname provided, or not known')) at index 34 for DOI 10.1007/s00421-006-0294-6\n"
     ]
    },
    {
     "name": "stderr",
     "output_type": "stream",
     "text": [
      " 23%|██▎       | 67/296 [03:44<08:34,  2.25s/it]"
     ]
    },
    {
     "name": "stdout",
     "output_type": "stream",
     "text": [
      "list index out of range at index 66 for DOI 10.1265/ehpm.2000.6\n"
     ]
    },
    {
     "name": "stderr",
     "output_type": "stream",
     "text": [
      " 25%|██▌       | 75/296 [03:53<04:21,  1.18s/it]"
     ]
    },
    {
     "name": "stdout",
     "output_type": "stream",
     "text": [
      "HTTPSConnectionPool(host='13167.springer.com', port=443): Max retries exceeded with url: /track/pdf/10.1007/s13167-021-00262-1.pdf (Caused by NewConnectionError('<urllib3.connection.HTTPSConnection object at 0x7fae39978550>: Failed to establish a new connection: [Errno 8] nodename nor servname provided, or not known')) at index 74 for DOI 10.1007/s004210050150\n"
     ]
    },
    {
     "name": "stderr",
     "output_type": "stream",
     "text": [
      " 45%|████▌     | 134/296 [07:40<08:17,  3.07s/it]"
     ]
    },
    {
     "name": "stdout",
     "output_type": "stream",
     "text": [
      "list index out of range at index 133 for DOI 10.1038/clpt.1993.70\n"
     ]
    },
    {
     "name": "stderr",
     "output_type": "stream",
     "text": [
      " 73%|███████▎  | 215/296 [13:18<03:10,  2.35s/it]"
     ]
    },
    {
     "name": "stdout",
     "output_type": "stream",
     "text": [
      "list index out of range at index 214 for DOI 10.1038/clpt.1983.96\n"
     ]
    },
    {
     "name": "stderr",
     "output_type": "stream",
     "text": [
      " 77%|███████▋  | 229/296 [14:12<04:54,  4.40s/it]"
     ]
    },
    {
     "name": "stdout",
     "output_type": "stream",
     "text": [
      "list index out of range at index 228 for DOI 10.1038/clpt.1980.107\n"
     ]
    },
    {
     "name": "stderr",
     "output_type": "stream",
     "text": [
      "100%|██████████| 296/296 [17:09<00:00,  3.48s/it]\n"
     ]
    }
   ],
   "source": [
    "for i, row in tqdm(merge.iterrows(), total=merge.shape[0]):\n",
    "    doi = row['doi']\n",
    "    out = {'doi': doi}\n",
    "    params = {\n",
    "    'api_key': api_key,\n",
    "    'q': doi\n",
    "    }\n",
    "\n",
    "    try:\n",
    "        response = requests.get(url = springer_api_url, params = params, headers=headers, allow_redirects=True)\n",
    "        out.update({'query_status_code': response.status_code})\n",
    "                    \n",
    "        if response.status_code == 200:\n",
    "            pdf_url = response.json()['records'][0]['url'][1]['value']\n",
    "            pdf_response = requests.get(pdf_url, stream=True, allow_redirects=True)\n",
    "            out.update({'pdf_status_code': pdf_response.status_code})\n",
    "                    \n",
    "            if pdf_response.status_code == 200:\n",
    "                download_pdf(doi, dest_folder=folder, content=pdf_response.content)\n",
    "\n",
    "    except Exception as e:\n",
    "        print(f'{e} at index {i} for DOI {doi}')\n",
    "        out.update({'error': e})\n",
    "    \n",
    "    log.append(out)\n"
   ]
  },
  {
   "cell_type": "code",
   "execution_count": null,
   "id": "c06a8c0e-e48a-49d9-ab32-70f3e030ea02",
   "metadata": {},
   "outputs": [],
   "source": [
    "log_df = pd.DataFrame(log)"
   ]
  }
 ],
 "metadata": {
  "kernelspec": {
   "display_name": "Python 3 (ipykernel)",
   "language": "python",
   "name": "python3"
  },
  "language_info": {
   "codemirror_mode": {
    "name": "ipython",
    "version": 3
   },
   "file_extension": ".py",
   "mimetype": "text/x-python",
   "name": "python",
   "nbconvert_exporter": "python",
   "pygments_lexer": "ipython3",
   "version": "3.8.8"
  }
 },
 "nbformat": 4,
 "nbformat_minor": 5
}
