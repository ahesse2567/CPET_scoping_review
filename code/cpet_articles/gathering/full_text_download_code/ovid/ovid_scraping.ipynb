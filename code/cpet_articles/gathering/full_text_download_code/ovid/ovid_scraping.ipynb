{
 "cells": [
  {
   "cell_type": "code",
   "execution_count": 118,
   "id": "b449d4eb-cd7e-40e0-8f31-7b2621de7185",
   "metadata": {},
   "outputs": [],
   "source": [
    "# selenium 3\n",
    "from selenium import webdriver\n",
    "from webdriver_manager.firefox import GeckoDriverManager\n",
    "from selenium.webdriver.support.ui import WebDriverWait\n",
    "# from selenium.webdriver.chrome.options import Options as FirefoxOptions\n",
    "# firefox_options = FirefoxOptions()\n",
    "# firefox_options.add_argument(\"--headless\")\n",
    "import pandas as pd\n",
    "import requests\n",
    "import random"
   ]
  },
  {
   "cell_type": "code",
   "execution_count": 143,
   "id": "b7b4e7a7-9a51-4b89-914c-4de39bea9ab0",
   "metadata": {},
   "outputs": [
    {
     "name": "stdout",
     "output_type": "stream",
     "text": [
      "\n"
     ]
    }
   ],
   "source": [
    "driver = webdriver.Firefox(executable_path=GeckoDriverManager().install())"
   ]
  },
  {
   "cell_type": "code",
   "execution_count": 120,
   "id": "d46bc75c-4c01-401b-b0c4-4d56330f1032",
   "metadata": {},
   "outputs": [],
   "source": [
    "articles = pd.read_csv('/Users/antonhesse/Desktop/Anton/Education/UMN/Lab and Research/HSPL/CPET_scoping_review/data/cpet_articles/unpaywall/unpaywall_info.csv')\n",
    "ovid_ca_articles = articles[(articles['is_oa'] == False) & (articles['publisher'] == 'Ovid Technologies (Wolters Kluwer Health)')].reset_index(drop=True)"
   ]
  },
  {
   "cell_type": "code",
   "execution_count": 121,
   "id": "c7e20b4f-b918-4255-9d01-a70a0e624848",
   "metadata": {},
   "outputs": [],
   "source": [
    "n = random.randint(0, ovid_ca_articles.shape[0])\n",
    "doi_url = ovid_ca_articles.loc[n, 'doi_url']"
   ]
  },
  {
   "cell_type": "code",
   "execution_count": 122,
   "id": "9da7e6e0-136c-4dde-9f2d-ca6115a4caad",
   "metadata": {},
   "outputs": [
    {
     "data": {
      "text/plain": [
       "'https://journals.lww.com/acsm-msse/Abstract/1994/01000/Comparison_of_cardiopulmonary_responses_to_forward.15.aspx'"
      ]
     },
     "execution_count": 122,
     "metadata": {},
     "output_type": "execute_result"
    }
   ],
   "source": [
    "headers = {'User-Agent': 'Mozilla/5.0 (Macintosh; Intel Mac OS X 10.15; rv:102.0) Gecko/20100101 Firefox/102.0'}\n",
    "r = requests.get(doi_url, headers=headers)\n",
    "r.url"
   ]
  },
  {
   "cell_type": "code",
   "execution_count": 144,
   "id": "6590237c-1012-40e5-b832-956d97868f42",
   "metadata": {},
   "outputs": [],
   "source": [
    "driver.get(r.url)\n",
    "driver.implicitly_wait(5) # hopefully let's JS load correctly"
   ]
  },
  {
   "cell_type": "code",
   "execution_count": 134,
   "id": "9195f30f-241b-4b40-9b00-24244ab20cdb",
   "metadata": {},
   "outputs": [],
   "source": [
    "# pdf_download_icon = driver.find_element_by_class_name('icon-pdf')\n",
    "# pdf_download_icon.get_attribute('innerHTML')"
   ]
  },
  {
   "cell_type": "code",
   "execution_count": 155,
   "id": "cdfa3fea-3d30-47f5-abe9-12468856cc9a",
   "metadata": {},
   "outputs": [],
   "source": [
    "outer_pdf_button = driver.find_element_by_class_name('icon-pdf').find_element_by_xpath(\"../../..\")\n",
    "inner_pdf_icon = outer_pdf_button.find_element_by_xpath(\"//*[text()='PDF']\")\n",
    "# also will need to add text to find EPUBs if PDF is not available\n",
    "pdf_download_button = inner_pdf_icon.find_element_by_xpath('..')\n",
    "outer_pdf_button.click()"
   ]
  },
  {
   "cell_type": "code",
   "execution_count": 156,
   "id": "120da362-8e9a-44fd-91fe-e8e3e2e70733",
   "metadata": {},
   "outputs": [],
   "source": [
    "pdf_download_button.click()"
   ]
  },
  {
   "cell_type": "code",
   "execution_count": 157,
   "id": "88a91709-d9f2-41d3-b26c-4098a25d6b8f",
   "metadata": {},
   "outputs": [],
   "source": [
    "# switch to new tab\n",
    "p = driver.current_window_handle\n",
    "chwd = driver.window_handles\n",
    "for w in chwd:\n",
    "    if(w != p):\n",
    "        driver.switch_to.window(w)"
   ]
  },
  {
   "cell_type": "code",
   "execution_count": 133,
   "id": "48378af7-8a25-4857-b860-c9b01ff65673",
   "metadata": {},
   "outputs": [],
   "source": [
    "# try: inner_pdf_button = outer_pdf_button.find_element_by_xpath(\"//*[text()='PDF']\")\n",
    "\n",
    "# except NoSuchElementException as e:\n",
    "#     print(e)\n",
    "#     try: inner_epub_button = outer_pdf_button.find_element_by_xpath(\"//*[text()='epub']\")"
   ]
  },
  {
   "cell_type": "code",
   "execution_count": 158,
   "id": "5530b330-94ee-4028-b1ab-477c47f415a0",
   "metadata": {},
   "outputs": [
    {
     "data": {
      "text/plain": [
       "200"
      ]
     },
     "execution_count": 158,
     "metadata": {},
     "output_type": "execute_result"
    }
   ],
   "source": [
    "pdf_resp = requests.get(url = driver.current_url, headers = headers)\n",
    "pdf_resp.status_code"
   ]
  },
  {
   "cell_type": "code",
   "execution_count": 159,
   "id": "35c9027d-c0be-4c45-ab3a-376660fb7955",
   "metadata": {},
   "outputs": [],
   "source": [
    "pdf_resp = requests.get(url = driver.current_url, headers = headers)\n",
    "if pdf_resp.status_code == 200:\n",
    "    doi = ovid_ca_articles.loc[n, 'doi']\n",
    "    doi_suffix = str(doi.split('/', 1)[1:]).strip(\"[']\")\n",
    "\n",
    "    folder = '/Users/antonhesse/Desktop/Anton/Education/UMN/Lab and Research/HSPL/CPET_scoping_review/data/cpet_articles/full_texts/pdfs/ovid_non_oa/'\n",
    "    filename = folder + str(doi_suffix)+'.pdf'\n",
    "    \n",
    "    with open(filename, mode = 'wb') as f:\n",
    "        f.write(pdf_resp.content)"
   ]
  },
  {
   "cell_type": "code",
   "execution_count": 96,
   "id": "c4937d00-c8a0-4a33-b6c5-86e210710d0b",
   "metadata": {},
   "outputs": [
    {
     "data": {
      "text/plain": [
       "'https://pdfs.journals.lww.com/nsca-jscr/2009/09000/Anthropometric_and_Metabolic_Determinants_of.31.pdf?token=method|ExpireAbsolute;source|Journals;ttl|1658347218237;payload|mY8D3u1TCCsNvP5E421JYK6N6XICDamxByyYpaNzk7FKjTaa1Yz22MivkHZqjGP4kdS2v0J76WGAnHACH69s21Csk0OpQi3YbjEMdSoz2UhVybFqQxA7lKwSUlA502zQZr96TQRwhVlocEp/sJ586aVbcBFlltKNKo+tbuMfL73hiPqJliudqs17cHeLcLbV/CqjlP3IO0jGHlHQtJWcICDdAyGJMnpi6RlbEJaRheGeh5z5uvqz3FLHgPKVXJzdFnRIX3TWX0v40bmDZD8Xeo1WUuSkjtVIabV2xNydipM=;hash|+eVA4bxNgR9BqVArLnxtvw=='"
      ]
     },
     "execution_count": 96,
     "metadata": {},
     "output_type": "execute_result"
    }
   ],
   "source": [
    "driver.current_url"
   ]
  },
  {
   "cell_type": "code",
   "execution_count": 137,
   "id": "6da6d30b-d2d1-4308-8ba7-1bd037e0adaa",
   "metadata": {},
   "outputs": [
    {
     "data": {
      "text/plain": [
       "200"
      ]
     },
     "execution_count": 137,
     "metadata": {},
     "output_type": "execute_result"
    }
   ],
   "source": [
    "pdf_resp.status_code"
   ]
  },
  {
   "cell_type": "code",
   "execution_count": 114,
   "id": "c5ae770d-4d49-40c3-87c7-0325082d3429",
   "metadata": {},
   "outputs": [
    {
     "data": {
      "text/plain": [
       "'/Users/antonhesse/Desktop/Anton/Education/UMN/Lab and Research/HSPL/CPET_scoping_review/data/cpet_articles/full_texts/pdfs/ovid_non_oa/jsc.0b013e3181b3dc7e.pdf'"
      ]
     },
     "execution_count": 114,
     "metadata": {},
     "output_type": "execute_result"
    }
   ],
   "source": [
    "doi = ovid_ca_articles.loc[n, 'doi']\n",
    "doi_suffix = str(doi.split('/', 1)[1:]).strip(\"[']\")\n",
    "\n",
    "folder = '/Users/antonhesse/Desktop/Anton/Education/UMN/Lab and Research/HSPL/CPET_scoping_review/data/cpet_articles/full_texts/pdfs/ovid_non_oa/'\n",
    "filename = folder + str(doi_suffix)+'.pdf'\n",
    "filename"
   ]
  },
  {
   "cell_type": "code",
   "execution_count": 115,
   "id": "61f96d3d-8211-481c-9969-4383e6ea8070",
   "metadata": {},
   "outputs": [],
   "source": [
    "with open(filename, mode = 'wb') as f:\n",
    "    f.write(pdf_resp.content)"
   ]
  },
  {
   "cell_type": "code",
   "execution_count": 141,
   "id": "3704d2d1-c4d5-46a4-b6c9-a4636ca6bb2b",
   "metadata": {},
   "outputs": [],
   "source": [
    "driver.close()"
   ]
  },
  {
   "cell_type": "code",
   "execution_count": 160,
   "id": "846aa803-356f-435a-b796-ef4f5f718f52",
   "metadata": {},
   "outputs": [],
   "source": [
    "driver.quit()"
   ]
  }
 ],
 "metadata": {
  "kernelspec": {
   "display_name": "Python 3 (ipykernel)",
   "language": "python",
   "name": "python3"
  },
  "language_info": {
   "codemirror_mode": {
    "name": "ipython",
    "version": 3
   },
   "file_extension": ".py",
   "mimetype": "text/x-python",
   "name": "python",
   "nbconvert_exporter": "python",
   "pygments_lexer": "ipython3",
   "version": "3.8.8"
  }
 },
 "nbformat": 4,
 "nbformat_minor": 5
}
