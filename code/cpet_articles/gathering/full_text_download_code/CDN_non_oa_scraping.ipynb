{
 "cells": [
  {
   "cell_type": "markdown",
   "id": "4f02e6b5-7e7f-46ff-ad81-d5a59aacfab6",
   "metadata": {},
   "source": [
    "For some reason CDN was being really annoying about returning a status code after I got the pdf url from Crossref. However, when I pasted that same link into my own browser, I downloaded the article just fine. Therefore, I'm using Selenium to automate the clicking for me.\n",
    "\n",
    "I suddently started getting some 403 errors. I'll try again tomorrow."
   ]
  },
  {
   "cell_type": "code",
   "execution_count": 149,
   "id": "8a600631-91b2-4b9e-83c8-c23e755aa162",
   "metadata": {},
   "outputs": [],
   "source": [
    "import pandas as pd\n",
    "from tqdm import tqdm\n",
    "import json\n",
    "import requests\n",
    "from pathlib import Path\n",
    "import re\n",
    "import random\n",
    "import numpy as np\n",
    "import time\n",
    "\n",
    "from selenium import webdriver\n",
    "from selenium.webdriver.firefox.service import Service as FirefoxService\n",
    "from send2trash import send2trash\n",
    "from webdriver_manager.firefox import GeckoDriverManager\n",
    "from selenium.webdriver.common.by import By\n",
    "from tqdm import tqdm"
   ]
  },
  {
   "cell_type": "code",
   "execution_count": 150,
   "id": "36a8c64d-2cef-40e1-a820-6feb51762b14",
   "metadata": {},
   "outputs": [],
   "source": [
    "def download_pdf(doi, dest_folder, content):\n",
    "    doi_suffix = str(doi.split('/', 1)[1:]).strip(\"[']\")\n",
    "    doi_suffix = re.sub(r\"\"\"([()/\\\\*,\"': ?;<>])\"\"\", '_._', doi_suffix)\n",
    "    filename = dest_folder + '/' + str(doi_suffix)+'.pdf'\n",
    "    with open(filename, mode = 'wb') as f:\n",
    "        f.write(content)"
   ]
  },
  {
   "cell_type": "code",
   "execution_count": 151,
   "id": "4e307711-1fa8-4ffd-9ed5-3561aff404c1",
   "metadata": {},
   "outputs": [],
   "source": [
    "def get_publisher_download_url(crossref_resp, intended_app='text-mining'):\n",
    "    # search for 'text-mining' in the intended-application field\n",
    "    res = []\n",
    "    for link in crossref_response.json()['link']:\n",
    "        if re.search(intended_app,link['intended-application']):\n",
    "            res.append(re.search(intended_app, link['intended-application']))\n",
    "        else:\n",
    "            res.append(None)\n",
    "    # find the index of match obects in crossref link information\n",
    "    publisher_api_idxs = np.where(np.array(res) != None)[0].tolist()\n",
    "    # publisher_api_idxs\n",
    "    links = [crossref_response.json()['link'][i] for i in publisher_api_idxs]\n",
    "    # for now use the first link if there are more than one link\n",
    "    full_text_link = links[0]['URL']\n",
    "    return full_text_link"
   ]
  },
  {
   "cell_type": "code",
   "execution_count": 152,
   "id": "9ef1d94a-8de6-4f40-80ec-2b0a9cce4d62",
   "metadata": {},
   "outputs": [],
   "source": [
    "pdf_file_paths = list(Path('/Users/antonhesse/Desktop/Anton/Education/UMN/Lab and Research/HSPL/CPET_scoping_review/data/cpet_articles/full_texts/pdfs').rglob('*/*.pdf'))\n",
    "pdfs = [path.stem for path in pdf_file_paths]"
   ]
  },
  {
   "cell_type": "code",
   "execution_count": null,
   "id": "489c10d1-8d75-4e12-9220-7b37b1dfeeae",
   "metadata": {},
   "outputs": [],
   "source": [
    "articles = pd.read_csv('/Users/antonhesse/Desktop/Anton/Education/UMN/Lab and Research/HSPL/CPET_scoping_review/data/cpet_articles/unpaywall/unpaywall_info.csv')\n",
    "cdn_ca = articles[(articles['is_oa'] == False) & \\\n",
    "    (articles['publisher'] == 'Canadian Science Publishing')].drop_duplicates().reset_index(drop=True)"
   ]
  },
  {
   "cell_type": "code",
   "execution_count": null,
   "id": "3750687f-bb7d-4c2d-b876-a9a6fdc91885",
   "metadata": {},
   "outputs": [
    {
     "data": {
      "text/plain": [
       "(230, 50)"
      ]
     },
     "execution_count": 195,
     "metadata": {},
     "output_type": "execute_result"
    }
   ],
   "source": [
    "re_doi_suffix = re.compile(r'(?<=\\d/).*')\n",
    "cdn_ca['doi_suffix'] = cdn_ca['doi'].apply(lambda x: re_doi_suffix.search(x).group())\n",
    "full_texts_to_download = [x for x in cdn_ca['doi_suffix'].tolist() if x not in pdfs]\n",
    "merge = pd.merge(pd.DataFrame({'doi_suffix': full_texts_to_download}), cdn_ca, how='inner', on='doi_suffix')\n",
    "merge.shape"
   ]
  },
  {
   "cell_type": "code",
   "execution_count": null,
   "id": "77722824-1e81-44e8-b00c-47ac9d5ffa72",
   "metadata": {},
   "outputs": [],
   "source": [
    "user_agent = 'Mozilla/5.0 (Macintosh; Intel Mac OS X 10.15; rv:101.0) Gecko/20100101 Firefox/101.0'\n",
    "accept = 'application/vnd.citationstyles.csl+json, application/vnd.crossref.unixref+xml'\n",
    "dest_folder = '/Users/antonhesse/Desktop/Anton/Education/UMN/Lab and Research/HSPL/CPET_scoping_review/data/cpet_articles/full_texts/pdfs/cdn_non_oa'"
   ]
  },
  {
   "cell_type": "code",
   "execution_count": null,
   "id": "1532699f-e502-46ba-9295-e80d11e414c0",
   "metadata": {},
   "outputs": [
    {
     "name": "stdout",
     "output_type": "stream",
     "text": [
      "\n"
     ]
    }
   ],
   "source": [
    "driver = webdriver.Firefox(service=FirefoxService(GeckoDriverManager().install()))\n",
    "driver.implicitly_wait(1) # hopefully let's JS load correctly"
   ]
  },
  {
   "cell_type": "code",
   "execution_count": null,
   "id": "5b166e0a-6313-4557-961a-e79c06a0cf74",
   "metadata": {},
   "outputs": [
    {
     "data": {
      "text/plain": [
       "'10.2466/pms.2002.95.3f.1035'"
      ]
     },
     "execution_count": 197,
     "metadata": {},
     "output_type": "execute_result"
    }
   ],
   "source": [
    "n = random.randint(0, merge.shape[0])\n",
    "row = merge.loc[n,:]\n",
    "doi = row['doi']\n",
    "doi"
   ]
  },
  {
   "cell_type": "code",
   "execution_count": 193,
   "id": "34833f10-689f-492d-b5ce-4f535fb47c2e",
   "metadata": {},
   "outputs": [
    {
     "data": {
      "text/plain": [
       "'http://www.nrcresearchpress.com/doi/pdf/10.1139/h2012-056'"
      ]
     },
     "execution_count": 193,
     "metadata": {},
     "output_type": "execute_result"
    }
   ],
   "source": [
    "doi = row['doi']\n",
    "out = {'doi': doi}\n",
    "doi_url = 'https://doi.org/' + str(doi)\n",
    "crossref_headers = {'User-Agent': user_agent, 'Accept': accept}\n",
    "crossref_response = requests.get(\n",
    "                url = doi_url,\n",
    "                headers=crossref_headers,\n",
    "                allow_redirects=True,\n",
    "                verify=True)\n",
    "full_text_url = get_publisher_download_url(crossref_response, intended_app='similarity-checking')\n",
    "full_text_url"
   ]
  },
  {
   "cell_type": "code",
   "execution_count": 192,
   "id": "9c0f8a54-a3b7-4f92-ae74-5e9e76ceb0d8",
   "metadata": {},
   "outputs": [
    {
     "data": {
      "text/plain": [
       "[{'URL': 'http://www.nrcresearchpress.com/doi/full-xml/10.1139/h2012-056',\n",
       "  'content-type': 'application/xml',\n",
       "  'content-version': 'vor',\n",
       "  'intended-application': 'text-mining'},\n",
       " {'URL': 'http://www.nrcresearchpress.com/doi/pdf/10.1139/h2012-056',\n",
       "  'content-type': 'unspecified',\n",
       "  'content-version': 'vor',\n",
       "  'intended-application': 'similarity-checking'}]"
      ]
     },
     "execution_count": 192,
     "metadata": {},
     "output_type": "execute_result"
    }
   ],
   "source": [
    "crossref_response.json()['link']"
   ]
  },
  {
   "cell_type": "code",
   "execution_count": null,
   "id": "3453179d-ebad-4d25-ad8d-627c6c1c9377",
   "metadata": {},
   "outputs": [],
   "source": [
    "for idx, row in tqdm(merge.iterrows(), total=merge.shape[0]):\n",
    "    doi = row['doi']\n",
    "    out = {'doi': doi}\n",
    "    doi_url = 'https://doi.org/' + str(doi)\n",
    "    crossref_headers = {'User-Agent': user_agent, 'Accept': accept}\n",
    "    try:\n",
    "        crossref_response = requests.get(\n",
    "                        url = doi_url,\n",
    "                        headers=crossref_headers,\n",
    "                        allow_redirects=True,\n",
    "                        verify=True)\n",
    "        out.update({'CR_status_code': crossref_response.status_code})\n",
    "        if crossref_response.status_code == 200:\n",
    "            full_text_url = get_publisher_download_url(crossref_response, intended_app='similarity-checking')\n",
    "            driver.get(full_text_url)\n",
    "            time.sleep(3)\n",
    "            full_text_resp = requests.get(url = driver.current_url, headers = {'User-Agent': user_agent})\n",
    "            out.update({'full_text_SC': full_text_resp.status_code})\n",
    "            if full_text_resp.status_code == 200:\n",
    "                download_pdf(doi=doi, dest_folder=dest_folder, content=full_text_resp.content)\n",
    "    except Exception as e:\n",
    "        print(e)\n",
    "        out.update({'error': e})\n",
    "    log.append(out)"
   ]
  },
  {
   "cell_type": "code",
   "execution_count": 146,
   "id": "9745a7d5-d6ba-4ec2-bf1e-635ec9292034",
   "metadata": {},
   "outputs": [
    {
     "data": {
      "text/html": [
       "<div>\n",
       "<style scoped>\n",
       "    .dataframe tbody tr th:only-of-type {\n",
       "        vertical-align: middle;\n",
       "    }\n",
       "\n",
       "    .dataframe tbody tr th {\n",
       "        vertical-align: top;\n",
       "    }\n",
       "\n",
       "    .dataframe thead th {\n",
       "        text-align: right;\n",
       "    }\n",
       "</style>\n",
       "<table border=\"1\" class=\"dataframe\">\n",
       "  <thead>\n",
       "    <tr style=\"text-align: right;\">\n",
       "      <th></th>\n",
       "      <th>doi</th>\n",
       "      <th>CR_status_code</th>\n",
       "      <th>full_text_SC</th>\n",
       "      <th>error</th>\n",
       "    </tr>\n",
       "  </thead>\n",
       "  <tbody>\n",
       "    <tr>\n",
       "      <th>0</th>\n",
       "      <td>10.1139/apnm-2019-0187</td>\n",
       "      <td>200</td>\n",
       "      <td>200.0</td>\n",
       "      <td>NaN</td>\n",
       "    </tr>\n",
       "    <tr>\n",
       "      <th>1</th>\n",
       "      <td>10.1139/apnm-2019-0560</td>\n",
       "      <td>200</td>\n",
       "      <td>200.0</td>\n",
       "      <td>NaN</td>\n",
       "    </tr>\n",
       "    <tr>\n",
       "      <th>2</th>\n",
       "      <td>10.1139/apnm-2019-0405</td>\n",
       "      <td>200</td>\n",
       "      <td>200.0</td>\n",
       "      <td>NaN</td>\n",
       "    </tr>\n",
       "    <tr>\n",
       "      <th>3</th>\n",
       "      <td>10.1139/apnm-2019-0230</td>\n",
       "      <td>200</td>\n",
       "      <td>200.0</td>\n",
       "      <td>NaN</td>\n",
       "    </tr>\n",
       "    <tr>\n",
       "      <th>4</th>\n",
       "      <td>10.1139/apnm-2019-0037</td>\n",
       "      <td>200</td>\n",
       "      <td>200.0</td>\n",
       "      <td>NaN</td>\n",
       "    </tr>\n",
       "    <tr>\n",
       "      <th>...</th>\n",
       "      <td>...</td>\n",
       "      <td>...</td>\n",
       "      <td>...</td>\n",
       "      <td>...</td>\n",
       "    </tr>\n",
       "    <tr>\n",
       "      <th>337</th>\n",
       "      <td>10.1139/h97-028</td>\n",
       "      <td>200</td>\n",
       "      <td>403.0</td>\n",
       "      <td>NaN</td>\n",
       "    </tr>\n",
       "    <tr>\n",
       "      <th>338</th>\n",
       "      <td>10.1139/y93-143</td>\n",
       "      <td>200</td>\n",
       "      <td>403.0</td>\n",
       "      <td>NaN</td>\n",
       "    </tr>\n",
       "    <tr>\n",
       "      <th>339</th>\n",
       "      <td>10.1139/h08-031</td>\n",
       "      <td>200</td>\n",
       "      <td>403.0</td>\n",
       "      <td>NaN</td>\n",
       "    </tr>\n",
       "    <tr>\n",
       "      <th>340</th>\n",
       "      <td>10.1139/h00-004</td>\n",
       "      <td>200</td>\n",
       "      <td>403.0</td>\n",
       "      <td>NaN</td>\n",
       "    </tr>\n",
       "    <tr>\n",
       "      <th>341</th>\n",
       "      <td>10.1139/h04-033</td>\n",
       "      <td>200</td>\n",
       "      <td>403.0</td>\n",
       "      <td>NaN</td>\n",
       "    </tr>\n",
       "  </tbody>\n",
       "</table>\n",
       "<p>342 rows × 4 columns</p>\n",
       "</div>"
      ],
      "text/plain": [
       "                        doi  CR_status_code  full_text_SC error\n",
       "0    10.1139/apnm-2019-0187             200         200.0   NaN\n",
       "1    10.1139/apnm-2019-0560             200         200.0   NaN\n",
       "2    10.1139/apnm-2019-0405             200         200.0   NaN\n",
       "3    10.1139/apnm-2019-0230             200         200.0   NaN\n",
       "4    10.1139/apnm-2019-0037             200         200.0   NaN\n",
       "..                      ...             ...           ...   ...\n",
       "337         10.1139/h97-028             200         403.0   NaN\n",
       "338         10.1139/y93-143             200         403.0   NaN\n",
       "339         10.1139/h08-031             200         403.0   NaN\n",
       "340         10.1139/h00-004             200         403.0   NaN\n",
       "341         10.1139/h04-033             200         403.0   NaN\n",
       "\n",
       "[342 rows x 4 columns]"
      ]
     },
     "execution_count": 146,
     "metadata": {},
     "output_type": "execute_result"
    }
   ],
   "source": [
    "log_df = pd.DataFrame(log)\n",
    "log_df"
   ]
  },
  {
   "cell_type": "code",
   "execution_count": 187,
   "id": "0502196c-ce24-4c99-a59d-1a6d2739d0d1",
   "metadata": {},
   "outputs": [
    {
     "data": {
      "text/plain": [
       "403.0    240\n",
       "200.0    100\n",
       "Name: full_text_SC, dtype: int64"
      ]
     },
     "execution_count": 187,
     "metadata": {},
     "output_type": "execute_result"
    }
   ],
   "source": [
    "log_df['full_text_SC'].value_counts()"
   ]
  },
  {
   "cell_type": "code",
   "execution_count": 188,
   "id": "333c4a65-cb16-4adc-bf96-9f46eff1cb9b",
   "metadata": {},
   "outputs": [],
   "source": [
    "status_code_df = pd.merge(log_df, merge, how='inner', on='doi')\n",
    "error_df = status_code_df[status_code_df['full_text_SC'] != 200].reset_index(drop=True)"
   ]
  },
  {
   "cell_type": "code",
   "execution_count": 182,
   "id": "cfe0e541-e0c8-4ec0-bf48-4ad523e86c8a",
   "metadata": {},
   "outputs": [],
   "source": [
    "status_code_df.to_csv('/Users/antonhesse/Desktop/Anton/Education/UMN/Lab and Research/HSPL/CPET_scoping_review/data/cpet_articles/unpaywall/cdn_non_oa_status_codes.csv',\n",
    "                     index=False)"
   ]
  },
  {
   "cell_type": "code",
   "execution_count": 185,
   "id": "35109890-7fc5-410e-bf8e-d2dd4cc0ff11",
   "metadata": {},
   "outputs": [],
   "source": [
    "log_df.to_csv('/Users/antonhesse/Desktop/Anton/Education/UMN/Lab and Research/HSPL/CPET_scoping_review/data/cpet_articles/unpaywall/cdn_non_oa_log.csv',\n",
    "                     index=False)"
   ]
  },
  {
   "cell_type": "code",
   "execution_count": 189,
   "id": "77ba9b74-5d65-4d86-b0d8-bd8171f2f0cf",
   "metadata": {},
   "outputs": [
    {
     "data": {
      "text/plain": [
       "(242, 53)"
      ]
     },
     "execution_count": 189,
     "metadata": {},
     "output_type": "execute_result"
    }
   ],
   "source": [
    "status_code_df.shape"
   ]
  },
  {
   "cell_type": "code",
   "execution_count": null,
   "id": "bc8ce002-b5d6-44ee-999b-1f8f800133f1",
   "metadata": {},
   "outputs": [],
   "source": []
  }
 ],
 "metadata": {
  "kernelspec": {
   "display_name": "Python 3 (ipykernel)",
   "language": "python",
   "name": "python3"
  },
  "language_info": {
   "codemirror_mode": {
    "name": "ipython",
    "version": 3
   },
   "file_extension": ".py",
   "mimetype": "text/x-python",
   "name": "python",
   "nbconvert_exporter": "python",
   "pygments_lexer": "ipython3",
   "version": "3.8.8"
  }
 },
 "nbformat": 4,
 "nbformat_minor": 5
}
