{
 "cells": [
  {
   "cell_type": "code",
   "execution_count": 1,
   "id": "6c4f8823-9d5d-4a6e-9ae3-0ef260c8597e",
   "metadata": {},
   "outputs": [],
   "source": [
    "import pandas as pd\n",
    "from tqdm import tqdm\n",
    "import json\n",
    "import requests\n",
    "from pathlib import Path\n",
    "import re\n",
    "import random\n",
    "import numpy as np\n",
    "import time\n",
    "\n",
    "from selenium import webdriver\n",
    "from selenium.webdriver.firefox.service import Service as FirefoxService\n",
    "from send2trash import send2trash\n",
    "from webdriver_manager.firefox import GeckoDriverManager\n",
    "from selenium.webdriver.common.by import By\n",
    "from tqdm import tqdm"
   ]
  },
  {
   "cell_type": "code",
   "execution_count": 2,
   "id": "8794cb10-6fb2-4704-8b32-5411990a0af2",
   "metadata": {},
   "outputs": [],
   "source": [
    "def download_pdf(doi, dest_folder, content):\n",
    "    doi_suffix = str(doi.split('/', 1)[1:]).strip(\"[']\")\n",
    "    doi_suffix = re.sub(r\"\"\"([()/\\\\*,\"': ?;<>])\"\"\", '_._', doi_suffix)\n",
    "    filename = dest_folder + '/' + str(doi_suffix)+'.pdf'\n",
    "    with open(filename, mode = 'wb') as f:\n",
    "        f.write(content)"
   ]
  },
  {
   "cell_type": "code",
   "execution_count": 3,
   "id": "89a21624-d8f9-4106-be98-4afe5d67412c",
   "metadata": {},
   "outputs": [],
   "source": [
    "def get_publisher_download_url(crossref_resp, intended_app='text-mining'):\n",
    "    # search for 'text-mining' in the intended-application field\n",
    "    res = []\n",
    "    for link in crossref_response.json()['link']:\n",
    "        if re.search(intended_app,link['intended-application']):\n",
    "            res.append(re.search(intended_app, link['intended-application']))\n",
    "        else:\n",
    "            res.append(None)\n",
    "    # find the index of match obects in crossref link information\n",
    "    publisher_api_idxs = np.where(np.array(res) != None)[0].tolist()\n",
    "    # publisher_api_idxs\n",
    "    links = [crossref_response.json()['link'][i] for i in publisher_api_idxs]\n",
    "    # for now use the first link if there are more than one link\n",
    "    full_text_link = links[0]['URL']\n",
    "    return full_text_link"
   ]
  },
  {
   "cell_type": "code",
   "execution_count": 4,
   "id": "4be353f2-3168-451f-b35f-20d1559d2f3c",
   "metadata": {},
   "outputs": [],
   "source": [
    "articles = pd.read_csv('/Users/antonhesse/Desktop/Anton/Education/UMN/Lab and Research/HSPL/CPET_scoping_review/data/cpet_articles/unpaywall/sage_non_oa.csv')"
   ]
  },
  {
   "cell_type": "code",
   "execution_count": 5,
   "id": "d428275e-5f58-46d2-97c7-3765290faf25",
   "metadata": {},
   "outputs": [],
   "source": [
    "re_doi_suffix = re.compile(r'(?<=\\d/).*')\n",
    "articles['doi_suffix'] = articles['doi'].apply(lambda x: re_doi_suffix.search(x).group())"
   ]
  },
  {
   "cell_type": "code",
   "execution_count": 6,
   "id": "7ffe1c6e-3547-457c-bd02-82669680cb0b",
   "metadata": {},
   "outputs": [],
   "source": [
    "user_agent = 'Mozilla/5.0 (Macintosh; Intel Mac OS X 10.15; rv:101.0) Gecko/20100101 Firefox/101.0'\n",
    "accept = 'application/vnd.citationstyles.csl+json, application/vnd.crossref.unixref+xml'\n",
    "dest_folder = '/Users/antonhesse/Desktop/Anton/Education/UMN/Lab and Research/HSPL/CPET_scoping_review/data/cpet_articles/full_texts/pdfs/sage_non_oa'"
   ]
  },
  {
   "cell_type": "code",
   "execution_count": 7,
   "id": "5c7e588b-a040-471e-9500-bb0ff19b6b55",
   "metadata": {},
   "outputs": [
    {
     "data": {
      "text/plain": [
       "'10.1177/00405175211006674'"
      ]
     },
     "execution_count": 7,
     "metadata": {},
     "output_type": "execute_result"
    }
   ],
   "source": [
    "n = random.randint(0, articles.shape[0])\n",
    "row = articles.loc[n,:]\n",
    "doi = row['doi']\n",
    "doi"
   ]
  },
  {
   "cell_type": "code",
   "execution_count": 8,
   "id": "be13b15a-51d1-42a1-b67f-71511a9ad8b8",
   "metadata": {},
   "outputs": [
    {
     "data": {
      "text/plain": [
       "'http://journals.sagepub.com/doi/pdf/10.1177/00405175211006674'"
      ]
     },
     "execution_count": 8,
     "metadata": {},
     "output_type": "execute_result"
    }
   ],
   "source": [
    "doi = row['doi']\n",
    "out = {'doi': doi}\n",
    "doi_url = 'https://doi.org/' + str(doi)\n",
    "crossref_headers = {'User-Agent': user_agent, 'Accept': accept}\n",
    "crossref_response = requests.get(\n",
    "                url = doi_url,\n",
    "                headers=crossref_headers,\n",
    "                allow_redirects=True,\n",
    "                verify=True)\n",
    "out.update({'CR_status_code': crossref_response.status_code})\n",
    "if crossref_response.status_code == 200:\n",
    "    full_text_url = get_publisher_download_url(crossref_response, intended_app='similarity-checking')\n",
    "full_text_url"
   ]
  },
  {
   "cell_type": "code",
   "execution_count": 9,
   "id": "c39c3965-fddd-4b5d-a1c0-424ae2e133fe",
   "metadata": {},
   "outputs": [
    {
     "data": {
      "text/plain": [
       "503"
      ]
     },
     "execution_count": 9,
     "metadata": {},
     "output_type": "execute_result"
    }
   ],
   "source": [
    "full_text_resp = requests.get(url = full_text_url, headers = {'User-Agent': user_agent}, allow_redirects=True)\n",
    "full_text_resp.status_code"
   ]
  },
  {
   "cell_type": "code",
   "execution_count": null,
   "id": "e594b1e1-adaf-43ae-aa97-d3e0be25caa2",
   "metadata": {},
   "outputs": [],
   "source": [
    "# # uncomment when this is figured out\n",
    "# for idx, row in tqdm(articles.iterrows(), total=articles.shape[0]):\n",
    "#     doi = row['doi']\n",
    "#     out = {'doi': doi}\n",
    "#     doi_url = 'https://doi.org/' + str(doi)\n",
    "#     crossref_headers = {'User-Agent': user_agent, 'Accept': accept}\n",
    "#     try:\n",
    "#         crossref_response = requests.get(\n",
    "#                         url = doi_url,\n",
    "#                         headers=crossref_headers,\n",
    "#                         allow_redirects=True,\n",
    "#                         verify=True)\n",
    "#         out.update({'CR_status_code': crossref_response.status_code})\n",
    "#         if crossref_response.status_code == 200:\n",
    "#             full_text_url = get_publisher_download_url(crossref_response, intended_app='similarity-checking')\n",
    "#             driver.get(full_text_url)\n",
    "#             time.sleep(3)\n",
    "#             full_text_resp = requests.get(url = driver.current_url,\n",
    "#                                           headers = {'User-Agent': user_agent},\n",
    "#                                          allow_redirects=True)\n",
    "#             out.update({'full_text_SC': full_text_resp.status_code})\n",
    "#             if full_text_resp.status_code == 200:\n",
    "#                 download_pdf(doi=doi, dest_folder=dest_folder, content=full_text_resp.content)\n",
    "#     except Exception as e:\n",
    "#         print(e)\n",
    "#         out.update({'error': e})\n",
    "#     log.append(out)"
   ]
  }
 ],
 "metadata": {
  "kernelspec": {
   "display_name": "Python 3 (ipykernel)",
   "language": "python",
   "name": "python3"
  },
  "language_info": {
   "codemirror_mode": {
    "name": "ipython",
    "version": 3
   },
   "file_extension": ".py",
   "mimetype": "text/x-python",
   "name": "python",
   "nbconvert_exporter": "python",
   "pygments_lexer": "ipython3",
   "version": "3.8.8"
  }
 },
 "nbformat": 4,
 "nbformat_minor": 5
}
