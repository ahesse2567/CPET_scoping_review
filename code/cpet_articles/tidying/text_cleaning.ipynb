{
 "cells": [
  {
   "cell_type": "code",
   "execution_count": 1,
   "id": "939ffb32",
   "metadata": {},
   "outputs": [],
   "source": [
    "import glob\n",
    "from pathlib import Path\n",
    "import re\n",
    "from fuzzywuzzy import fuzz\n",
    "from fuzzywuzzy import process\n",
    "import random\n",
    "import pyperclip"
   ]
  },
  {
   "cell_type": "code",
   "execution_count": 2,
   "id": "f0a1a520",
   "metadata": {},
   "outputs": [],
   "source": [
    "project_folder = Path('/Users/antonhesse/Desktop/Anton/Education/UMN/Lab and Research/HSPL/CPET_scoping_review/')\n",
    "# project_folder"
   ]
  },
  {
   "cell_type": "code",
   "execution_count": 3,
   "id": "8d0fab40",
   "metadata": {},
   "outputs": [],
   "source": [
    "files = project_folder / 'data/cpet_articles/txts/unpaywall_oa'\n",
    "txt_files = glob.glob(str(files) + '/*.txt')"
   ]
  },
  {
   "cell_type": "code",
   "execution_count": 4,
   "id": "ab12f8bf",
   "metadata": {},
   "outputs": [
    {
     "name": "stdout",
     "output_type": "stream",
     "text": [
      "Skipping empty file\n",
      "/Users/antonhesse/Desktop/Anton/Education/UMN/Lab and Research/HSPL/CPET_scoping_review/data/cpet_articles/txts/unpaywall_oa/mss.0000000000002637.txt\n"
     ]
    }
   ],
   "source": [
    "file_size = 0\n",
    "while file_size == 0:\n",
    "    txt_file = random.choice(txt_files)\n",
    "    file_size = Path(txt_file).stat().st_size\n",
    "    if file_size != 0: # check if conversion to txt didn't work\n",
    "        with open(txt_file, 'r') as f:\n",
    "            text = f.read()\n",
    "        print(txt_file)\n",
    "    else:\n",
    "        print('Skipping empty file')\n",
    "        continue\n",
    "text_lower = text.lower()"
   ]
  },
  {
   "cell_type": "code",
   "execution_count": 5,
   "id": "1dbb4789",
   "metadata": {},
   "outputs": [],
   "source": [
    "text_file_name_re = re.compile(r'(?<=unpaywall_oa/).*(?=.txt)')\n",
    "text_file_name = text_file_name_re.search(txt_file).group()\n",
    "pyperclip.copy(text_file_name)"
   ]
  },
  {
   "cell_type": "code",
   "execution_count": 6,
   "id": "950c2e1d",
   "metadata": {},
   "outputs": [],
   "source": [
    "methods_re = re.compile(r'(?<=\\smethods\\s).*(?=\\sresults\\s)', re.DOTALL) # needs the re.DOTALL to match \\n with .*\n",
    "try:\n",
    "    methods_text = methods_re.search(text_lower).group()\n",
    "    methods_text\n",
    "except AttributeError as e:\n",
    "    print(e)\n",
    "    print('Searching entire text instead of just the methods section')\n",
    "    methods_text = text_lower"
   ]
  },
  {
   "cell_type": "code",
   "execution_count": 7,
   "id": "28bda347",
   "metadata": {},
   "outputs": [
    {
     "data": {
      "text/plain": [
       "\"were applied to develop the linear models using 20msrt (laps), bmi and body fat percentage. alternative allometric models were also proposed/fitted using 20msrt (laps), height and body mass. results: the criterion validity of both the linear and the allomeric models were found to be acceptable r2=82.5% and 82.7% respectively, providing reassuring evidence that the 20msrt can be used with confidence to predict crf. however, the allometric model identified a height- to-mass ratio, not dissimilar to the inverse bmi (known to be a measure of leanness), to be associated with crf. the allometric model also revealed that the rise in energy cost (𝑉̇ o2peak) with increasing laps was exponential. this will more accurately reflect the non-linear rise in energy demand of shuttle running as the test progresses to exhaustion. concusions: these observations provided powerful evidence that allometric models are more than satisfactory in terms of both criterion and construct validity when predicting crf (𝑉̇ o2peak) using the 20msrt. key words: akaike's information criterion goodness-of-fit, cross-validation, non-linear models. cardiorespiratory fitness. youth. 3 introduction directly measured cardiorespiratory fitness (crf) is universally acknowledged as a key index of health as well as a valuable indicator of potential endurance performance. the 20-m shuttle run test (20msrt) is probably the most widely used field test of crf, although recent doubts have been raised concerning its validity in youth (1). despite these doubts, authors continue to provide powerful evidence that crf can be predicted reliably using the 20msrt (2, 3). however, the methods used to predict crf by menezes-junior et al. (2) and nevill et al. (3), are quite different. the former adopts multiple linear regression, whilst the latter uses allometric models to predict crf (𝑉̇ o2peak in the units ml kg-1 min-1). the interpretation of the influence of body size and shape in physical and motor performance components such as the 20msrt is a matter of continuing debate (4–6). the allometric modelling approach is currently viewed as a suitable model to help solve this issue given its sound theoretical basis, biologically driven (rather than adopting a simple mathematical curve-fitting exercise), and its elegant and versatile statistical methodology (7–9). hence the purpose of this study was to compare the original linear additive models proposed by menezes-junior et al. (2) with an alternative, proportional allometric model similar to that proposed by nevill et al. (3). the comparison will assess whether the latter provides: 1) a superior quality of fit (using r2, aic criterion, and bland and altman’s limits of agreement); and 2) a more plausible, biologically, and physiologically sound and interpretable model. methods the present study was approved by the ethics committee of the dom bosco university (caee: 62963916.0.0000.5223). the recruitment of participants was carried out in a non- probabilistic convenience way, from march to july 2018 and between march and april 2019 from a city in southern brazil. 4 subjects data for the current study have been previously published, see menezes-junior et al. (2). this study recruited 167 adolescents from a city in southern brazil, (13,37±1,84 years; body mass: 64,95±19,47 kg; height: 160,75±9,89; bmi-z: 1,54±1,43; maturity offset: 0,46±1,65 years; 𝑉̇ o2peak: 38,57±10,83 ml kg-1 min-1) of whom 148 (43.0% girls) participated in all assessments. individuals were excluded from the analysis: (1) who had physical or psychological limitations that could interfere with the performance of the procedures proposed in this study; (2) who did not present the written informed consent signed by the parents or legal guardians; and (3) did not participate in all measurements. height, body mass, body composition, somatic maturation and the 20msrt were measured. the students were randomized to validation (n = 91) and cross-validation (n = 57) groups. the validation group performed the 20msrt using the gas analyzer (k4b2, cosmed). the cross-validation group performed a treadmill test using the gas analyzer. the characteristics of the participants are shown in their table 1, see menezes-junior et al. (2). anthropometry and body composition all measurements were performed following the recommendations of the anthropometric standardization reference manual (10). height was measured using a stadiometer with a precision of 0.1 cm (sanny®, model es:2040). body mass (bm) was assessed using a digital platform scale with an accuracy of 0.1 kg (welmy®, w200/5). body mass index score z (bmi-z) was calculated according to age and sex using the software who anthro plus®, version 1.0.4. body composition was evaluated in the morning, after a 12-hour fasting period using a bioelectrical impedance device (maltron, bf906®). the equation validated by houtkooper et al. (11) was applied to assess the lean body mass (lbm) and percentage of fat mass (%fm). 5 this equation developed by houtkooper et al. (11) presented high precision to estimate lbm in adolescents (r²: 0.95, see: 2.1 kg) and in overweight youth (error: 1.9%) (12). the subjects were instructed to: (1) to not drink within four hours before the test; (2) to not exercise less than 12 hours before the test; (3) to urinating within 30 minutes before the test; (4) to not consume alcohol within 48 hours before the test; (5) to not taking diuretic medications within seven days before the test; (6) to not use metal accessories; and (7) to wear light clothing. cardiorespiratory fitness the measured 𝑉̇ o2peak was assessed during the 20msrt with a gas analyzer (k4b², cosmed). the 20msrt proposed by léger et al. (13) consists of continuous stages of approximately 1 minute, with an initial speed of 8.5 km h-1 and progression of 0.5 km h-1 at each stage. the participants ran in a straight-line defined between two parallel lines, 20 metres apart while following the audio signal. heart rate (hr) was monitored during the 20msrt by a heart rate monitor (polar®, a300). during the 20msrt, individuals were encouraged to perform as many laps as possible. the test ended when the adolescent failed to reach the demarcated line to the beep by two consecutive laps or desired to stop the test. the cross-validation group performed the treadmill exercise test in the exercise and sport physiology laboratory (fisioex) of federal university of paraná, through a ramp protocol also using a cosmed gas analyzer (k4b²). the protocol started at a speed of 4.0 km h- 1, with a progressive increase of 0.3 km h-1 every 30 seconds and a fixed slope of 1% kept constant throughout the test. to ensure that participants had achieved exhaustion, at least one of the following criteria was met: (1) the adolescent did not maintain the velocity required by the test; (2) respiratory exchange ratio (rer) ≥ 1.0; or (3) when the predicted maximum heart rate has been reached (14). the 𝑉̇ o2peak was determined after filtering at 15-second intervals and identified by the highest value obtained after the 𝑉̇ o2 plateau. 𝑉̇ o2 slope values <50 ml min-1 in the last minute of the exercise tests were interpreted as a 𝑉̇ o2 plateau (15). subsequently, 𝑉̇ o2peak was 6 presented relative to body mass (ml kg-1 min-1). statistical methods (data analyses) menezes-junior et al. (2020) proposed 4 linear, additive models (models a to d) to predict 𝑉̇ o2peak (ml kg-1 min-1) using the number of completed laps from the 20msrt performance (models fitted using multiple linear regression), as follows: 𝑉̇ o2peak (ml kg-1 min-1) = a + b1·laps + b2·bmi + b5·(h · age), (model a) 𝑉̇ o2peak (ml kg-1 min-1) = a + b1·laps + b3·bmi-z + b5·( h · age), (model b) 𝑉̇ o2peak (ml kg-1 min-1) = a + b1·laps + b4·%fm + b5·( h · age), (model c) 𝑉̇ o2peak (ml kg-1 min-1) = a + b1·laps + b3·bmi-z + b4·%fm + b5·( h · age), (model d) where bmi = body mass index, bmi-z = bmi normalized according to age and sex, %fm = percentage fat mass, (h · age) = height (h) in metres × age in months, and where the intercept “a” is allowed to vary with sex. an alternative multiplicative model to predict 𝑉̇ o2peak (ml kg-1 min-1) with allometric body-size components, similar to that recently proposed by nevill et al. (3) using the 20msrt performance results (incorporating laps rather than shuttle-run speed) can also be considered as follows: 𝑉̇ o2peak (ml kg-1 min-1) = mk1 · hk2 · exp (a+ b1·laps + b2·age), (eq. 1) 7 where m=mass, h=height and laps=the number of laps performed during the 20msrt running test. the model (eq. 5) can be linearized with a log transformation (ln=loge). a linear regression analysis or ancova on ln(𝑉̇ o2peak) can then be used to estimate the unknown parameters in the log-transformed model i.e., the transformed model (eq. 2) is now additive and conforms with the assumptions associated with ordinary least-squares and ancova: ln(𝑉̇ o2peak)= k1·ln(m)+k2·ln(h) + a+ b1·laps + b2·age, (eq. 2) where the intercept “a” is allowed to vary with categorical variables, e.g., sex. this model can be refined (to obtain a parsimonious solution) using backward elimination (16). cross-validation methods to assess the validity or success of the linear vs. the allometric model, we adopted the same cross-validation adopted by menezes-junior et al. (2) by splitting the data into two independent groups using a random split (60:40). we used the 60% sample to predict 𝑉̇ o2peak (ml kg-1 min-1) using both the linear model d and allometric model eq. 1 (parameters estimated using eq. 2) and the 40% sample to test/cross-validate the two models. this was achieved by predicting the 𝑉̇ o2peak of the 40% sample using the model derived from the 60% prediction or validation model. the success of the cross-validation process was then assessed by comparing the measured 𝑉̇ o2peak of 40% validation sample with the predicted 𝑉̇ o2peak scores (both models) using r2, correlations and bland and altman’s loa. the akaike information criterion (aic) using both linear model d and allometric model eq. 1 (parameters estimated using eq. 2) was calculated to identify the best fit equation, with the lowest aic being considered the ideal and the model with the highest aic value is considered the least adequate (17). results validation models using the validation sample (n=91), the best of the linear additive models, model d reported by menezes-junior et al. (2) resulted in the largest r2 = 0.825 (adjr2= 0.814) together 8 with aic = 558.68. <<table 1>> the residuals saved from fitting model d versus the predicted 𝑉̇ o2peak (ml kg-1 min-1) suggest a clear lack of fit. these are plotted in figure 1a. <<figure 1a >> a likely source of this lack of fit has already been proposed (18), that being the non- linear association between 𝑉̇ o2peak (ml kg-1 min-1) and bmi (used in all 4 linear models a to d) as seen in figure 2. <<figure 2>> again, using the validation sample (n=91), the fitted parameters from the alternative multiplicative allometric model to predict log-transformed 𝑉̇ o2peak (ml kg-1 min-1) with allometric body-size components (eq. 2) is given in table 2. note that the age term made no significant contribution to predicting log-transformed 𝑉̇ o2peak (ml kg-1 min-1) and was thus removed from the model. the log-linear model (eq. 2) produced an r2 = 0.827 (adjr2= 0.819) 9 together with a superior (lower) aic = 553.97. << table 2>> the residuals saved the log-linear model (eq. 2) versus the predict ln 𝑉̇ o2peak (ml kg-1 min-1) demonstrating an acceptable fit. these data are plotted in figure 1b. <<figure 1b>> cross-validation models the results from cross-validation (using the 40% validation sample; n=57) indicated that the correlation between the measured 𝑉̇ o2peak and the predicted 𝑉̇ o2peak was r= 0.891 (using model d fitted using the 60% data) and r= 0.893 (using the allometric model eq. 1 fitted using the 60% data). no significant bias was found with either model, 1. the linear model d [difference = 0.58 (sd=4.18) (ml kg-1 min-1), a paired samples t- test t56= 1.05, (p= 0.298) with the explained variance was r2= 79.4%, a cv= 11.6% and a 95% loa 0.58 ± 8.2. (ml kg-1 min-1)], or 2. the allometric model eq. 1, [difference = 0.31 (sd=4.06) (ml kg-1 min-1), a paired samples t-test t56= 0.58, (p= 0.567) and the explained variance was r2= 79.7%, a cv= 11.3% and a 95% loa 0.31 ± 7.96. (ml kg-1 min-1)]. when we plotted measured 𝑉̇ o2peak vs. predicted 𝑉̇ o2peak (ml kg-1 min-1) for both the linear and allometric models in figure 3a and 3b respectively, the quality of fit appears acceptable 10 with both models. discussion <<figure 3a>> <<figure 3b>> in a recent letter to the editor, nevill et al. (18) raised serious concerns regarding the use of linear models to predict 𝑉̇ o2peak using the 20msrt. menezes-junior et al. (2) adopted multiple linear regression methods to predict peak oxygen uptake (𝑉̇ o2peak) in adolescents using a range of variables, see models a to d above. these linear models suggest linear associations with all key predictors such as 20msrt laps, age, height, body mass and bmi. however, there is strong evidence, certainly from the findings reported by myers et al. (19), nevill et al. (20) and nevill et al. (3) that curvature (and the resulting lack of fit) exists suggesting that one or more of these associations is likely to be non-linear (see figure 1). nevill et al. (18) also raised another concern with the linear models adopted by menezes- junior et al. (2). the authors adopted both bmi (bmi-z) and age*height as predictor variables. however, bmi contains height as a denominator term and in age*height, height is incorporated as a numerator term. incorporating the same term, height, as a common component/term in these two predictor variables will lead to spurious correlations/associations (21–23). these “non-independent” predictors (bmi-z and age*height) will almost certainly have inflated the explained variances (r2) associated with model d, as seen in the results. 11 nevill et al., (18) suggested that both of these concerns can be easily resolved by adopting multiplicative allometric models to estimate 𝑉̇ o2peak , as recommended by nevill et al., (3, 20) and nevill & cooke (24). this was confirmed when the allometric model eq. 1 was fitted to the data (using the log-transformed eq. 2), estimates reported in table 2. taking antilogs, the allometric model becomes: 𝑉̇ o2peak (ml kg-1 min-1) = m-0.639 · h0.854 · exp (1.705+ 0.008·laps). (eq. 3) this model (eq. 3) fitted to the validity data was marginally better than model d with r2 = 82.7% vs. 82.5% and aic = 554.0 vs 558.7 (lower aic being a better fit) demonstrating criterion validity. however, the model (eq. 3) also provided additional evidence of construct validity. with the mass (m) and height (h) exponents in eq. 3 having opposite signs, these two terms combine to produce a height-to-mass ratio not too dissimilar to the inverse bmi (25). this has a sound biological interpretation. the inverse bmi (ibmi) is thought to be a measure of leanness (26, 27). clearly having a greater lean body mass index (lbmi), as described by nevill and holder (26), should also be strongly associated with predicting a higher 𝑉̇ o2peak (ml kg-1 min-1). further evidence of construct validity comes from the way laps are incorporated into the allometric model, eq. 3. as 𝑉̇ o2peak increases with additional laps (and speeds), each additional level of the 20msrt will elicit greater additional and accumulative energy demands as the test progresses to exhaustion (more 180 degree turns that require additional accelerations and de- accelerations as well as increasing straight-line running speeds). the accumulative increase in energy demand will almost certainly be better explained by a non-linear exponential rise in 𝑉̇ o2peak with additional laps, rather than the linear rise in 𝑉̇ o2peak as described by model d menezes-junior et al. (2). this new insight/interpretation seems both biologically plausible and physiologically sound, providing additional evidence of “construct validity” for the allometric 12 model (eq. 3). in summary, doubts associated with the validity of the 20msrt to predict crf (assessed by 𝑉̇ o2peak in ml kg-1 min-1) can be dismissed given the powerful and convincing evidence provided in the current study. the criterion validity of both the linear model d and the allometric model (eq. 3) were found r2 to be 82.5% and 82.7% respectively, together with aic’s of 558.7 and 554.0 respectively (lower aic being a better fit), providing reassuring evidence that the 20msrt can be used with confidence to predict crf. however, probably the most valuable new insights obtained from fitting the allometric model was just how biologically and physiological plausible the model is. the allometric model identified a height-to-weight ratio, not dissimilar to the inverse bmi (known to be a measure of leanness), to be associated with crf. the model also revealed that the rise in energy cost (𝑉̇ o2peak) with increasing laps was exponential. this will more accurately reflect the non-linear increase in energy demand of shuttle running as the test progresses to exhaustion. these observations provide further evidence of construct validity associated with the allometric model. given this encouraging evidence of both criterion and construct validity, we recommend authors should adopt the allometric rather than linear models reported above when predicting 𝑉̇ o2peak. informed consent: informed consent was obtained from all participating teams in the study. patient consent for publication: not required. data availability statement: data are available on request acknowledgments: this work was supported by the coordenação de aperfeiçoamento de pessoal de nível superior - brasil (capes) – finance code 001, conselho nacional de desenvolvimento científico e tecnológico (cnpq), fundação para a ciência e tecnologia [fct: sfrh/bsab/142983/2018 and uid/dtp/ 00617/2019], programa pesquisa para o sus (ppsus – edital - cp 01/2016) via fundação araucária de apoio ao desenvolvimento científico e tecnológico do estado do paraná (decit/ms) and secretaria da saúde do estado 13 do paraná (sesa-pr). conflict of interest: the authors declare that the results of the study are presented clearly, honestly, and without fabrication, falsification, or inappropriate data manipulation, and statement that the\""
      ]
     },
     "execution_count": 7,
     "metadata": {},
     "output_type": "execute_result"
    }
   ],
   "source": [
    "methods_text_clean = re.sub('\\s+', ' ', methods_text)\n",
    "methods_text_clean"
   ]
  },
  {
   "cell_type": "code",
   "execution_count": 8,
   "id": "03270e53",
   "metadata": {},
   "outputs": [],
   "source": [
    "boundary_pattern = re.compile(r'[.?!]')\n",
    "methods_sentences = boundary_pattern.split(methods_text_clean)\n",
    "# methods_sentences"
   ]
  },
  {
   "cell_type": "code",
   "execution_count": 9,
   "id": "17d41b96",
   "metadata": {},
   "outputs": [
    {
     "data": {
      "text/plain": [
       "[(' during the 20msrt, individuals were encouraged to perform as many laps as possible',\n",
       "  62),\n",
       " ('e', 60),\n",
       " ('g', 60),\n",
       " (' the model also revealed that the rise in energy cost (𝑉̇ o2peak) with increasing laps was exponential',\n",
       "  53),\n",
       " ('1 kg) and in overweight youth (error: 1', 49)]"
      ]
     },
     "execution_count": 9,
     "metadata": {},
     "output_type": "execute_result"
    }
   ],
   "source": [
    "process.extract('averaged over', methods_sentences, scorer = fuzz.WRatio)"
   ]
  },
  {
   "cell_type": "code",
   "execution_count": 10,
   "id": "a11882fd",
   "metadata": {},
   "outputs": [
    {
     "data": {
      "text/plain": [
       "[(' 1 (parameters estimated using eq', 37),\n",
       " (' 1 (parameters estimated using eq', 37),\n",
       " (' the linear model d [difference = 0', 37),\n",
       " (' 1 fitted using the 60% data)', 36),\n",
       " (' 3) this model (eq', 36)]"
      ]
     },
     "execution_count": 10,
     "metadata": {},
     "output_type": "execute_result"
    }
   ],
   "source": [
    "process.extract('sampling frequency', methods_sentences, scorer = fuzz.token_set_ratio)"
   ]
  },
  {
   "cell_type": "code",
   "execution_count": null,
   "id": "b6046486",
   "metadata": {},
   "outputs": [],
   "source": []
  }
 ],
 "metadata": {
  "kernelspec": {
   "display_name": "Python 3 (ipykernel)",
   "language": "python",
   "name": "python3"
  },
  "language_info": {
   "codemirror_mode": {
    "name": "ipython",
    "version": 3
   },
   "file_extension": ".py",
   "mimetype": "text/x-python",
   "name": "python",
   "nbconvert_exporter": "python",
   "pygments_lexer": "ipython3",
   "version": "3.8.8"
  }
 },
 "nbformat": 4,
 "nbformat_minor": 5
}
