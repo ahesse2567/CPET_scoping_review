{
 "cells": [
  {
   "cell_type": "code",
   "execution_count": 73,
   "id": "e0665aac-0060-4b2f-b54a-55b86a8dee95",
   "metadata": {},
   "outputs": [],
   "source": [
    "import pandas as pd\n",
    "import re\n",
    "import glob\n",
    "from pathlib import Path\n",
    "from tqdm.notebook import tqdm\n",
    "from langdetect import detect\n",
    "import numpy as np\n",
    "import shutil\n",
    "\n",
    "import nltk\n",
    "from nltk.tokenize import sent_tokenize, word_tokenize\n",
    "from nltk.corpus import stopwords\n",
    "from nltk.stem import PorterStemmer, WordNetLemmatizer\n",
    "from nltk.probability import FreqDist\n",
    "# import random\n",
    "# import requests\n",
    "# import pickle\n",
    "# import time"
   ]
  },
  {
   "cell_type": "code",
   "execution_count": 67,
   "id": "37f50e7e-add3-4ce7-81cd-45454faebba9",
   "metadata": {},
   "outputs": [],
   "source": [
    "def process_file_one_string(file_name, file_list):\n",
    "    txt_re = re.compile(re.escape(file_name))\n",
    "    fname = list(filter(txt_re.search, file_list))[0]\n",
    "    \n",
    "    # check file size to make sure the txt file actually has text\n",
    "    file_size = 0\n",
    "    while file_size == 0:\n",
    "        file_size = Path(fname).stat().st_size\n",
    "        if file_size != 0: # check if conversion to txt didn't work\n",
    "            with open(fname, 'r') as f:\n",
    "                text = f.read()\n",
    "        else:\n",
    "            print('Empty file, returning None')\n",
    "            return None\n",
    "    text_lower = text.lower()\n",
    "    \n",
    "    return text_lower"
   ]
  },
  {
   "cell_type": "code",
   "execution_count": 68,
   "id": "8fe1dc01-61f7-4692-80df-d37f1c40e171",
   "metadata": {},
   "outputs": [],
   "source": [
    "def tokenize_file(file_name, file_list, mode = 'lemm'):\n",
    "    txt_re = re.compile(file_name)\n",
    "    fname = list(filter(txt_re.search, file_list))[0]\n",
    "    \n",
    "    # check file size to make sure the txt file actually has text\n",
    "    file_size = 0\n",
    "    while file_size == 0:\n",
    "        file_size = Path(fname).stat().st_size\n",
    "        if file_size != 0: # check if conversion to txt didn't work\n",
    "            with open(fname, 'r') as f:\n",
    "                text = f.read()\n",
    "        else:\n",
    "            print('Empty file, returning None')\n",
    "            return None\n",
    "    text_lower = text.lower()\n",
    "    tokens = word_tokenize(text_lower)\n",
    "    stop_words = set(stopwords.words('english'))\n",
    "\n",
    "    filtered_tokens = [t for t in tokens if t not in stop_words]\n",
    "    \n",
    "    if mode == 'lemm':\n",
    "        lemmatizer = WordNetLemmatizer()\n",
    "        lemmatized_words = [lemmatizer.lemmatize(t) for t in filtered_tokens]\n",
    "\n",
    "        return lemmatized_words\n",
    "    \n",
    "    elif mode == 'stem':\n",
    "        stemmer = PorterStemmer()\n",
    "        stemmed_words = [stemmer.stem(t) for t in filtered_tokens]\n",
    "    \n",
    "        return stemmed_words"
   ]
  },
  {
   "cell_type": "code",
   "execution_count": 69,
   "id": "622c5177-1250-46b8-9994-7cb16a0478e4",
   "metadata": {},
   "outputs": [],
   "source": [
    "txt_file_paths = [str(path) for path in list(Path('/Users/antonhesse/Desktop/Anton/Education/UMN/Lab and Research/HSPL/CPET_scoping_review/data/cpet_articles/full_texts/txts').rglob('*.txt'))]\n"
   ]
  },
  {
   "cell_type": "code",
   "execution_count": 70,
   "id": "4c079351-862f-45a1-93fd-5e8754356e65",
   "metadata": {},
   "outputs": [],
   "source": [
    "txt_files = [path.stem for path in list(Path('/Users/antonhesse/Desktop/Anton/Education/UMN/Lab and Research/HSPL/CPET_scoping_review/data/cpet_articles/full_texts/txts').rglob('*.txt'))]\n"
   ]
  },
  {
   "cell_type": "code",
   "execution_count": 71,
   "id": "151a5fff-868e-46e6-93a5-57cb1b5523a3",
   "metadata": {},
   "outputs": [
    {
     "data": {
      "application/vnd.jupyter.widget-view+json": {
       "model_id": "e5fde43fb4354b7ab188f59ad781f163",
       "version_major": 2,
       "version_minor": 0
      },
      "text/plain": [
       "  0%|          | 0/9449 [00:00<?, ?it/s]"
      ]
     },
     "metadata": {},
     "output_type": "display_data"
    }
   ],
   "source": [
    "long_word_lists = [process_file_one_string(f, txt_file_paths) for f in tqdm(txt_files)]"
   ]
  },
  {
   "cell_type": "code",
   "execution_count": 72,
   "id": "dee0f610-0d29-46ad-ac8f-46f6fa30df15",
   "metadata": {},
   "outputs": [
    {
     "data": {
      "application/vnd.jupyter.widget-view+json": {
       "model_id": "d3648cf3d1474de5b6bc21c92f07146c",
       "version_major": 2,
       "version_minor": 0
      },
      "text/plain": [
       "  0%|          | 0/9449 [00:00<?, ?it/s]"
      ]
     },
     "metadata": {},
     "output_type": "display_data"
    }
   ],
   "source": [
    "stop_words = set(stopwords.words('english'))\n",
    "lemmatizer = WordNetLemmatizer()\n",
    "token_lists = []\n",
    "\n",
    "for word_list in tqdm(long_word_lists):\n",
    "    tokens = word_tokenize(word_list)\n",
    "    filtered_tokens = [t for t in tokens if t not in stop_words]\n",
    "    lemmatized_words = [lemmatizer.lemmatize(t) for t in filtered_tokens]\n",
    "    token_lists.append(lemmatized_words)"
   ]
  },
  {
   "cell_type": "code",
   "execution_count": 75,
   "id": "9e139b19-7bf0-4e70-89df-dd06afece8c8",
   "metadata": {},
   "outputs": [],
   "source": [
    "df = pd.DataFrame({'txt_file': txt_files,\n",
    "                   'article_text': long_word_lists,\n",
    "                    'tokens': token_lists})"
   ]
  },
  {
   "cell_type": "code",
   "execution_count": 79,
   "id": "de8bfc32-dd67-4d48-bd32-8ab02bf75e82",
   "metadata": {},
   "outputs": [
    {
     "name": "stderr",
     "output_type": "stream",
     "text": [
      "/Users/antonhesse/opt/anaconda3/lib/python3.8/site-packages/numpy/core/fromnumeric.py:3440: RuntimeWarning: Mean of empty slice.\n",
      "  return _methods._mean(a, axis=axis, dtype=dtype,\n",
      "/Users/antonhesse/opt/anaconda3/lib/python3.8/site-packages/numpy/core/_methods.py:189: RuntimeWarning: invalid value encountered in double_scalars\n",
      "  ret = ret.dtype.type(ret / rcount)\n"
     ]
    }
   ],
   "source": [
    "df['avg_word_len'] = df.apply(lambda x: np.mean(list(map(len, x['tokens']))), axis=1)"
   ]
  },
  {
   "cell_type": "code",
   "execution_count": 80,
   "id": "1782c16c-1201-448d-975a-c7e8e57bb9ac",
   "metadata": {},
   "outputs": [
    {
     "data": {
      "text/html": [
       "<div>\n",
       "<style scoped>\n",
       "    .dataframe tbody tr th:only-of-type {\n",
       "        vertical-align: middle;\n",
       "    }\n",
       "\n",
       "    .dataframe tbody tr th {\n",
       "        vertical-align: top;\n",
       "    }\n",
       "\n",
       "    .dataframe thead th {\n",
       "        text-align: right;\n",
       "    }\n",
       "</style>\n",
       "<table border=\"1\" class=\"dataframe\">\n",
       "  <thead>\n",
       "    <tr style=\"text-align: right;\">\n",
       "      <th></th>\n",
       "      <th>txt_file</th>\n",
       "      <th>article_text</th>\n",
       "      <th>tokens</th>\n",
       "      <th>avg_word_len</th>\n",
       "    </tr>\n",
       "  </thead>\n",
       "  <tbody>\n",
       "    <tr>\n",
       "      <th>0</th>\n",
       "      <td>jsc.0000000000000862</td>\n",
       "      <td>\\n \\n \\n\\n \\n \\n \\n\\n \\n \\n \\n \\n \\n \\n\\n \\n\\...</td>\n",
       "      <td>[copyright, notice, feduni, researchonline, ht...</td>\n",
       "      <td>4.686279</td>\n",
       "    </tr>\n",
       "    <tr>\n",
       "      <th>1</th>\n",
       "      <td>fnut.2021.718936</td>\n",
       "      <td>original research\\npublished: 21 september 202...</td>\n",
       "      <td>[original, research, published, :, 21, septemb...</td>\n",
       "      <td>5.113729</td>\n",
       "    </tr>\n",
       "    <tr>\n",
       "      <th>2</th>\n",
       "      <td>s003600000151</td>\n",
       "      <td>51© springer international publishing switzerl...</td>\n",
       "      <td>[51©, springer, international, publishing, swi...</td>\n",
       "      <td>4.651454</td>\n",
       "    </tr>\n",
       "    <tr>\n",
       "      <th>3</th>\n",
       "      <td>s00421-022-04928-0</td>\n",
       "      <td>european journal of applied physiology (2022) ...</td>\n",
       "      <td>[european, journal, applied, physiology, (, 20...</td>\n",
       "      <td>4.697708</td>\n",
       "    </tr>\n",
       "    <tr>\n",
       "      <th>4</th>\n",
       "      <td>s00421-007-0554-0</td>\n",
       "      <td>the travelling athlete\\n\\nnebojša nikolić\\n\\n1...</td>\n",
       "      <td>[travelling, athlete, nebojša, nikolić, 16, 16...</td>\n",
       "      <td>5.178954</td>\n",
       "    </tr>\n",
       "    <tr>\n",
       "      <th>...</th>\n",
       "      <td>...</td>\n",
       "      <td>...</td>\n",
       "      <td>...</td>\n",
       "      <td>...</td>\n",
       "    </tr>\n",
       "    <tr>\n",
       "      <th>9444</th>\n",
       "      <td>chest.124.6.2377</td>\n",
       "      <td>https://api.elsevier.com/content/article/pii/s...</td>\n",
       "      <td>[http, :, //api.elsevier.com/content/article/p...</td>\n",
       "      <td>5.658039</td>\n",
       "    </tr>\n",
       "    <tr>\n",
       "      <th>9445</th>\n",
       "      <td>chest.125.4.1292</td>\n",
       "      <td>https://api.elsevier.com/content/article/pii/s...</td>\n",
       "      <td>[http, :, //api.elsevier.com/content/article/p...</td>\n",
       "      <td>5.603693</td>\n",
       "    </tr>\n",
       "    <tr>\n",
       "      <th>9446</th>\n",
       "      <td>77.12.1295</td>\n",
       "      <td>https://api.elsevier.com/content/article/pii/s...</td>\n",
       "      <td>[http, :, //api.elsevier.com/content/article/p...</td>\n",
       "      <td>6.413466</td>\n",
       "    </tr>\n",
       "    <tr>\n",
       "      <th>9447</th>\n",
       "      <td>chest.107.5.1206</td>\n",
       "      <td>https://api.elsevier.com/content/article/pii/s...</td>\n",
       "      <td>[http, :, //api.elsevier.com/content/article/p...</td>\n",
       "      <td>7.885780</td>\n",
       "    </tr>\n",
       "    <tr>\n",
       "      <th>9448</th>\n",
       "      <td>j.amjcard.2011.11.009</td>\n",
       "      <td>https://api.elsevier.com/content/article/pii/s...</td>\n",
       "      <td>[http, :, //api.elsevier.com/content/article/p...</td>\n",
       "      <td>6.044432</td>\n",
       "    </tr>\n",
       "  </tbody>\n",
       "</table>\n",
       "<p>9449 rows × 4 columns</p>\n",
       "</div>"
      ],
      "text/plain": [
       "                   txt_file  \\\n",
       "0      jsc.0000000000000862   \n",
       "1          fnut.2021.718936   \n",
       "2             s003600000151   \n",
       "3        s00421-022-04928-0   \n",
       "4         s00421-007-0554-0   \n",
       "...                     ...   \n",
       "9444       chest.124.6.2377   \n",
       "9445       chest.125.4.1292   \n",
       "9446             77.12.1295   \n",
       "9447       chest.107.5.1206   \n",
       "9448  j.amjcard.2011.11.009   \n",
       "\n",
       "                                           article_text  \\\n",
       "0      \\n \\n \\n\\n \\n \\n \\n\\n \\n \\n \\n \\n \\n \\n\\n \\n\\...   \n",
       "1     original research\\npublished: 21 september 202...   \n",
       "2     51© springer international publishing switzerl...   \n",
       "3     european journal of applied physiology (2022) ...   \n",
       "4     the travelling athlete\\n\\nnebojša nikolić\\n\\n1...   \n",
       "...                                                 ...   \n",
       "9444  https://api.elsevier.com/content/article/pii/s...   \n",
       "9445  https://api.elsevier.com/content/article/pii/s...   \n",
       "9446  https://api.elsevier.com/content/article/pii/s...   \n",
       "9447  https://api.elsevier.com/content/article/pii/s...   \n",
       "9448  https://api.elsevier.com/content/article/pii/s...   \n",
       "\n",
       "                                                 tokens  avg_word_len  \n",
       "0     [copyright, notice, feduni, researchonline, ht...      4.686279  \n",
       "1     [original, research, published, :, 21, septemb...      5.113729  \n",
       "2     [51©, springer, international, publishing, swi...      4.651454  \n",
       "3     [european, journal, applied, physiology, (, 20...      4.697708  \n",
       "4     [travelling, athlete, nebojša, nikolić, 16, 16...      5.178954  \n",
       "...                                                 ...           ...  \n",
       "9444  [http, :, //api.elsevier.com/content/article/p...      5.658039  \n",
       "9445  [http, :, //api.elsevier.com/content/article/p...      5.603693  \n",
       "9446  [http, :, //api.elsevier.com/content/article/p...      6.413466  \n",
       "9447  [http, :, //api.elsevier.com/content/article/p...      7.885780  \n",
       "9448  [http, :, //api.elsevier.com/content/article/p...      6.044432  \n",
       "\n",
       "[9449 rows x 4 columns]"
      ]
     },
     "execution_count": 80,
     "metadata": {},
     "output_type": "execute_result"
    }
   ],
   "source": [
    "df.iterrows"
   ]
  },
  {
   "cell_type": "code",
   "execution_count": null,
   "id": "259dcd56-dc64-453d-aef1-f453a321cb09",
   "metadata": {},
   "outputs": [],
   "source": [
    "# move files with parsing error\n",
    "for idx, row in tqdm(df.iterrows(), total=len(df)):\n",
    "    if row['avg_word_len'] < 1.5:\n",
    "        try:\n",
    "            txt_re = re.compile(re.escape(row['txt_file']))\n",
    "            fname = list(filter(txt_re.search, txt_file_paths))[0]\n",
    "            dest = '/Users/antonhesse/Desktop/Anton/Education/UMN/Lab and Research/HSPL/CPET_scoping_review/data/cpet_articles/full_texts/pdf_to_txt_parsing_error/' + row['txt_file'] + '.txt'\n",
    "            shutil.move(fname, dest)\n",
    "        except Exception as e:\n",
    "            print(e)\n"
   ]
  },
  {
   "cell_type": "code",
   "execution_count": 98,
   "id": "1a2b60a1-cff2-45ea-959e-bc8a9093ec95",
   "metadata": {},
   "outputs": [],
   "source": [
    "df = df[df['avg_word_len'] > 1.5].reset_index(drop=True) # removes articles with pdf to txt conversion issue\n"
   ]
  },
  {
   "cell_type": "code",
   "execution_count": 99,
   "id": "3c902574-a038-47a5-9628-d877ffc5277d",
   "metadata": {},
   "outputs": [],
   "source": [
    "df['language'] = df.apply(lambda x: detect(x['article_text']), axis=1)"
   ]
  },
  {
   "cell_type": "code",
   "execution_count": 100,
   "id": "cb4bf286-0c41-4859-a541-dbd3f1e75203",
   "metadata": {},
   "outputs": [
    {
     "data": {
      "text/plain": [
       "en    9097\n",
       "pt      44\n",
       "ro      39\n",
       "es      14\n",
       "de      11\n",
       "ja       4\n",
       "ko       2\n",
       "fr       2\n",
       "no       1\n",
       "tr       1\n",
       "it       1\n",
       "ru       1\n",
       "ca       1\n",
       "Name: language, dtype: int64"
      ]
     },
     "execution_count": 100,
     "metadata": {},
     "output_type": "execute_result"
    }
   ],
   "source": [
    "df['language'].value_counts()"
   ]
  },
  {
   "cell_type": "code",
   "execution_count": 110,
   "id": "fa879560-7292-4284-a6df-a9b6a818ac8d",
   "metadata": {},
   "outputs": [
    {
     "data": {
      "application/vnd.jupyter.widget-view+json": {
       "model_id": "b69af2bc93c6498bb36f973fe4f6720f",
       "version_major": 2,
       "version_minor": 0
      },
      "text/plain": [
       "  0%|          | 0/9218 [00:00<?, ?it/s]"
      ]
     },
     "metadata": {},
     "output_type": "display_data"
    },
    {
     "name": "stdout",
     "output_type": "stream",
     "text": [
      "[Errno 2] No such file or directory: '/Users/antonhesse/Desktop/Anton/Education/UMN/Lab and Research/HSPL/CPET_scoping_review/data/cpet_articles/full_texts/txts/06.26.pms.119c11z4.txt'\n",
      "[Errno 2] No such file or directory: '/Users/antonhesse/Desktop/Anton/Education/UMN/Lab and Research/HSPL/CPET_scoping_review/data/cpet_articles/full_texts/txts/s1517-86922009000200010.txt'\n",
      "[Errno 2] No such file or directory: '/Users/antonhesse/Desktop/Anton/Education/UMN/Lab and Research/HSPL/CPET_scoping_review/data/cpet_articles/full_texts/txts/s0066-782x2006000600007.txt'\n",
      "[Errno 2] No such file or directory: '/Users/antonhesse/Desktop/Anton/Education/UMN/Lab and Research/HSPL/CPET_scoping_review/data/cpet_articles/full_texts/txts/s00408-003-1009-y.txt'\n",
      "[Errno 2] No such file or directory: '/Users/antonhesse/Desktop/Anton/Education/UMN/Lab and Research/HSPL/CPET_scoping_review/data/cpet_articles/full_texts/txts/jcj.52.162.txt'\n",
      "[Errno 2] No such file or directory: '/Users/antonhesse/Desktop/Anton/Education/UMN/Lab and Research/HSPL/CPET_scoping_review/data/cpet_articles/full_texts/txts/s1517-86922008000600008.txt'\n",
      "[Errno 2] No such file or directory: '/Users/antonhesse/Desktop/Anton/Education/UMN/Lab and Research/HSPL/CPET_scoping_review/data/cpet_articles/full_texts/txts/s1415-52732010000600002.txt'\n",
      "[Errno 2] No such file or directory: '/Users/antonhesse/Desktop/Anton/Education/UMN/Lab and Research/HSPL/CPET_scoping_review/data/cpet_articles/full_texts/txts/ahs1983.11.333.txt'\n",
      "[Errno 2] No such file or directory: '/Users/antonhesse/Desktop/Anton/Education/UMN/Lab and Research/HSPL/CPET_scoping_review/data/cpet_articles/full_texts/txts/s004210100425.txt'\n",
      "[Errno 2] No such file or directory: '/Users/antonhesse/Desktop/Anton/Education/UMN/Lab and Research/HSPL/CPET_scoping_review/data/cpet_articles/full_texts/txts/s1517-86922010000500002.txt'\n",
      "[Errno 2] No such file or directory: '/Users/antonhesse/Desktop/Anton/Education/UMN/Lab and Research/HSPL/CPET_scoping_review/data/cpet_articles/full_texts/txts/jcj.43.171.txt'\n",
      "[Errno 2] No such file or directory: '/Users/antonhesse/Desktop/Anton/Education/UMN/Lab and Research/HSPL/CPET_scoping_review/data/cpet_articles/full_texts/txts/1980-6108.2016.4.24394.txt'\n",
      "[Errno 2] No such file or directory: '/Users/antonhesse/Desktop/Anton/Education/UMN/Lab and Research/HSPL/CPET_scoping_review/data/cpet_articles/full_texts/txts/s0103-05822013000100013.txt'\n",
      "[Errno 2] No such file or directory: '/Users/antonhesse/Desktop/Anton/Education/UMN/Lab and Research/HSPL/CPET_scoping_review/data/cpet_articles/full_texts/txts/j.niox.2020.03.007.txt'\n",
      "[Errno 2] No such file or directory: '/Users/antonhesse/Desktop/Anton/Education/UMN/Lab and Research/HSPL/CPET_scoping_review/data/cpet_articles/full_texts/txts/s1517-86922009000600008.txt'\n",
      "[Errno 2] No such file or directory: '/Users/antonhesse/Desktop/Anton/Education/UMN/Lab and Research/HSPL/CPET_scoping_review/data/cpet_articles/full_texts/txts/s1980-65742013000100021.txt'\n",
      "[Errno 2] No such file or directory: '/Users/antonhesse/Desktop/Anton/Education/UMN/Lab and Research/HSPL/CPET_scoping_review/data/cpet_articles/full_texts/txts/ahs1983.10.133.txt'\n",
      "[Errno 2] No such file or directory: '/Users/antonhesse/Desktop/Anton/Education/UMN/Lab and Research/HSPL/CPET_scoping_review/data/cpet_articles/full_texts/txts/jcj.43.161.txt'\n",
      "[Errno 2] No such file or directory: '/Users/antonhesse/Desktop/Anton/Education/UMN/Lab and Research/HSPL/CPET_scoping_review/data/cpet_articles/full_texts/txts/kanzo.34.950.txt'\n",
      "[Errno 2] No such file or directory: '/Users/antonhesse/Desktop/Anton/Education/UMN/Lab and Research/HSPL/CPET_scoping_review/data/cpet_articles/full_texts/txts/s00103-020-03100-3.txt'\n",
      "[Errno 2] No such file or directory: '/Users/antonhesse/Desktop/Anton/Education/UMN/Lab and Research/HSPL/CPET_scoping_review/data/cpet_articles/full_texts/txts/s0066-782x2008001300007.txt'\n",
      "[Errno 2] No such file or directory: '/Users/antonhesse/Desktop/Anton/Education/UMN/Lab and Research/HSPL/CPET_scoping_review/data/cpet_articles/full_texts/txts/s1517-86922010000400012.txt'\n",
      "[Errno 2] No such file or directory: '/Users/antonhesse/Desktop/Anton/Education/UMN/Lab and Research/HSPL/CPET_scoping_review/data/cpet_articles/full_texts/txts/lbl.2012.05.432.txt'\n",
      "[Errno 2] No such file or directory: '/Users/antonhesse/Desktop/Anton/Education/UMN/Lab and Research/HSPL/CPET_scoping_review/data/cpet_articles/full_texts/txts/jcj.59.315.txt'\n",
      "[Errno 2] No such file or directory: '/Users/antonhesse/Desktop/Anton/Education/UMN/Lab and Research/HSPL/CPET_scoping_review/data/cpet_articles/full_texts/txts/s0034-98872018000100015.txt'\n",
      "[Errno 2] No such file or directory: '/Users/antonhesse/Desktop/Anton/Education/UMN/Lab and Research/HSPL/CPET_scoping_review/data/cpet_articles/full_texts/txts/ahs1983.11.257.txt'\n",
      "[Errno 2] No such file or directory: '/Users/antonhesse/Desktop/Anton/Education/UMN/Lab and Research/HSPL/CPET_scoping_review/data/cpet_articles/full_texts/txts/jcj.57.208.txt'\n",
      "[Errno 2] No such file or directory: '/Users/antonhesse/Desktop/Anton/Education/UMN/Lab and Research/HSPL/CPET_scoping_review/data/cpet_articles/full_texts/txts/s1135-57272013000100005.txt'\n",
      "[Errno 2] No such file or directory: '/Users/antonhesse/Desktop/Anton/Education/UMN/Lab and Research/HSPL/CPET_scoping_review/data/cpet_articles/full_texts/txts/s1517-86922010000400005.txt'\n",
      "[Errno 2] No such file or directory: '/Users/antonhesse/Desktop/Anton/Education/UMN/Lab and Research/HSPL/CPET_scoping_review/data/cpet_articles/full_texts/txts/s1980-65742012000400007.txt'\n",
      "[Errno 2] No such file or directory: '/Users/antonhesse/Desktop/Anton/Education/UMN/Lab and Research/HSPL/CPET_scoping_review/data/cpet_articles/full_texts/txts/s0004-27302007000900011.txt'\n",
      "[Errno 2] No such file or directory: '/Users/antonhesse/Desktop/Anton/Education/UMN/Lab and Research/HSPL/CPET_scoping_review/data/cpet_articles/full_texts/txts/s1517-86922008000300013.txt'\n",
      "[Errno 2] No such file or directory: '/Users/antonhesse/Desktop/Anton/Education/UMN/Lab and Research/HSPL/CPET_scoping_review/data/cpet_articles/full_texts/txts/s00421-009-1081-y.txt'\n",
      "[Errno 2] No such file or directory: '/Users/antonhesse/Desktop/Anton/Education/UMN/Lab and Research/HSPL/CPET_scoping_review/data/cpet_articles/full_texts/txts/jcj.43.215.txt'\n",
      "[Errno 2] No such file or directory: '/Users/antonhesse/Desktop/Anton/Education/UMN/Lab and Research/HSPL/CPET_scoping_review/data/cpet_articles/full_texts/txts/s1517-86922008000500005.txt'\n",
      "[Errno 2] No such file or directory: '/Users/antonhesse/Desktop/Anton/Education/UMN/Lab and Research/HSPL/CPET_scoping_review/data/cpet_articles/full_texts/txts/s1517-86922013000600010.txt'\n",
      "[Errno 2] No such file or directory: '/Users/antonhesse/Desktop/Anton/Education/UMN/Lab and Research/HSPL/CPET_scoping_review/data/cpet_articles/full_texts/txts/rimcafd2018.71.007.txt'\n",
      "[Errno 2] No such file or directory: '/Users/antonhesse/Desktop/Anton/Education/UMN/Lab and Research/HSPL/CPET_scoping_review/data/cpet_articles/full_texts/txts/s1517-86922013000600011.txt'\n",
      "[Errno 2] No such file or directory: '/Users/antonhesse/Desktop/Anton/Education/UMN/Lab and Research/HSPL/CPET_scoping_review/data/cpet_articles/full_texts/txts/s1517-86922013000600005.txt'\n",
      "[Errno 2] No such file or directory: '/Users/antonhesse/Desktop/Anton/Education/UMN/Lab and Research/HSPL/CPET_scoping_review/data/cpet_articles/full_texts/txts/s1517-86922010000200013.txt'\n",
      "[Errno 2] No such file or directory: '/Users/antonhesse/Desktop/Anton/Education/UMN/Lab and Research/HSPL/CPET_scoping_review/data/cpet_articles/full_texts/txts/jcj.47.680.txt'\n",
      "[Errno 2] No such file or directory: '/Users/antonhesse/Desktop/Anton/Education/UMN/Lab and Research/HSPL/CPET_scoping_review/data/cpet_articles/full_texts/txts/s1517-86922009000500003.txt'\n",
      "[Errno 2] No such file or directory: '/Users/antonhesse/Desktop/Anton/Education/UMN/Lab and Research/HSPL/CPET_scoping_review/data/cpet_articles/full_texts/txts/s0034-98872014000100006.txt'\n",
      "[Errno 2] No such file or directory: '/Users/antonhesse/Desktop/Anton/Education/UMN/Lab and Research/HSPL/CPET_scoping_review/data/cpet_articles/full_texts/txts/jcj.47.735.txt'\n",
      "[Errno 2] No such file or directory: '/Users/antonhesse/Desktop/Anton/Education/UMN/Lab and Research/HSPL/CPET_scoping_review/data/cpet_articles/full_texts/txts/ahs1983.4.245.txt'\n",
      "[Errno 2] No such file or directory: '/Users/antonhesse/Desktop/Anton/Education/UMN/Lab and Research/HSPL/CPET_scoping_review/data/cpet_articles/full_texts/txts/s1517-86922008000400007.txt'\n",
      "[Errno 2] No such file or directory: '/Users/antonhesse/Desktop/Anton/Education/UMN/Lab and Research/HSPL/CPET_scoping_review/data/cpet_articles/full_texts/txts/jcj.35.67.txt'\n",
      "[Errno 2] No such file or directory: '/Users/antonhesse/Desktop/Anton/Education/UMN/Lab and Research/HSPL/CPET_scoping_review/data/cpet_articles/full_texts/txts/abc.20190443.txt'\n",
      "[Errno 2] No such file or directory: '/Users/antonhesse/Desktop/Anton/Education/UMN/Lab and Research/HSPL/CPET_scoping_review/data/cpet_articles/full_texts/txts/juoeh.8.11.txt'\n",
      "[Errno 2] No such file or directory: '/Users/antonhesse/Desktop/Anton/Education/UMN/Lab and Research/HSPL/CPET_scoping_review/data/cpet_articles/full_texts/txts/s1980-65742012000300002.txt'\n",
      "[Errno 2] No such file or directory: '/Users/antonhesse/Desktop/Anton/Education/UMN/Lab and Research/HSPL/CPET_scoping_review/data/cpet_articles/full_texts/txts/bf03345157.txt'\n",
      "[Errno 2] No such file or directory: '/Users/antonhesse/Desktop/Anton/Education/UMN/Lab and Research/HSPL/CPET_scoping_review/data/cpet_articles/full_texts/txts/s1980-65742013000200010.txt'\n",
      "[Errno 2] No such file or directory: '/Users/antonhesse/Desktop/Anton/Education/UMN/Lab and Research/HSPL/CPET_scoping_review/data/cpet_articles/full_texts/txts/00007256-200434050-00001.txt'\n",
      "[Errno 2] No such file or directory: '/Users/antonhesse/Desktop/Anton/Education/UMN/Lab and Research/HSPL/CPET_scoping_review/data/cpet_articles/full_texts/txts/jcj.54.12_1535.txt'\n",
      "[Errno 2] No such file or directory: '/Users/antonhesse/Desktop/Anton/Education/UMN/Lab and Research/HSPL/CPET_scoping_review/data/cpet_articles/full_texts/txts/s00421-015-3100-5.txt'\n",
      "[Errno 2] No such file or directory: '/Users/antonhesse/Desktop/Anton/Education/UMN/Lab and Research/HSPL/CPET_scoping_review/data/cpet_articles/full_texts/txts/tftr.39200.txt'\n",
      "[Errno 2] No such file or directory: '/Users/antonhesse/Desktop/Anton/Education/UMN/Lab and Research/HSPL/CPET_scoping_review/data/cpet_articles/full_texts/txts/s1517-86922010000300003.txt'\n",
      "[Errno 2] No such file or directory: '/Users/antonhesse/Desktop/Anton/Education/UMN/Lab and Research/HSPL/CPET_scoping_review/data/cpet_articles/full_texts/txts/s1517-86922008000400014.txt'\n",
      "[Errno 2] No such file or directory: '/Users/antonhesse/Desktop/Anton/Education/UMN/Lab and Research/HSPL/CPET_scoping_review/data/cpet_articles/full_texts/txts/s0034-98872018000700830.txt'\n",
      "[Errno 2] No such file or directory: '/Users/antonhesse/Desktop/Anton/Education/UMN/Lab and Research/HSPL/CPET_scoping_review/data/cpet_articles/full_texts/txts/bf01957277.txt'\n",
      "[Errno 2] No such file or directory: '/Users/antonhesse/Desktop/Anton/Education/UMN/Lab and Research/HSPL/CPET_scoping_review/data/cpet_articles/full_texts/txts/jcj.47.1060.txt'\n",
      "[Errno 2] No such file or directory: '/Users/antonhesse/Desktop/Anton/Education/UMN/Lab and Research/HSPL/CPET_scoping_review/data/cpet_articles/full_texts/txts/s00421-011-2281-9.txt'\n",
      "[Errno 2] No such file or directory: '/Users/antonhesse/Desktop/Anton/Education/UMN/Lab and Research/HSPL/CPET_scoping_review/data/cpet_articles/full_texts/txts/ahs.14.177.txt'\n",
      "[Errno 2] No such file or directory: '/Users/antonhesse/Desktop/Anton/Education/UMN/Lab and Research/HSPL/CPET_scoping_review/data/cpet_articles/full_texts/txts/s1517-86922011000600002.txt'\n",
      "[Errno 2] No such file or directory: '/Users/antonhesse/Desktop/Anton/Education/UMN/Lab and Research/HSPL/CPET_scoping_review/data/cpet_articles/full_texts/txts/jcj.56.504.txt'\n",
      "[Errno 2] No such file or directory: '/Users/antonhesse/Desktop/Anton/Education/UMN/Lab and Research/HSPL/CPET_scoping_review/data/cpet_articles/full_texts/txts/jcj.47.703.txt'\n",
      "[Errno 2] No such file or directory: '/Users/antonhesse/Desktop/Anton/Education/UMN/Lab and Research/HSPL/CPET_scoping_review/data/cpet_articles/full_texts/txts/jcj.54.603.txt'\n",
      "[Errno 2] No such file or directory: '/Users/antonhesse/Desktop/Anton/Education/UMN/Lab and Research/HSPL/CPET_scoping_review/data/cpet_articles/full_texts/txts/s1517-86922010000600010.txt'\n",
      "[Errno 2] No such file or directory: '/Users/antonhesse/Desktop/Anton/Education/UMN/Lab and Research/HSPL/CPET_scoping_review/data/cpet_articles/full_texts/txts/jcj.54.11_1437.txt'\n",
      "[Errno 2] No such file or directory: '/Users/antonhesse/Desktop/Anton/Education/UMN/Lab and Research/HSPL/CPET_scoping_review/data/cpet_articles/full_texts/txts/jcj.50.636.txt'\n",
      "[Errno 2] No such file or directory: '/Users/antonhesse/Desktop/Anton/Education/UMN/Lab and Research/HSPL/CPET_scoping_review/data/cpet_articles/full_texts/txts/rimcafd2016.61.003.txt'\n",
      "[Errno 2] No such file or directory: '/Users/antonhesse/Desktop/Anton/Education/UMN/Lab and Research/HSPL/CPET_scoping_review/data/cpet_articles/full_texts/txts/1517-8692202228042020_0129.txt'\n",
      "[Errno 2] No such file or directory: '/Users/antonhesse/Desktop/Anton/Education/UMN/Lab and Research/HSPL/CPET_scoping_review/data/cpet_articles/full_texts/txts/abc.20200792.txt'\n",
      "[Errno 2] No such file or directory: '/Users/antonhesse/Desktop/Anton/Education/UMN/Lab and Research/HSPL/CPET_scoping_review/data/cpet_articles/full_texts/txts/s1980-65742013000200021.txt'\n",
      "[Errno 2] No such file or directory: '/Users/antonhesse/Desktop/Anton/Education/UMN/Lab and Research/HSPL/CPET_scoping_review/data/cpet_articles/full_texts/txts/bf03347214.txt'\n",
      "[Errno 2] No such file or directory: '/Users/antonhesse/Desktop/Anton/Education/UMN/Lab and Research/HSPL/CPET_scoping_review/data/cpet_articles/full_texts/txts/s1980-65742013000200018.txt'\n",
      "[Errno 2] No such file or directory: '/Users/antonhesse/Desktop/Anton/Education/UMN/Lab and Research/HSPL/CPET_scoping_review/data/cpet_articles/full_texts/txts/j.transproceed.2011.04.025.txt'\n",
      "[Errno 2] No such file or directory: '/Users/antonhesse/Desktop/Anton/Education/UMN/Lab and Research/HSPL/CPET_scoping_review/data/cpet_articles/full_texts/txts/jcj.52.495.txt'\n",
      "[Errno 2] No such file or directory: '/Users/antonhesse/Desktop/Anton/Education/UMN/Lab and Research/HSPL/CPET_scoping_review/data/cpet_articles/full_texts/txts/ahs1983.7.31.txt'\n",
      "[Errno 2] No such file or directory: '/Users/antonhesse/Desktop/Anton/Education/UMN/Lab and Research/HSPL/CPET_scoping_review/data/cpet_articles/full_texts/txts/abc.20200437.txt'\n",
      "[Errno 2] No such file or directory: '/Users/antonhesse/Desktop/Anton/Education/UMN/Lab and Research/HSPL/CPET_scoping_review/data/cpet_articles/full_texts/txts/s00246-016-1501-9.txt'\n",
      "[Errno 2] No such file or directory: '/Users/antonhesse/Desktop/Anton/Education/UMN/Lab and Research/HSPL/CPET_scoping_review/data/cpet_articles/full_texts/txts/jcj.35.57.txt'\n",
      "[Errno 2] No such file or directory: '/Users/antonhesse/Desktop/Anton/Education/UMN/Lab and Research/HSPL/CPET_scoping_review/data/cpet_articles/full_texts/txts/jcj.54.11_1419.txt'\n",
      "[Errno 2] No such file or directory: '/Users/antonhesse/Desktop/Anton/Education/UMN/Lab and Research/HSPL/CPET_scoping_review/data/cpet_articles/full_texts/txts/s0066-782x2007001800007.txt'\n",
      "[Errno 2] No such file or directory: '/Users/antonhesse/Desktop/Anton/Education/UMN/Lab and Research/HSPL/CPET_scoping_review/data/cpet_articles/full_texts/txts/jcj.59.547.txt'\n",
      "[Errno 2] No such file or directory: '/Users/antonhesse/Desktop/Anton/Education/UMN/Lab and Research/HSPL/CPET_scoping_review/data/cpet_articles/full_texts/txts/s0717-75182021000600893.txt'\n",
      "[Errno 2] No such file or directory: '/Users/antonhesse/Desktop/Anton/Education/UMN/Lab and Research/HSPL/CPET_scoping_review/data/cpet_articles/full_texts/txts/mss.0b013e318275306f.txt'\n",
      "[Errno 2] No such file or directory: '/Users/antonhesse/Desktop/Anton/Education/UMN/Lab and Research/HSPL/CPET_scoping_review/data/cpet_articles/full_texts/txts/s-0043-114008.txt'\n",
      "[Errno 2] No such file or directory: '/Users/antonhesse/Desktop/Anton/Education/UMN/Lab and Research/HSPL/CPET_scoping_review/data/cpet_articles/full_texts/txts/abc.20190048.txt'\n",
      "[Errno 2] No such file or directory: '/Users/antonhesse/Desktop/Anton/Education/UMN/Lab and Research/HSPL/CPET_scoping_review/data/cpet_articles/full_texts/txts/ahs1983.11.105.txt'\n",
      "[Errno 2] No such file or directory: '/Users/antonhesse/Desktop/Anton/Education/UMN/Lab and Research/HSPL/CPET_scoping_review/data/cpet_articles/full_texts/txts/s1980-65742013000100012.txt'\n",
      "[Errno 2] No such file or directory: '/Users/antonhesse/Desktop/Anton/Education/UMN/Lab and Research/HSPL/CPET_scoping_review/data/cpet_articles/full_texts/txts/ahs.14.49.txt'\n",
      "[Errno 2] No such file or directory: '/Users/antonhesse/Desktop/Anton/Education/UMN/Lab and Research/HSPL/CPET_scoping_review/data/cpet_articles/full_texts/txts/s0034-98872016001000003.txt'\n",
      "[Errno 2] No such file or directory: '/Users/antonhesse/Desktop/Anton/Education/UMN/Lab and Research/HSPL/CPET_scoping_review/data/cpet_articles/full_texts/txts/jcj.53.146.txt'\n",
      "[Errno 2] No such file or directory: '/Users/antonhesse/Desktop/Anton/Education/UMN/Lab and Research/HSPL/CPET_scoping_review/data/cpet_articles/full_texts/txts/2074-272x.2019.3.08.txt'\n",
      "[Errno 2] No such file or directory: '/Users/antonhesse/Desktop/Anton/Education/UMN/Lab and Research/HSPL/CPET_scoping_review/data/cpet_articles/full_texts/txts/s1517-86922010000400009.txt'\n",
      "[Errno 2] No such file or directory: '/Users/antonhesse/Desktop/Anton/Education/UMN/Lab and Research/HSPL/CPET_scoping_review/data/cpet_articles/full_texts/txts/jcj.53.387.txt'\n",
      "[Errno 2] No such file or directory: '/Users/antonhesse/Desktop/Anton/Education/UMN/Lab and Research/HSPL/CPET_scoping_review/data/cpet_articles/full_texts/txts/phm.0b013e318238a0b1.txt'\n",
      "[Errno 2] No such file or directory: '/Users/antonhesse/Desktop/Anton/Education/UMN/Lab and Research/HSPL/CPET_scoping_review/data/cpet_articles/full_texts/txts/s1517-86922009000600010.txt'\n",
      "[Errno 2] No such file or directory: '/Users/antonhesse/Desktop/Anton/Education/UMN/Lab and Research/HSPL/CPET_scoping_review/data/cpet_articles/full_texts/txts/sms.12547.txt'\n",
      "[Errno 2] No such file or directory: '/Users/antonhesse/Desktop/Anton/Education/UMN/Lab and Research/HSPL/CPET_scoping_review/data/cpet_articles/full_texts/txts/s1517-86922014000100008.txt'\n",
      "[Errno 2] No such file or directory: '/Users/antonhesse/Desktop/Anton/Education/UMN/Lab and Research/HSPL/CPET_scoping_review/data/cpet_articles/full_texts/txts/j.jsams.2016.04.012.txt'\n",
      "[Errno 2] No such file or directory: '/Users/antonhesse/Desktop/Anton/Education/UMN/Lab and Research/HSPL/CPET_scoping_review/data/cpet_articles/full_texts/txts/s-0042-102299.txt'\n",
      "[Errno 2] No such file or directory: '/Users/antonhesse/Desktop/Anton/Education/UMN/Lab and Research/HSPL/CPET_scoping_review/data/cpet_articles/full_texts/txts/s1517-86922010000100011.txt'\n",
      "[Errno 2] No such file or directory: '/Users/antonhesse/Desktop/Anton/Education/UMN/Lab and Research/HSPL/CPET_scoping_review/data/cpet_articles/full_texts/txts/jcj.59.137.txt'\n",
      "[Errno 2] No such file or directory: '/Users/antonhesse/Desktop/Anton/Education/UMN/Lab and Research/HSPL/CPET_scoping_review/data/cpet_articles/full_texts/txts/ahs1983.13.167.txt'\n",
      "[Errno 2] No such file or directory: '/Users/antonhesse/Desktop/Anton/Education/UMN/Lab and Research/HSPL/CPET_scoping_review/data/cpet_articles/full_texts/txts/s0034-98872019000300289.txt'\n",
      "[Errno 2] No such file or directory: '/Users/antonhesse/Desktop/Anton/Education/UMN/Lab and Research/HSPL/CPET_scoping_review/data/cpet_articles/full_texts/txts/s0034-98872016000900009.txt'\n",
      "[Errno 2] No such file or directory: '/Users/antonhesse/Desktop/Anton/Education/UMN/Lab and Research/HSPL/CPET_scoping_review/data/cpet_articles/full_texts/txts/bf00441297.txt'\n",
      "[Errno 2] No such file or directory: '/Users/antonhesse/Desktop/Anton/Education/UMN/Lab and Research/HSPL/CPET_scoping_review/data/cpet_articles/full_texts/txts/ahs1983.4.188.txt'\n",
      "[Errno 2] No such file or directory: '/Users/antonhesse/Desktop/Anton/Education/UMN/Lab and Research/HSPL/CPET_scoping_review/data/cpet_articles/full_texts/txts/ahs1983.11.289.txt'\n",
      "[Errno 2] No such file or directory: '/Users/antonhesse/Desktop/Anton/Education/UMN/Lab and Research/HSPL/CPET_scoping_review/data/cpet_articles/full_texts/txts/jcj.59.647.txt'\n",
      "[Errno 2] No such file or directory: '/Users/antonhesse/Desktop/Anton/Education/UMN/Lab and Research/HSPL/CPET_scoping_review/data/cpet_articles/full_texts/txts/jcj.54.11_1451.txt'\n",
      "[Errno 2] No such file or directory: '/Users/antonhesse/Desktop/Anton/Education/UMN/Lab and Research/HSPL/CPET_scoping_review/data/cpet_articles/full_texts/txts/s0034-98872017000800972.txt'\n",
      "[Errno 2] No such file or directory: '/Users/antonhesse/Desktop/Anton/Education/UMN/Lab and Research/HSPL/CPET_scoping_review/data/cpet_articles/full_texts/txts/ahs1983.11.277.txt'\n",
      "[Errno 2] No such file or directory: '/Users/antonhesse/Desktop/Anton/Education/UMN/Lab and Research/HSPL/CPET_scoping_review/data/cpet_articles/full_texts/txts/s1980-65742012000100011.txt'\n",
      "[Errno 2] No such file or directory: '/Users/antonhesse/Desktop/Anton/Education/UMN/Lab and Research/HSPL/CPET_scoping_review/data/cpet_articles/full_texts/txts/s1517-86922008000600010.txt'\n",
      "[Errno 2] No such file or directory: '/Users/antonhesse/Desktop/Anton/Education/UMN/Lab and Research/HSPL/CPET_scoping_review/data/cpet_articles/full_texts/txts/s1517-86922009000200009.txt'\n",
      "[Errno 2] No such file or directory: '/Users/antonhesse/Desktop/Anton/Education/UMN/Lab and Research/HSPL/CPET_scoping_review/data/cpet_articles/full_texts/txts/jcj.50.863.txt'\n",
      "[Errno 2] No such file or directory: '/Users/antonhesse/Desktop/Anton/Education/UMN/Lab and Research/HSPL/CPET_scoping_review/data/cpet_articles/full_texts/txts/jcj.57.189.txt'\n",
      "[Errno 2] No such file or directory: '/Users/antonhesse/Desktop/Anton/Education/UMN/Lab and Research/HSPL/CPET_scoping_review/data/cpet_articles/full_texts/txts/s1517-86922005000100006.txt'\n"
     ]
    }
   ],
   "source": [
    "# move files not in english\n",
    "error_list = []\n",
    "for idx, row in tqdm(df.iterrows(), total=len(df)):\n",
    "    if row['language'] not in ['en', 'cy']:\n",
    "        try:\n",
    "            txt_re = re.compile(re.escape(row['txt_file']))\n",
    "            fname = list(filter(txt_re.search, txt_file_paths))[0]\n",
    "            dest = '/Users/antonhesse/Desktop/Anton/Education/UMN/Lab and Research/HSPL/CPET_scoping_review/data/cpet_articles/full_texts/non-english/' + row['txt_file'] + '.txt'\n",
    "            shutil.move(fname, dest)\n",
    "        except Exception as e:\n",
    "            print(e)\n",
    "            error_list.append("
   ]
  },
  {
   "cell_type": "code",
   "execution_count": 109,
   "id": "29d4ef73-34ec-465a-ba6a-dc3c81f48f9f",
   "metadata": {},
   "outputs": [
    {
     "data": {
      "text/plain": [
       "False"
      ]
     },
     "execution_count": 109,
     "metadata": {},
     "output_type": "execute_result"
    }
   ],
   "source": [
    "# df = df[df['language'].isin(['en', 'cy'])].reset_index(drop=True)\n",
    "row = df.iloc[0,:]\n",
    "row['language'] not in ['en', 'cy']"
   ]
  }
 ],
 "metadata": {
  "kernelspec": {
   "display_name": "Python 3 (ipykernel)",
   "language": "python",
   "name": "python3"
  },
  "language_info": {
   "codemirror_mode": {
    "name": "ipython",
    "version": 3
   },
   "file_extension": ".py",
   "mimetype": "text/x-python",
   "name": "python",
   "nbconvert_exporter": "python",
   "pygments_lexer": "ipython3",
   "version": "3.8.8"
  }
 },
 "nbformat": 4,
 "nbformat_minor": 5
}
