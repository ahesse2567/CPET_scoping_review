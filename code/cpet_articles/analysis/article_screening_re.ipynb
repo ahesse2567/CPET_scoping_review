{
 "cells": [
  {
   "cell_type": "code",
   "execution_count": null,
   "id": "922a2934-a073-490b-be6a-7cb41ed02da2",
   "metadata": {},
   "outputs": [],
   "source": [
    "def oxygen_uptake(text):\n",
    "    o2_uptake_re = re.compile(r'oxygen.*{0,5}uptake')\n",
    "    \n",
    "    mo_list = [o2_uptake_re.search(text)]\n",
    "    \n",
    "    mentions_o2_uptake = any(mo is not None for mo in mo_list)\n",
    "    \n",
    "    return mentions_o2_uptake"
   ]
  },
  {
   "cell_type": "code",
   "execution_count": null,
   "id": "f380f42a-e0a5-4af8-a900-cd75d3c7970f",
   "metadata": {},
   "outputs": [],
   "source": [
    "def gas_collection_methods(text):\n",
    "    bbb_re = re.compile(r'breath.{0,5}breath', re.DOTALL)\n",
    "    douglas_bag_re = re.compile(r'douglas.{0,5}bag', re.DOTALL)\n",
    "    \n",
    "    mo_list = [bbb_re.search(text), douglas_bag_re.search(text)]\n",
    "    \n",
    "    gas_methods = any(mo is not None for mo in mo_list)\n",
    "    \n",
    "    return gas_methods"
   ]
  },
  {
   "cell_type": "code",
   "execution_count": null,
   "id": "abca5680-dce8-48bf-bc76-dece9ead653b",
   "metadata": {},
   "outputs": [],
   "source": [
    "def vo2_units(text):\n",
    "    mL_kg_min_re = re.compile(r'ml[^a-zA-Z]*kg[^a-zA-Z]*min')\n",
    "    mL_min_kg_re = re.compile(r'ml[^a-zA-Z]*min[^a-zA-Z]*kg')\n",
    "    \n",
    "    # L_mL_min = re.compile(r'(m)?l[^a-zA-Z]*min')\n",
    "\n",
    "    mo_list = [mL_kg_min_re.search(text), mL_min_kg_re.search(text)]\n",
    "    \n",
    "    vo2_units = any(mo is not None for mo in mo_list)\n",
    "    \n",
    "    return vo2_units"
   ]
  }
 ],
 "metadata": {
  "kernelspec": {
   "display_name": "Python 3 (ipykernel)",
   "language": "python",
   "name": "python3"
  },
  "language_info": {
   "codemirror_mode": {
    "name": "ipython",
    "version": 3
   },
   "file_extension": ".py",
   "mimetype": "text/x-python",
   "name": "python",
   "nbconvert_exporter": "python",
   "pygments_lexer": "ipython3",
   "version": "3.8.8"
  }
 },
 "nbformat": 4,
 "nbformat_minor": 5
}
