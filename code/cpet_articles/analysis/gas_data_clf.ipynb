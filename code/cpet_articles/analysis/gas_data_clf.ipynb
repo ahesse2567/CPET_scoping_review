{
 "cells": [
  {
   "cell_type": "code",
   "execution_count": 344,
   "id": "f73a16da",
   "metadata": {},
   "outputs": [],
   "source": [
    "import nltk\n",
    "from nltk.tokenize import sent_tokenize, word_tokenize\n",
    "from nltk.corpus import stopwords\n",
    "from nltk.stem import PorterStemmer, WordNetLemmatizer\n",
    "# from nltk.probability import FreqDist\n",
    "from pathlib import Path\n",
    "import glob\n",
    "import random\n",
    "import pandas as pd\n",
    "import re\n",
    "# import requests\n",
    "from tqdm.notebook import tqdm\n",
    "from sklearn.model_selection import StratifiedKFold, cross_val_score, RepeatedStratifiedKFold, train_test_split, GridSearchCV\n",
    "from nltk.classify.scikitlearn import SklearnClassifier\n",
    "from sklearn.naive_bayes import MultinomialNB,BernoulliNB,GaussianNB,ComplementNB,CategoricalNB\n",
    "from statistics import mean, stdev\n",
    "from sklearn.feature_extraction.text import CountVectorizer, TfidfVectorizer, TfidfTransformer\n",
    "from sklearn.metrics import accuracy_score, confusion_matrix, ConfusionMatrixDisplay\n",
    "from sklearn.linear_model import SGDClassifier, LogisticRegression\n",
    "from sklearn.svm import SVC, LinearSVC, NuSVC\n",
    "from sklearn.ensemble import VotingClassifier, RandomForestClassifier\n",
    "from sklearn.tree import DecisionTreeClassifier\n",
    "from sklearn.neighbors import KNeighborsClassifier\n",
    "import matplotlib.pyplot as plt\n",
    "import numpy as np\n",
    "import pickle\n",
    "import time"
   ]
  },
  {
   "cell_type": "code",
   "execution_count": 280,
   "id": "beffd835",
   "metadata": {},
   "outputs": [],
   "source": [
    "def process_file(file_name, file_list):\n",
    "    txt_re = re.compile(file_name)\n",
    "    fname = list(filter(txt_re.search, file_list))[0]\n",
    "    \n",
    "    # check file size to make sure the txt file actually has text\n",
    "    file_size = 0\n",
    "    while file_size == 0:\n",
    "        file_size = Path(fname).stat().st_size\n",
    "        if file_size != 0: # check if conversion to txt didn't work\n",
    "            with open(fname, 'r') as f:\n",
    "                text = f.read()\n",
    "        else:\n",
    "            print('Empty file, returning None')\n",
    "            return None\n",
    "    text_lower = text.lower()\n",
    "    tokens = word_tokenize(text_lower)\n",
    "    stop_words = set(stopwords.words('english'))\n",
    "\n",
    "    filtered_tokens = [t for t in tokens if t not in stop_words]\n",
    "    \n",
    "    lemmatizer = WordNetLemmatizer()\n",
    "    lemmatized_words = [lemmatizer.lemmatize(t) for t in filtered_tokens]\n",
    "    \n",
    "    return lemmatized_words"
   ]
  },
  {
   "cell_type": "code",
   "execution_count": 281,
   "id": "82ead547",
   "metadata": {},
   "outputs": [],
   "source": [
    "txt_files = glob.glob('/Users/antonhesse/Desktop/Anton/Education/UMN/Lab and Research/HSPL/CPET_scoping_review/data/cpet_articles/txts/*.txt')\n",
    "gas_clf_df = pd.read_csv('/Users/antonhesse/Desktop/Anton/Education/UMN/Lab and Research/HSPL/CPET_scoping_review/data/cpet_articles/Manual text analysis - Gas clf.csv')\n",
    "gas_clf_df['txt_file_name'] = gas_clf_df.apply(lambda x: str(x['Article'] + '.txt'), axis=1)\n",
    "# gas_clf_df = gas_clf_df[(gas_clf_df['Eligible'] == 'e') & (gas_clf_df['External ref'] == 'n')].reset_index(drop=True)"
   ]
  },
  {
   "cell_type": "code",
   "execution_count": 282,
   "id": "e090a205",
   "metadata": {},
   "outputs": [],
   "source": [
    "for idx, row in gas_clf_df.iterrows():\n",
    "    if row['Eligible'] != 'e':\n",
    "        row['Gas data'] = 'n'\n",
    "    if row['External ref'] == 'y':\n",
    "        row['Gas data'] = 'n'"
   ]
  },
  {
   "cell_type": "code",
   "execution_count": 283,
   "id": "6ce6d3c4",
   "metadata": {},
   "outputs": [],
   "source": [
    "analyzed_txt_files = gas_clf_df['txt_file_name'].to_list()"
   ]
  },
  {
   "cell_type": "code",
   "execution_count": 284,
   "id": "b4683895",
   "metadata": {},
   "outputs": [
    {
     "data": {
      "application/vnd.jupyter.widget-view+json": {
       "model_id": "19e836463519401dab769ddc9c558192",
       "version_major": 2,
       "version_minor": 0
      },
      "text/plain": [
       "  0%|          | 0/594 [00:00<?, ?it/s]"
      ]
     },
     "metadata": {},
     "output_type": "display_data"
    }
   ],
   "source": [
    "word_lists = [process_file(f, txt_files) for f in tqdm(analyzed_txt_files)]\n",
    "joined_word_lists = [' '.join(text) for text in word_lists]"
   ]
  },
  {
   "cell_type": "code",
   "execution_count": 285,
   "id": "a64513dd",
   "metadata": {
    "scrolled": true
   },
   "outputs": [
    {
     "data": {
      "text/html": [
       "<div>\n",
       "<style scoped>\n",
       "    .dataframe tbody tr th:only-of-type {\n",
       "        vertical-align: middle;\n",
       "    }\n",
       "\n",
       "    .dataframe tbody tr th {\n",
       "        vertical-align: top;\n",
       "    }\n",
       "\n",
       "    .dataframe thead th {\n",
       "        text-align: right;\n",
       "    }\n",
       "</style>\n",
       "<table border=\"1\" class=\"dataframe\">\n",
       "  <thead>\n",
       "    <tr style=\"text-align: right;\">\n",
       "      <th></th>\n",
       "      <th>Article</th>\n",
       "      <th>Eligible</th>\n",
       "      <th>Eligibility note</th>\n",
       "      <th>External ref</th>\n",
       "      <th>Gas data</th>\n",
       "      <th>txt_file_name</th>\n",
       "    </tr>\n",
       "  </thead>\n",
       "  <tbody>\n",
       "  </tbody>\n",
       "</table>\n",
       "</div>"
      ],
      "text/plain": [
       "Empty DataFrame\n",
       "Columns: [Article, Eligible, Eligibility note, External ref, Gas data, txt_file_name]\n",
       "Index: []"
      ]
     },
     "execution_count": 285,
     "metadata": {},
     "output_type": "execute_result"
    }
   ],
   "source": [
    "gas_clf_df[gas_clf_df['Gas data'].isnull()]"
   ]
  },
  {
   "cell_type": "code",
   "execution_count": 286,
   "id": "a66065f0",
   "metadata": {},
   "outputs": [
    {
     "name": "stdout",
     "output_type": "stream",
     "text": [
      "Values counts:\n",
      "n    308\n",
      "y    286\n",
      "Name: Gas data, dtype: int64\n",
      "\n",
      "Proportions:\n",
      "n    51.9\n",
      "y    48.1\n",
      "Name: Gas data, dtype: float64\n"
     ]
    }
   ],
   "source": [
    "gas_data = gas_clf_df['Gas data'].to_list()\n",
    "counts = gas_clf_df['Gas data'].value_counts()\n",
    "print(f'Values counts:\\n{counts}')\n",
    "props = round(gas_clf_df['Gas data'].value_counts() / sum(gas_clf_df['Gas data'].value_counts()) * 100,1)\n",
    "print()\n",
    "print(f'Proportions:\\n{props}')"
   ]
  },
  {
   "cell_type": "markdown",
   "id": "8174cd9b",
   "metadata": {},
   "source": [
    "You can use CountVectorizier and TfidfTransformer together, or just use TfidfVectorizer because that combines those steps together. With a Pipeline, however, I'm unsure if you need to separate those two steps or not."
   ]
  },
  {
   "cell_type": "code",
   "execution_count": 299,
   "id": "68757131",
   "metadata": {},
   "outputs": [],
   "source": [
    "names = [\n",
    "#     'MultinomialNB',\n",
    "#     'BernoulliNB',\n",
    "#     'GaussianNB',\n",
    "#     'ComplementNB',\n",
    "#     'Logistic',\n",
    "    'RandomForest',\n",
    "#     'DecisionTree',\n",
    "#     'KNeighborsClassifier'\n",
    "#     'SGDClassifier',\n",
    "#     'SVC',\n",
    "#     'LinearSVC',\n",
    "#     'NuSVC'\n",
    "]\n",
    "\n",
    "classifiers = [\n",
    "#     MultinomialNB(),\n",
    "#     BernoulliNB(),\n",
    "#     GaussianNB(),\n",
    "#     ComplementNB(),\n",
    "#     LogisticRegression(),\n",
    "    RandomForestClassifier(),\n",
    "#     DecisionTreeClassifier(),\n",
    "#     KNeighborsClassifier(n_neighbors=18),\n",
    "#     SGDClassifier(),\n",
    "#     SVC(kernel='linear', degree=3, gamma='auto', probability=True,),\n",
    "#     LinearSVC(),\n",
    "#     NuSVC(probability=True)\n",
    "]\n",
    "\n",
    "scores_df = pd.DataFrame(columns = names)\n",
    "scores_df.insert(0, 'Metric', ['Mean', 'Median', 'Min', 'Max', 'SD', 'Comp_time'])"
   ]
  },
  {
   "cell_type": "code",
   "execution_count": 288,
   "id": "5042604b",
   "metadata": {
    "scrolled": true
   },
   "outputs": [],
   "source": [
    "# compare accuracy of different models\n",
    "vectorizer = TfidfVectorizer(stop_words='english')\n",
    "X = vectorizer.fit_transform(joined_word_lists)\n",
    "rskf_cv = RepeatedStratifiedKFold(n_splits = 5, n_repeats = 2)"
   ]
  },
  {
   "cell_type": "code",
   "execution_count": 297,
   "id": "fb34fec6",
   "metadata": {
    "scrolled": false
   },
   "outputs": [
    {
     "data": {
      "application/vnd.jupyter.widget-view+json": {
       "model_id": "bbc8dbf104aa4126831c7621f88e0c85",
       "version_major": 2,
       "version_minor": 0
      },
      "text/plain": [
       "  0%|          | 0/5 [00:00<?, ?it/s]"
      ]
     },
     "metadata": {},
     "output_type": "display_data"
    }
   ],
   "source": [
    "for name, clf in tqdm(zip(names, classifiers), total=len(classifiers)):\n",
    "    start = time.time()\n",
    "    clf.fit(X.toarray(), gas_data)\n",
    "    scores = cross_val_score(clf, X.toarray(), gas_data, cv = rskf_cv)\n",
    "    end = time.time()\n",
    "    minutes = round((end - start) // 60,0)\n",
    "    seconds = round((end - start) % 60,0)\n",
    "    comp_time = '{minutes}:{seconds}'.format(minutes = minutes, seconds = seconds)\n",
    "    scores_df[name] = [\n",
    "        round(np.mean(scores)*100,1),\n",
    "        round(np.median(scores)*100,1),\n",
    "        round(min(scores)*100,1),\n",
    "        round(max(scores)*100,1),\n",
    "        round(stdev(scores*100),1),\n",
    "        comp_time\n",
    "    ]"
   ]
  },
  {
   "cell_type": "code",
   "execution_count": 298,
   "id": "1fabcfc5",
   "metadata": {},
   "outputs": [
    {
     "data": {
      "text/html": [
       "<div>\n",
       "<style scoped>\n",
       "    .dataframe tbody tr th:only-of-type {\n",
       "        vertical-align: middle;\n",
       "    }\n",
       "\n",
       "    .dataframe tbody tr th {\n",
       "        vertical-align: top;\n",
       "    }\n",
       "\n",
       "    .dataframe thead th {\n",
       "        text-align: right;\n",
       "    }\n",
       "</style>\n",
       "<table border=\"1\" class=\"dataframe\">\n",
       "  <thead>\n",
       "    <tr style=\"text-align: right;\">\n",
       "      <th></th>\n",
       "      <th>Metric</th>\n",
       "      <th>MultinomialNB</th>\n",
       "      <th>BernoulliNB</th>\n",
       "      <th>GaussianNB</th>\n",
       "      <th>ComplementNB</th>\n",
       "      <th>RandomForest</th>\n",
       "    </tr>\n",
       "  </thead>\n",
       "  <tbody>\n",
       "    <tr>\n",
       "      <th>0</th>\n",
       "      <td>Mean</td>\n",
       "      <td>68.8</td>\n",
       "      <td>68.6</td>\n",
       "      <td>66.5</td>\n",
       "      <td>67.9</td>\n",
       "      <td>79.9</td>\n",
       "    </tr>\n",
       "    <tr>\n",
       "      <th>1</th>\n",
       "      <td>Median</td>\n",
       "      <td>68.1</td>\n",
       "      <td>68.5</td>\n",
       "      <td>67.2</td>\n",
       "      <td>68.5</td>\n",
       "      <td>80.3</td>\n",
       "    </tr>\n",
       "    <tr>\n",
       "      <th>2</th>\n",
       "      <td>Min</td>\n",
       "      <td>63.9</td>\n",
       "      <td>61.3</td>\n",
       "      <td>62.2</td>\n",
       "      <td>63.0</td>\n",
       "      <td>75.6</td>\n",
       "    </tr>\n",
       "    <tr>\n",
       "      <th>3</th>\n",
       "      <td>Max</td>\n",
       "      <td>74.8</td>\n",
       "      <td>72.9</td>\n",
       "      <td>69.7</td>\n",
       "      <td>72.3</td>\n",
       "      <td>83.1</td>\n",
       "    </tr>\n",
       "    <tr>\n",
       "      <th>4</th>\n",
       "      <td>SD</td>\n",
       "      <td>4.0</td>\n",
       "      <td>3.3</td>\n",
       "      <td>2.8</td>\n",
       "      <td>2.6</td>\n",
       "      <td>2.6</td>\n",
       "    </tr>\n",
       "    <tr>\n",
       "      <th>5</th>\n",
       "      <td>Comp_time</td>\n",
       "      <td>0.0:8.0</td>\n",
       "      <td>0.0:12.0</td>\n",
       "      <td>0.0:17.0</td>\n",
       "      <td>0.0:5.0</td>\n",
       "      <td>0.0:47.0</td>\n",
       "    </tr>\n",
       "  </tbody>\n",
       "</table>\n",
       "</div>"
      ],
      "text/plain": [
       "      Metric MultinomialNB BernoulliNB GaussianNB ComplementNB RandomForest\n",
       "0       Mean          68.8        68.6       66.5         67.9         79.9\n",
       "1     Median          68.1        68.5       67.2         68.5         80.3\n",
       "2        Min          63.9        61.3       62.2         63.0         75.6\n",
       "3        Max          74.8        72.9       69.7         72.3         83.1\n",
       "4         SD           4.0         3.3        2.8          2.6          2.6\n",
       "5  Comp_time       0.0:8.0    0.0:12.0   0.0:17.0      0.0:5.0     0.0:47.0"
      ]
     },
     "execution_count": 298,
     "metadata": {},
     "output_type": "execute_result"
    }
   ],
   "source": [
    "scores_df"
   ]
  },
  {
   "cell_type": "code",
   "execution_count": 300,
   "id": "72dd26fd",
   "metadata": {},
   "outputs": [],
   "source": [
    "folder = Path('/Users/antonhesse/Desktop/Anton/Education/UMN/Lab and Research/HSPL/CPET_scoping_review/data/cpet_articles/pdfs/manual_pdf_analysis/')\n",
    "manual_analysis_txts = [re.sub('.pdf', '.txt', path.name) for path in folder.rglob('*.pdf')]"
   ]
  },
  {
   "cell_type": "code",
   "execution_count": 301,
   "id": "6fb7aec5",
   "metadata": {},
   "outputs": [],
   "source": [
    "def list_intersection(lst1, lst2, output = 'intersection'):\n",
    "    if output == 'intersection':\n",
    "        return list(set(lst1).intersection(lst2))\n",
    "    elif output == 'difference':\n",
    "        return list(set(lst1).difference(lst2))\n",
    "    elif output == 'symmetric_difference':\n",
    "        return list(set(lst1).symmetric_difference(lst2))\n",
    "    else:\n",
    "        print('Bad input, returning None')\n",
    "        return None\n"
   ]
  },
  {
   "cell_type": "code",
   "execution_count": 302,
   "id": "46a99ce4",
   "metadata": {
    "scrolled": true
   },
   "outputs": [
    {
     "data": {
      "application/vnd.jupyter.widget-view+json": {
       "model_id": "0e917e7f2eb640db955dd71510a4b8c8",
       "version_major": 2,
       "version_minor": 0
      },
      "text/plain": [
       "  0%|          | 0/407 [00:00<?, ?it/s]"
      ]
     },
     "metadata": {},
     "output_type": "display_data"
    }
   ],
   "source": [
    "test_articles = list_intersection(manual_analysis_txts, analyzed_txt_files, output='difference')\n",
    "word_lists_test = [process_file(f, txt_files) for f in tqdm(test_articles)]\n",
    "joined_word_lists_test = [' '.join(text) for text in word_lists_test]"
   ]
  },
  {
   "cell_type": "code",
   "execution_count": 303,
   "id": "9b3a78cd",
   "metadata": {},
   "outputs": [
    {
     "data": {
      "text/plain": [
       "VotingClassifier(estimators=[('RandomForest', RandomForestClassifier())],\n",
       "                 voting='soft')"
      ]
     },
     "execution_count": 303,
     "metadata": {},
     "output_type": "execute_result"
    }
   ],
   "source": [
    "estimators = [(name, clf) for name, clf in zip(names, classifiers)]\n",
    "estimators\n",
    "vote_soft = VotingClassifier(estimators=estimators, voting='soft')\n",
    "vote_soft.fit(X, gas_data)"
   ]
  },
  {
   "cell_type": "code",
   "execution_count": 304,
   "id": "bd77eff9",
   "metadata": {
    "scrolled": true
   },
   "outputs": [],
   "source": [
    "scores = cross_val_score(vote_soft, X, gas_data, cv = rskf_cv)"
   ]
  },
  {
   "cell_type": "code",
   "execution_count": 305,
   "id": "06cdf98f",
   "metadata": {},
   "outputs": [
    {
     "name": "stdout",
     "output_type": "stream",
     "text": [
      "80.1\n",
      "79.8\n"
     ]
    }
   ],
   "source": [
    "print(round(np.mean(scores)*100,1))\n",
    "print(round(np.median(scores)*100,1))"
   ]
  },
  {
   "cell_type": "code",
   "execution_count": 306,
   "id": "c49994fc",
   "metadata": {},
   "outputs": [],
   "source": [
    "X_test = vectorizer.transform(joined_word_lists_test)\n",
    "preds = vote_soft.predict_proba(X_test)"
   ]
  },
  {
   "cell_type": "code",
   "execution_count": 307,
   "id": "4eb98779",
   "metadata": {},
   "outputs": [],
   "source": [
    "test_dict = {\n",
    "    'article': test_articles,\n",
    "    'pred_n': preds[:,0],\n",
    "    'pred_y': preds[:,1],\n",
    "    'pred_0.5': abs(preds[:,0]-0.5)\n",
    "}\n",
    "test_df = pd.DataFrame.from_dict(test_dict)\n",
    "test_df['pred'] = test_df.apply(lambda x: 'y' if x['pred_n'] < 0.5 else 'n', axis=1)\n",
    "test_df['article'] = test_df['article'].apply(lambda x: x.replace('.txt', ''))"
   ]
  },
  {
   "cell_type": "code",
   "execution_count": 311,
   "id": "de05d609",
   "metadata": {
    "scrolled": true
   },
   "outputs": [
    {
     "data": {
      "text/html": [
       "<div>\n",
       "<style scoped>\n",
       "    .dataframe tbody tr th:only-of-type {\n",
       "        vertical-align: middle;\n",
       "    }\n",
       "\n",
       "    .dataframe tbody tr th {\n",
       "        vertical-align: top;\n",
       "    }\n",
       "\n",
       "    .dataframe thead th {\n",
       "        text-align: right;\n",
       "    }\n",
       "</style>\n",
       "<table border=\"1\" class=\"dataframe\">\n",
       "  <thead>\n",
       "    <tr style=\"text-align: right;\">\n",
       "      <th></th>\n",
       "      <th>article</th>\n",
       "      <th>pred_0.5</th>\n",
       "    </tr>\n",
       "  </thead>\n",
       "  <tbody>\n",
       "    <tr>\n",
       "      <th>7</th>\n",
       "      <td>j.msard.2022.103721</td>\n",
       "      <td>0.000000</td>\n",
       "    </tr>\n",
       "    <tr>\n",
       "      <th>175</th>\n",
       "      <td>bmj.4.5787.577</td>\n",
       "      <td>0.000000</td>\n",
       "    </tr>\n",
       "    <tr>\n",
       "      <th>61</th>\n",
       "      <td>hrt.54.6.562</td>\n",
       "      <td>0.000000</td>\n",
       "    </tr>\n",
       "    <tr>\n",
       "      <th>130</th>\n",
       "      <td>01.cir.0000049746.29175.3f</td>\n",
       "      <td>0.010000</td>\n",
       "    </tr>\n",
       "    <tr>\n",
       "      <th>83</th>\n",
       "      <td>jc.84.7.2303</td>\n",
       "      <td>0.010000</td>\n",
       "    </tr>\n",
       "    <tr>\n",
       "      <th>401</th>\n",
       "      <td>fphys.2018.01048</td>\n",
       "      <td>0.010000</td>\n",
       "    </tr>\n",
       "    <tr>\n",
       "      <th>284</th>\n",
       "      <td>mss.0000000000001204</td>\n",
       "      <td>0.020000</td>\n",
       "    </tr>\n",
       "    <tr>\n",
       "      <th>206</th>\n",
       "      <td>j.1523-1755.2003.00739.x</td>\n",
       "      <td>0.020000</td>\n",
       "    </tr>\n",
       "    <tr>\n",
       "      <th>129</th>\n",
       "      <td>jsep.2013-0251</td>\n",
       "      <td>0.020000</td>\n",
       "    </tr>\n",
       "    <tr>\n",
       "      <th>397</th>\n",
       "      <td>hrt.61.5.421</td>\n",
       "      <td>0.022500</td>\n",
       "    </tr>\n",
       "    <tr>\n",
       "      <th>204</th>\n",
       "      <td>bjsm.25.4.191</td>\n",
       "      <td>0.026667</td>\n",
       "    </tr>\n",
       "    <tr>\n",
       "      <th>253</th>\n",
       "      <td>bjsm.11.3.116</td>\n",
       "      <td>0.029091</td>\n",
       "    </tr>\n",
       "    <tr>\n",
       "      <th>93</th>\n",
       "      <td>s00421-006-0181-1</td>\n",
       "      <td>0.030000</td>\n",
       "    </tr>\n",
       "    <tr>\n",
       "      <th>292</th>\n",
       "      <td>02640414.2021.1876313</td>\n",
       "      <td>0.030000</td>\n",
       "    </tr>\n",
       "    <tr>\n",
       "      <th>218</th>\n",
       "      <td>j.metabol.2012.01.013</td>\n",
       "      <td>0.030000</td>\n",
       "    </tr>\n",
       "    <tr>\n",
       "      <th>374</th>\n",
       "      <td>s00421-010-1709-y</td>\n",
       "      <td>0.030000</td>\n",
       "    </tr>\n",
       "    <tr>\n",
       "      <th>20</th>\n",
       "      <td>sj.ijo.0801037</td>\n",
       "      <td>0.030000</td>\n",
       "    </tr>\n",
       "    <tr>\n",
       "      <th>18</th>\n",
       "      <td>s00421-004-1175-5</td>\n",
       "      <td>0.040000</td>\n",
       "    </tr>\n",
       "    <tr>\n",
       "      <th>366</th>\n",
       "      <td>journal.pone.0017059</td>\n",
       "      <td>0.040000</td>\n",
       "    </tr>\n",
       "    <tr>\n",
       "      <th>177</th>\n",
       "      <td>japplphysiol.00033.2016</td>\n",
       "      <td>0.040000</td>\n",
       "    </tr>\n",
       "    <tr>\n",
       "      <th>178</th>\n",
       "      <td>bjsm.12.4.176</td>\n",
       "      <td>0.040000</td>\n",
       "    </tr>\n",
       "    <tr>\n",
       "      <th>301</th>\n",
       "      <td>bjsm.22.3.109</td>\n",
       "      <td>0.050000</td>\n",
       "    </tr>\n",
       "    <tr>\n",
       "      <th>283</th>\n",
       "      <td>nu11020353</td>\n",
       "      <td>0.050000</td>\n",
       "    </tr>\n",
       "    <tr>\n",
       "      <th>46</th>\n",
       "      <td>01.cir.66.6.1256</td>\n",
       "      <td>0.050000</td>\n",
       "    </tr>\n",
       "    <tr>\n",
       "      <th>171</th>\n",
       "      <td>01.atv.19.11.2782</td>\n",
       "      <td>0.050000</td>\n",
       "    </tr>\n",
       "    <tr>\n",
       "      <th>152</th>\n",
       "      <td>journal.pone.0061793</td>\n",
       "      <td>0.050000</td>\n",
       "    </tr>\n",
       "    <tr>\n",
       "      <th>399</th>\n",
       "      <td>1476-511x-13-177</td>\n",
       "      <td>0.050000</td>\n",
       "    </tr>\n",
       "    <tr>\n",
       "      <th>141</th>\n",
       "      <td>s00125-008-1045-5</td>\n",
       "      <td>0.050000</td>\n",
       "    </tr>\n",
       "    <tr>\n",
       "      <th>336</th>\n",
       "      <td>1351000214y.0000000105</td>\n",
       "      <td>0.050000</td>\n",
       "    </tr>\n",
       "    <tr>\n",
       "      <th>9</th>\n",
       "      <td>17461391.2013.783628</td>\n",
       "      <td>0.060000</td>\n",
       "    </tr>\n",
       "    <tr>\n",
       "      <th>364</th>\n",
       "      <td>fendo.2020.531926</td>\n",
       "      <td>0.060000</td>\n",
       "    </tr>\n",
       "    <tr>\n",
       "      <th>30</th>\n",
       "      <td>fspor.2020.00067</td>\n",
       "      <td>0.060000</td>\n",
       "    </tr>\n",
       "    <tr>\n",
       "      <th>50</th>\n",
       "      <td>22818</td>\n",
       "      <td>0.060000</td>\n",
       "    </tr>\n",
       "    <tr>\n",
       "      <th>313</th>\n",
       "      <td>j.burns.2016.11.004</td>\n",
       "      <td>0.060000</td>\n",
       "    </tr>\n",
       "    <tr>\n",
       "      <th>136</th>\n",
       "      <td>thx.44.9.716</td>\n",
       "      <td>0.065429</td>\n",
       "    </tr>\n",
       "    <tr>\n",
       "      <th>181</th>\n",
       "      <td>hrt.71.4.391</td>\n",
       "      <td>0.070000</td>\n",
       "    </tr>\n",
       "    <tr>\n",
       "      <th>341</th>\n",
       "      <td>1874091x01004010100</td>\n",
       "      <td>0.070000</td>\n",
       "    </tr>\n",
       "    <tr>\n",
       "      <th>390</th>\n",
       "      <td>chest.11-1147</td>\n",
       "      <td>0.070000</td>\n",
       "    </tr>\n",
       "    <tr>\n",
       "      <th>213</th>\n",
       "      <td>j.1365-2125.1987.tb03161.x</td>\n",
       "      <td>0.070000</td>\n",
       "    </tr>\n",
       "    <tr>\n",
       "      <th>319</th>\n",
       "      <td>hrt.77.2.138</td>\n",
       "      <td>0.070000</td>\n",
       "    </tr>\n",
       "    <tr>\n",
       "      <th>236</th>\n",
       "      <td>036.103.2016.1.13</td>\n",
       "      <td>0.070000</td>\n",
       "    </tr>\n",
       "    <tr>\n",
       "      <th>227</th>\n",
       "      <td>s0066-782x2002001200004</td>\n",
       "      <td>0.070000</td>\n",
       "    </tr>\n",
       "    <tr>\n",
       "      <th>80</th>\n",
       "      <td>ajcn</td>\n",
       "      <td>0.070000</td>\n",
       "    </tr>\n",
       "    <tr>\n",
       "      <th>323</th>\n",
       "      <td>fendo.2020.00578</td>\n",
       "      <td>0.070000</td>\n",
       "    </tr>\n",
       "    <tr>\n",
       "      <th>191</th>\n",
       "      <td>sj.ijo.0802845</td>\n",
       "      <td>0.070000</td>\n",
       "    </tr>\n",
       "    <tr>\n",
       "      <th>145</th>\n",
       "      <td>acs.jproteome.6b00892</td>\n",
       "      <td>0.075714</td>\n",
       "    </tr>\n",
       "    <tr>\n",
       "      <th>32</th>\n",
       "      <td>japa.2019-0327</td>\n",
       "      <td>0.077778</td>\n",
       "    </tr>\n",
       "  </tbody>\n",
       "</table>\n",
       "</div>"
      ],
      "text/plain": [
       "                        article  pred_0.5\n",
       "7           j.msard.2022.103721  0.000000\n",
       "175              bmj.4.5787.577  0.000000\n",
       "61                 hrt.54.6.562  0.000000\n",
       "130  01.cir.0000049746.29175.3f  0.010000\n",
       "83                 jc.84.7.2303  0.010000\n",
       "401            fphys.2018.01048  0.010000\n",
       "284        mss.0000000000001204  0.020000\n",
       "206    j.1523-1755.2003.00739.x  0.020000\n",
       "129              jsep.2013-0251  0.020000\n",
       "397                hrt.61.5.421  0.022500\n",
       "204               bjsm.25.4.191  0.026667\n",
       "253               bjsm.11.3.116  0.029091\n",
       "93            s00421-006-0181-1  0.030000\n",
       "292       02640414.2021.1876313  0.030000\n",
       "218       j.metabol.2012.01.013  0.030000\n",
       "374           s00421-010-1709-y  0.030000\n",
       "20               sj.ijo.0801037  0.030000\n",
       "18            s00421-004-1175-5  0.040000\n",
       "366        journal.pone.0017059  0.040000\n",
       "177     japplphysiol.00033.2016  0.040000\n",
       "178               bjsm.12.4.176  0.040000\n",
       "301               bjsm.22.3.109  0.050000\n",
       "283                  nu11020353  0.050000\n",
       "46             01.cir.66.6.1256  0.050000\n",
       "171           01.atv.19.11.2782  0.050000\n",
       "152        journal.pone.0061793  0.050000\n",
       "399            1476-511x-13-177  0.050000\n",
       "141           s00125-008-1045-5  0.050000\n",
       "336      1351000214y.0000000105  0.050000\n",
       "9          17461391.2013.783628  0.060000\n",
       "364           fendo.2020.531926  0.060000\n",
       "30             fspor.2020.00067  0.060000\n",
       "50                        22818  0.060000\n",
       "313         j.burns.2016.11.004  0.060000\n",
       "136                thx.44.9.716  0.065429\n",
       "181                hrt.71.4.391  0.070000\n",
       "341         1874091x01004010100  0.070000\n",
       "390               chest.11-1147  0.070000\n",
       "213  j.1365-2125.1987.tb03161.x  0.070000\n",
       "319                hrt.77.2.138  0.070000\n",
       "236           036.103.2016.1.13  0.070000\n",
       "227     s0066-782x2002001200004  0.070000\n",
       "80                         ajcn  0.070000\n",
       "323            fendo.2020.00578  0.070000\n",
       "191              sj.ijo.0802845  0.070000\n",
       "145       acs.jproteome.6b00892  0.075714\n",
       "32               japa.2019-0327  0.077778"
      ]
     },
     "execution_count": 311,
     "metadata": {},
     "output_type": "execute_result"
    }
   ],
   "source": [
    "# test_df[(test_df['pred'] == 'y') & (test_df['pred_0.5'] < 0.20)].sort_values(by = 'pred_0.5', ascending=True)\n",
    "# test_df[(test_df['pred'] == 'n') & (test_df['pred_n'] > 0.6)].sort_values(by = 'pred_n', ascending=False).iloc[0:20,:]\n",
    "\n",
    "test_df[test_df['pred_0.5'] < 0.08].sort_values(by = 'pred_0.5', ascending=True).loc[:,['article', 'pred_0.5']]\n"
   ]
  },
  {
   "cell_type": "code",
   "execution_count": 327,
   "id": "3b7774a1",
   "metadata": {},
   "outputs": [],
   "source": [
    "rfc = RandomForestClassifier(random_state=42)\n",
    "param_grid = { \n",
    "    'n_estimators': [500, 750, 1000],\n",
    "}"
   ]
  },
  {
   "cell_type": "code",
   "execution_count": 328,
   "id": "fa66a27e",
   "metadata": {},
   "outputs": [],
   "source": [
    "X_train, X_test, y_train, y_test = train_test_split(joined_word_lists, gas_data, test_size=0.3, random_state=42)\n",
    "X_train = vectorizer.fit_transform(X_train)\n",
    "X_test = vectorizer.transform(X_test)\n",
    "CV_rfc = GridSearchCV(estimator=rfc, param_grid=param_grid, cv=5)"
   ]
  },
  {
   "cell_type": "code",
   "execution_count": 329,
   "id": "b32c7056",
   "metadata": {},
   "outputs": [
    {
     "data": {
      "text/plain": [
       "GridSearchCV(cv=5, estimator=RandomForestClassifier(random_state=42),\n",
       "             param_grid={'n_estimators': [500, 750, 1000]})"
      ]
     },
     "execution_count": 329,
     "metadata": {},
     "output_type": "execute_result"
    }
   ],
   "source": [
    "CV_rfc.fit(X_train, y_train)"
   ]
  },
  {
   "cell_type": "code",
   "execution_count": 330,
   "id": "38b7d374",
   "metadata": {},
   "outputs": [
    {
     "data": {
      "text/plain": [
       "{'n_estimators': 500}"
      ]
     },
     "execution_count": 330,
     "metadata": {},
     "output_type": "execute_result"
    }
   ],
   "source": [
    "CV_rfc.best_params_"
   ]
  },
  {
   "cell_type": "code",
   "execution_count": 331,
   "id": "33be6df8",
   "metadata": {},
   "outputs": [
    {
     "data": {
      "text/plain": [
       "RandomForestClassifier(n_estimators=500, random_state=42)"
      ]
     },
     "execution_count": 331,
     "metadata": {},
     "output_type": "execute_result"
    }
   ],
   "source": [
    "rfc_best = RandomForestClassifier(n_estimators=500, random_state=42)\n",
    "rfc_best.fit(X_train, y_train)"
   ]
  },
  {
   "cell_type": "code",
   "execution_count": 332,
   "id": "2d94ada1",
   "metadata": {},
   "outputs": [],
   "source": [
    "pred = rfc_best.predict(X_test)"
   ]
  },
  {
   "cell_type": "code",
   "execution_count": 333,
   "id": "0dede5cf",
   "metadata": {},
   "outputs": [
    {
     "name": "stdout",
     "output_type": "stream",
     "text": [
      "Accuracy for Random Forest on CV data:  84.4\n"
     ]
    }
   ],
   "source": [
    "acc = accuracy_score(y_test, pred)\n",
    "print(\"Accuracy for Random Forest on CV data: \", round(acc*100,1))"
   ]
  },
  {
   "cell_type": "code",
   "execution_count": 346,
   "id": "e186a3c6",
   "metadata": {},
   "outputs": [
    {
     "data": {
      "image/png": "[encoded data removed]",
      "text/plain": [
       "<Figure size 432x288 with 2 Axes>"
      ]
     },
     "metadata": {
      "needs_background": "light"
     },
     "output_type": "display_data"
    }
   ],
   "source": [
    "cm = confusion_matrix(y_test, pred)\n",
    "disp = ConfusionMatrixDisplay(confusion_matrix=cm, display_labels=clf.classes_)\n",
    "disp.plot()\n",
    "plt.show()"
   ]
  }
 ],
 "metadata": {
  "kernelspec": {
   "display_name": "Python 3 (ipykernel)",
   "language": "python",
   "name": "python3"
  },
  "language_info": {
   "codemirror_mode": {
    "name": "ipython",
    "version": 3
   },
   "file_extension": ".py",
   "mimetype": "text/x-python",
   "name": "python",
   "nbconvert_exporter": "python",
   "pygments_lexer": "ipython3",
   "version": "3.8.8"
  }
 },
 "nbformat": 4,
 "nbformat_minor": 5
}
