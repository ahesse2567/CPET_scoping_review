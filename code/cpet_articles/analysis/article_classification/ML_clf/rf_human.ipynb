{
 "cells": [
  {
   "cell_type": "code",
   "execution_count": 40,
   "id": "2636eb04-5e9e-4f16-940a-3f4a7b50ffac",
   "metadata": {},
   "outputs": [],
   "source": [
    "from pathlib import Path\n",
    "import pandas as pd\n",
    "from tqdm.notebook import tqdm\n",
    "tqdm.pandas()\n",
    "from sklearn.feature_extraction.text import TfidfVectorizer\n",
    "from sklearn.ensemble import RandomForestClassifier\n",
    "from sklearn.model_selection import cross_val_score, RepeatedStratifiedKFold, cross_val_predict\n",
    "from sklearn.metrics import confusion_matrix, ConfusionMatrixDisplay\n",
    "import numpy as np\n",
    "import matplotlib.pyplot as plt"
   ]
  },
  {
   "cell_type": "code",
   "execution_count": 2,
   "id": "1cc3d68b",
   "metadata": {},
   "outputs": [],
   "source": [
    "import sys\n",
    "sys.path.append('/Users/antonhesse/Desktop/Anton/Education/UMN/PhD/Dissertation/CPET_scoping_review/code/cpet_articles/analysis/helper_funcs')\n",
    "from text_analysis import tokenize_file"
   ]
  },
  {
   "cell_type": "code",
   "execution_count": 3,
   "id": "2cae8c1f",
   "metadata": {},
   "outputs": [],
   "source": [
    "# get txt file paths and stems\n",
    "txt_file_paths = list(Path('/Users/antonhesse/Desktop/Anton/Education/UMN/PhD/Dissertation/CPET_scoping_review/data/cpet_articles/full_texts/txts').glob('*.txt'))\n",
    "txt_file_stems = [path.stem for path in txt_file_paths]"
   ]
  },
  {
   "cell_type": "code",
   "execution_count": 4,
   "id": "ceed2f32-d19e-42dc-a908-145a59a40781",
   "metadata": {},
   "outputs": [],
   "source": [
    "# load human eligibility data frame\n",
    "human_df = pd.read_csv('/Users/antonhesse/Desktop/Anton/Education/UMN/PhD/Dissertation/CPET_scoping_review/data/cpet_articles/text_analysis/eligibility/Eligibility - human.csv')\n",
    "human_df = human_df[~human_df['human'].isna()].drop_duplicates().reset_index(drop=True)\n",
    "# human_df"
   ]
  },
  {
   "cell_type": "code",
   "execution_count": 5,
   "id": "894b429c",
   "metadata": {},
   "outputs": [],
   "source": [
    "# gather file paths of articles used to build random forest ML model\n",
    "file_paths_for_model = [path for path in txt_file_paths if path.stem in human_df['doi_suffix'].to_list()]\n",
    "file_stems_for_model = [path.stem for path in file_paths_for_model]\n",
    "\n",
    "files_df = pd.DataFrame(\n",
    "    {'doi_suffix': file_stems_for_model,\n",
    "    'file_path': file_paths_for_model}\n",
    ")"
   ]
  },
  {
   "cell_type": "code",
   "execution_count": 6,
   "id": "e9aaf88a",
   "metadata": {},
   "outputs": [
    {
     "data": {
      "text/html": [
       "<div>\n",
       "<style scoped>\n",
       "    .dataframe tbody tr th:only-of-type {\n",
       "        vertical-align: middle;\n",
       "    }\n",
       "\n",
       "    .dataframe tbody tr th {\n",
       "        vertical-align: top;\n",
       "    }\n",
       "\n",
       "    .dataframe thead th {\n",
       "        text-align: right;\n",
       "    }\n",
       "</style>\n",
       "<table border=\"1\" class=\"dataframe\">\n",
       "  <thead>\n",
       "    <tr style=\"text-align: right;\">\n",
       "      <th></th>\n",
       "      <th>doi_suffix</th>\n",
       "      <th>file_path</th>\n",
       "      <th>human</th>\n",
       "    </tr>\n",
       "  </thead>\n",
       "  <tbody>\n",
       "    <tr>\n",
       "      <th>0</th>\n",
       "      <td>s00421-007-0554-0</td>\n",
       "      <td>/Users/antonhesse/Desktop/Anton/Education/UMN/...</td>\n",
       "      <td>True</td>\n",
       "    </tr>\n",
       "    <tr>\n",
       "      <th>1</th>\n",
       "      <td>s40279-021-01523-9</td>\n",
       "      <td>/Users/antonhesse/Desktop/Anton/Education/UMN/...</td>\n",
       "      <td>True</td>\n",
       "    </tr>\n",
       "    <tr>\n",
       "      <th>2</th>\n",
       "      <td>jbc.m117.817510</td>\n",
       "      <td>/Users/antonhesse/Desktop/Anton/Education/UMN/...</td>\n",
       "      <td>False</td>\n",
       "    </tr>\n",
       "    <tr>\n",
       "      <th>3</th>\n",
       "      <td>ijspp.2013-0486</td>\n",
       "      <td>/Users/antonhesse/Desktop/Anton/Education/UMN/...</td>\n",
       "      <td>True</td>\n",
       "    </tr>\n",
       "    <tr>\n",
       "      <th>4</th>\n",
       "      <td>s12984-018-0401-z</td>\n",
       "      <td>/Users/antonhesse/Desktop/Anton/Education/UMN/...</td>\n",
       "      <td>True</td>\n",
       "    </tr>\n",
       "    <tr>\n",
       "      <th>...</th>\n",
       "      <td>...</td>\n",
       "      <td>...</td>\n",
       "      <td>...</td>\n",
       "    </tr>\n",
       "    <tr>\n",
       "      <th>1915</th>\n",
       "      <td>jbc.m112.440354</td>\n",
       "      <td>/Users/antonhesse/Desktop/Anton/Education/UMN/...</td>\n",
       "      <td>False</td>\n",
       "    </tr>\n",
       "    <tr>\n",
       "      <th>1916</th>\n",
       "      <td>s0955-2863_._01_._00173-5</td>\n",
       "      <td>/Users/antonhesse/Desktop/Anton/Education/UMN/...</td>\n",
       "      <td>False</td>\n",
       "    </tr>\n",
       "    <tr>\n",
       "      <th>1917</th>\n",
       "      <td>chest.107.5.1206</td>\n",
       "      <td>/Users/antonhesse/Desktop/Anton/Education/UMN/...</td>\n",
       "      <td>True</td>\n",
       "    </tr>\n",
       "    <tr>\n",
       "      <th>1918</th>\n",
       "      <td>a-1273-7589</td>\n",
       "      <td>/Users/antonhesse/Desktop/Anton/Education/UMN/...</td>\n",
       "      <td>True</td>\n",
       "    </tr>\n",
       "    <tr>\n",
       "      <th>1919</th>\n",
       "      <td>j.amjcard.2011.11.009</td>\n",
       "      <td>/Users/antonhesse/Desktop/Anton/Education/UMN/...</td>\n",
       "      <td>True</td>\n",
       "    </tr>\n",
       "  </tbody>\n",
       "</table>\n",
       "<p>1920 rows × 3 columns</p>\n",
       "</div>"
      ],
      "text/plain": [
       "                     doi_suffix  \\\n",
       "0             s00421-007-0554-0   \n",
       "1            s40279-021-01523-9   \n",
       "2               jbc.m117.817510   \n",
       "3               ijspp.2013-0486   \n",
       "4             s12984-018-0401-z   \n",
       "...                         ...   \n",
       "1915            jbc.m112.440354   \n",
       "1916  s0955-2863_._01_._00173-5   \n",
       "1917           chest.107.5.1206   \n",
       "1918                a-1273-7589   \n",
       "1919      j.amjcard.2011.11.009   \n",
       "\n",
       "                                              file_path  human  \n",
       "0     /Users/antonhesse/Desktop/Anton/Education/UMN/...   True  \n",
       "1     /Users/antonhesse/Desktop/Anton/Education/UMN/...   True  \n",
       "2     /Users/antonhesse/Desktop/Anton/Education/UMN/...  False  \n",
       "3     /Users/antonhesse/Desktop/Anton/Education/UMN/...   True  \n",
       "4     /Users/antonhesse/Desktop/Anton/Education/UMN/...   True  \n",
       "...                                                 ...    ...  \n",
       "1915  /Users/antonhesse/Desktop/Anton/Education/UMN/...  False  \n",
       "1916  /Users/antonhesse/Desktop/Anton/Education/UMN/...  False  \n",
       "1917  /Users/antonhesse/Desktop/Anton/Education/UMN/...   True  \n",
       "1918  /Users/antonhesse/Desktop/Anton/Education/UMN/...   True  \n",
       "1919  /Users/antonhesse/Desktop/Anton/Education/UMN/...   True  \n",
       "\n",
       "[1920 rows x 3 columns]"
      ]
     },
     "execution_count": 6,
     "metadata": {},
     "output_type": "execute_result"
    }
   ],
   "source": [
    "# merge files_df with human_df\n",
    "merge_df = pd.merge(files_df, human_df.drop(['file_path', 'pred_human', 'pred_0.5'], axis=1), how='inner', on='doi_suffix')\n",
    "merge_df"
   ]
  },
  {
   "cell_type": "code",
   "execution_count": 7,
   "id": "90e12bd9-7c29-4a84-aaf3-839d323f0c64",
   "metadata": {},
   "outputs": [
    {
     "data": {
      "application/vnd.jupyter.widget-view+json": {
       "model_id": "90bfb82e409242cca740d168e9661d12",
       "version_major": 2,
       "version_minor": 0
      },
      "text/plain": [
       "  0%|          | 0/1920 [00:00<?, ?it/s]"
      ]
     },
     "metadata": {},
     "output_type": "display_data"
    }
   ],
   "source": [
    "# tokenize files\n",
    "merge_df['tokens'] = merge_df['file_path'].progress_apply(lambda x: tokenize_file(x, mode='lemm'))"
   ]
  },
  {
   "cell_type": "code",
   "execution_count": 8,
   "id": "dc9984d1",
   "metadata": {},
   "outputs": [
    {
     "data": {
      "application/vnd.jupyter.widget-view+json": {
       "model_id": "9faff2c6dec6428ca6bb621df83e8b1b",
       "version_major": 2,
       "version_minor": 0
      },
      "text/plain": [
       "  0%|          | 0/1919 [00:00<?, ?it/s]"
      ]
     },
     "metadata": {},
     "output_type": "display_data"
    }
   ],
   "source": [
    "# remove None values and join tokens\n",
    "merge_df = merge_df[merge_df['tokens'].notnull()].reset_index(drop=True)\n",
    "merge_df['joined_tokens'] = merge_df['tokens'].progress_apply(lambda x: ' '.join(x))"
   ]
  },
  {
   "cell_type": "code",
   "execution_count": 9,
   "id": "de71bbbf",
   "metadata": {},
   "outputs": [],
   "source": [
    "# load vetorizer and model\n",
    "vectorizer = TfidfVectorizer(stop_words='english')\n",
    "rf_clf = RandomForestClassifier(verbose=1)"
   ]
  },
  {
   "cell_type": "code",
   "execution_count": 10,
   "id": "bc9e9d36",
   "metadata": {},
   "outputs": [
    {
     "name": "stderr",
     "output_type": "stream",
     "text": [
      "[Parallel(n_jobs=1)]: Using backend SequentialBackend with 1 concurrent workers.\n",
      "[Parallel(n_jobs=1)]: Done 100 out of 100 | elapsed: 11.5min finished\n"
     ]
    },
    {
     "data": {
      "text/plain": [
       "RandomForestClassifier(verbose=1)"
      ]
     },
     "execution_count": 10,
     "metadata": {},
     "output_type": "execute_result"
    }
   ],
   "source": [
    "# train model and get current accuracy\n",
    "X = vectorizer.fit_transform(merge_df['joined_tokens'].to_list())\n",
    "rf_clf.fit(X.toarray(), merge_df['human'].to_list())\n",
    "y = merge_df['human'].to_list()"
   ]
  },
  {
   "cell_type": "code",
   "execution_count": 11,
   "id": "7731f5b2",
   "metadata": {},
   "outputs": [
    {
     "name": "stderr",
     "output_type": "stream",
     "text": [
      "[Parallel(n_jobs=1)]: Using backend SequentialBackend with 1 concurrent workers.\n",
      "[Parallel(n_jobs=1)]: Done 100 out of 100 | elapsed:   26.0s finished\n",
      "[Parallel(n_jobs=1)]: Using backend SequentialBackend with 1 concurrent workers.\n",
      "[Parallel(n_jobs=1)]: Done 100 out of 100 | elapsed:    0.1s finished\n",
      "[Parallel(n_jobs=1)]: Using backend SequentialBackend with 1 concurrent workers.\n",
      "[Parallel(n_jobs=1)]: Done 100 out of 100 | elapsed:  2.2min finished\n",
      "[Parallel(n_jobs=1)]: Using backend SequentialBackend with 1 concurrent workers.\n",
      "[Parallel(n_jobs=1)]: Done 100 out of 100 | elapsed:    0.1s finished\n",
      "[Parallel(n_jobs=1)]: Using backend SequentialBackend with 1 concurrent workers.\n",
      "[Parallel(n_jobs=1)]: Done 100 out of 100 | elapsed:  4.8min finished\n",
      "[Parallel(n_jobs=1)]: Using backend SequentialBackend with 1 concurrent workers.\n",
      "[Parallel(n_jobs=1)]: Done 100 out of 100 | elapsed:    0.1s finished\n",
      "[Parallel(n_jobs=1)]: Using backend SequentialBackend with 1 concurrent workers.\n",
      "[Parallel(n_jobs=1)]: Done 100 out of 100 | elapsed:  1.3min finished\n",
      "[Parallel(n_jobs=1)]: Using backend SequentialBackend with 1 concurrent workers.\n",
      "[Parallel(n_jobs=1)]: Done 100 out of 100 | elapsed:    0.0s finished\n",
      "[Parallel(n_jobs=1)]: Using backend SequentialBackend with 1 concurrent workers.\n",
      "[Parallel(n_jobs=1)]: Done 100 out of 100 | elapsed:   26.8s finished\n",
      "[Parallel(n_jobs=1)]: Using backend SequentialBackend with 1 concurrent workers.\n",
      "[Parallel(n_jobs=1)]: Done 100 out of 100 | elapsed:    0.1s finished\n",
      "[Parallel(n_jobs=1)]: Using backend SequentialBackend with 1 concurrent workers.\n",
      "[Parallel(n_jobs=1)]: Done 100 out of 100 | elapsed:   32.9s finished\n",
      "[Parallel(n_jobs=1)]: Using backend SequentialBackend with 1 concurrent workers.\n",
      "[Parallel(n_jobs=1)]: Done 100 out of 100 | elapsed:    0.0s finished\n",
      "[Parallel(n_jobs=1)]: Using backend SequentialBackend with 1 concurrent workers.\n",
      "[Parallel(n_jobs=1)]: Done 100 out of 100 | elapsed:   20.7s finished\n",
      "[Parallel(n_jobs=1)]: Using backend SequentialBackend with 1 concurrent workers.\n",
      "[Parallel(n_jobs=1)]: Done 100 out of 100 | elapsed:    0.0s finished\n",
      "[Parallel(n_jobs=1)]: Using backend SequentialBackend with 1 concurrent workers.\n",
      "[Parallel(n_jobs=1)]: Done 100 out of 100 | elapsed:   21.9s finished\n",
      "[Parallel(n_jobs=1)]: Using backend SequentialBackend with 1 concurrent workers.\n",
      "[Parallel(n_jobs=1)]: Done 100 out of 100 | elapsed:    0.0s finished\n",
      "[Parallel(n_jobs=1)]: Using backend SequentialBackend with 1 concurrent workers.\n",
      "[Parallel(n_jobs=1)]: Done 100 out of 100 | elapsed:   22.3s finished\n",
      "[Parallel(n_jobs=1)]: Using backend SequentialBackend with 1 concurrent workers.\n",
      "[Parallel(n_jobs=1)]: Done 100 out of 100 | elapsed:    0.0s finished\n",
      "[Parallel(n_jobs=1)]: Using backend SequentialBackend with 1 concurrent workers.\n",
      "[Parallel(n_jobs=1)]: Done 100 out of 100 | elapsed:   21.1s finished\n",
      "[Parallel(n_jobs=1)]: Using backend SequentialBackend with 1 concurrent workers.\n",
      "[Parallel(n_jobs=1)]: Done 100 out of 100 | elapsed:    0.1s finished\n"
     ]
    },
    {
     "name": "stdout",
     "output_type": "stream",
     "text": [
      "Current Accuracy: 93.4%\n"
     ]
    }
   ],
   "source": [
    "# uncomment remaining lines to check current accuracy. It takes a very long time\n",
    "rskf_cv = RepeatedStratifiedKFold(n_splits = 5, n_repeats = 2)\n",
    "scores = cross_val_score(rf_clf, X.toarray(), merge_df['human'].to_list(), cv = rskf_cv)\n",
    "mean_score = round(np.mean(scores),3)*100\n",
    "print(f'Current Accuracy: {mean_score}%')"
   ]
  },
  {
   "cell_type": "code",
   "execution_count": 36,
   "id": "cdd0b2e8",
   "metadata": {},
   "outputs": [
    {
     "name": "stderr",
     "output_type": "stream",
     "text": [
      "[Parallel(n_jobs=1)]: Using backend SequentialBackend with 1 concurrent workers.\n",
      "[Parallel(n_jobs=1)]: Done 100 out of 100 | elapsed:   20.4s finished\n",
      "[Parallel(n_jobs=1)]: Using backend SequentialBackend with 1 concurrent workers.\n",
      "[Parallel(n_jobs=1)]: Done 100 out of 100 | elapsed:    0.1s finished\n",
      "[Parallel(n_jobs=1)]: Using backend SequentialBackend with 1 concurrent workers.\n",
      "[Parallel(n_jobs=1)]: Done 100 out of 100 | elapsed:   25.8s finished\n",
      "[Parallel(n_jobs=1)]: Using backend SequentialBackend with 1 concurrent workers.\n",
      "[Parallel(n_jobs=1)]: Done 100 out of 100 | elapsed:    0.0s finished\n",
      "[Parallel(n_jobs=1)]: Using backend SequentialBackend with 1 concurrent workers.\n",
      "[Parallel(n_jobs=1)]: Done 100 out of 100 | elapsed:  1.8min finished\n",
      "[Parallel(n_jobs=1)]: Using backend SequentialBackend with 1 concurrent workers.\n",
      "[Parallel(n_jobs=1)]: Done 100 out of 100 | elapsed:    0.0s finished\n",
      "[Parallel(n_jobs=1)]: Using backend SequentialBackend with 1 concurrent workers.\n",
      "[Parallel(n_jobs=1)]: Done 100 out of 100 | elapsed:   52.9s finished\n",
      "[Parallel(n_jobs=1)]: Using backend SequentialBackend with 1 concurrent workers.\n",
      "[Parallel(n_jobs=1)]: Done 100 out of 100 | elapsed:    0.0s finished\n",
      "[Parallel(n_jobs=1)]: Using backend SequentialBackend with 1 concurrent workers.\n",
      "[Parallel(n_jobs=1)]: Done 100 out of 100 | elapsed:  4.4min finished\n",
      "[Parallel(n_jobs=1)]: Using backend SequentialBackend with 1 concurrent workers.\n",
      "[Parallel(n_jobs=1)]: Done 100 out of 100 | elapsed:    0.0s finished\n"
     ]
    },
    {
     "data": {
      "text/plain": [
       "array([ True,  True, False, ...,  True,  True,  True])"
      ]
     },
     "execution_count": 36,
     "metadata": {},
     "output_type": "execute_result"
    }
   ],
   "source": [
    "rskf_cv1 = RepeatedStratifiedKFold(n_splits = 5, n_repeats = 1)\n",
    "y_pred = cross_val_predict(rf_clf, X.toarray(), y, cv=rskf_cv1)"
   ]
  },
  {
   "cell_type": "code",
   "execution_count": 43,
   "id": "d44f1eb5",
   "metadata": {},
   "outputs": [
    {
     "data": {
      "text/plain": [
       "True     1247\n",
       "False     672\n",
       "Name: human, dtype: int64"
      ]
     },
     "execution_count": 43,
     "metadata": {},
     "output_type": "execute_result"
    }
   ],
   "source": [
    "merge_df['human'].value_counts()"
   ]
  },
  {
   "cell_type": "code",
   "execution_count": 44,
   "id": "6b39d367",
   "metadata": {},
   "outputs": [
    {
     "data": {
      "text/plain": [
       "Text(0.5, 1.0, 'Confusion Matrix for Human/Non-human Classification')"
      ]
     },
     "execution_count": 44,
     "metadata": {},
     "output_type": "execute_result"
    },
    {
     "data": {
      "text/plain": [
       "<Figure size 576x432 with 0 Axes>"
      ]
     },
     "metadata": {},
     "output_type": "display_data"
    },
    {
     "data": {
      "image/png": "[encoded data removed]",
      "text/plain": [
       "<Figure size 432x288 with 2 Axes>"
      ]
     },
     "metadata": {
      "needs_background": "light"
     },
     "output_type": "display_data"
    }
   ],
   "source": [
    "cm = confusion_matrix(y, y_pred)\n",
    "disp = ConfusionMatrixDisplay(\n",
    "    confusion_matrix=cm,\n",
    "    display_labels=['Non-human', 'Human']\n",
    ")\n",
    "plt.figure(figsize=(8, 6))\n",
    "disp.plot(cmap='Blues', values_format='d')\n",
    "plt.title('Confusion Matrix for Human/Non-human Classification')"
   ]
  },
  {
   "cell_type": "code",
   "execution_count": 22,
   "id": "c8523d6f-c991-4a71-a5bc-08237b5e14a2",
   "metadata": {},
   "outputs": [],
   "source": [
    "# load bbb articles and remove known ineligible articles\n",
    "all_bbb_articles = pd.read_csv('/Users/antonhesse/Desktop/Anton/Education/UMN/PhD/Dissertation/CPET_scoping_review/data/cpet_articles/text_analysis/all_bbb_articles.csv')\n",
    "ineligible_articles = pd.read_csv('/Users/antonhesse/Desktop/Anton/Education/UMN/PhD/Dissertation/CPET_scoping_review/data/cpet_articles/text_analysis/eligibility/ineligible_articles_combined.csv')\n",
    "bbb_articles = all_bbb_articles[~all_bbb_articles['doi_suffix'].isin(ineligible_articles['doi_suffix'])].drop_duplicates().reset_index(drop=True)"
   ]
  },
  {
   "cell_type": "code",
   "execution_count": 23,
   "id": "1289da4b",
   "metadata": {},
   "outputs": [],
   "source": [
    "# find subset of bbb article file stems that are not human_df\n",
    "remaining_bbb_file_paths = [path for path in txt_file_paths if path.stem in bbb_articles['doi_suffix'].to_list() and path.stem not in human_df['doi_suffix'].to_list()]\n",
    "remaining_bbb_file_stems = [path.stem for path in remaining_bbb_file_paths]"
   ]
  },
  {
   "cell_type": "code",
   "execution_count": 25,
   "id": "a34b07e9-d899-4413-9b46-bdf7886d044d",
   "metadata": {},
   "outputs": [
    {
     "data": {
      "application/vnd.jupyter.widget-view+json": {
       "model_id": "97c05293f7a64395974e099f8b7d6cad",
       "version_major": 2,
       "version_minor": 0
      },
      "text/plain": [
       "  0%|          | 0/7904 [00:00<?, ?it/s]"
      ]
     },
     "metadata": {},
     "output_type": "display_data"
    }
   ],
   "source": [
    "test_texts = []\n",
    "for path in tqdm(remaining_bbb_file_paths, total=len(remaining_bbb_file_paths)):\n",
    "    try:\n",
    "        tokens = tokenize_file(path, mode='lemm')\n",
    "        if tokens is not None:\n",
    "            tokens = ' '.join(tokens)\n",
    "        test_texts.append(tokens)\n",
    "    except FileNotFoundError as e:\n",
    "        print(e)\n",
    "        test_texts.append(None)"
   ]
  },
  {
   "cell_type": "code",
   "execution_count": 26,
   "id": "d12cdfac",
   "metadata": {},
   "outputs": [],
   "source": [
    "# create test data frame\n",
    "test_df = pd.DataFrame({\n",
    "    'doi_suffix': [path.stem for path in remaining_bbb_file_paths],\n",
    "    'file_path': [path for path in remaining_bbb_file_paths],\n",
    "    'joined_tokens': test_texts\n",
    "})\n",
    "test_df = test_df[~test_df['joined_tokens'].isna()].reset_index(drop=True)\n",
    "# test_df"
   ]
  },
  {
   "cell_type": "code",
   "execution_count": 27,
   "id": "86f33bed",
   "metadata": {},
   "outputs": [
    {
     "name": "stderr",
     "output_type": "stream",
     "text": [
      "[Parallel(n_jobs=1)]: Using backend SequentialBackend with 1 concurrent workers.\n",
      "[Parallel(n_jobs=1)]: Done 100 out of 100 | elapsed:    8.3s finished\n"
     ]
    }
   ],
   "source": [
    "# create predictions and calculate probabilities\n",
    "X_test = vectorizer.transform(test_texts)\n",
    "preds = rf_clf.predict_proba(X_test)"
   ]
  },
  {
   "cell_type": "code",
   "execution_count": 28,
   "id": "15059362",
   "metadata": {},
   "outputs": [],
   "source": [
    "# create output data frame\n",
    "out_df = test_df.drop('joined_tokens', axis=1)\n",
    "\n",
    "out_df['pred_false'] = preds[:,0]\n",
    "out_df['pred_true'] = preds[:,1]\n",
    "out_df['pred_0.5'] = abs(preds[:,0]-0.5)\n",
    "out_df['pred_human'] = out_df.apply(lambda x: False if x['pred_false'] > 0.5 else True, axis=1)\n",
    "out_df.insert(2, 'human', None)\n",
    "\n",
    "out_df = out_df.reindex(columns=['doi_suffix', 'file_path', 'human', 'pred_human', 'pred_0.5'])\n",
    "# out_df"
   ]
  },
  {
   "cell_type": "code",
   "execution_count": 29,
   "id": "c5876a7b",
   "metadata": {},
   "outputs": [],
   "source": [
    "# concatenate output df with human_df\n",
    "comb_df = pd.concat([human_df, out_df])\n",
    "comb_df = comb_df.sort_values(['human', 'pred_human', 'pred_0.5'], ascending=False).reset_index(drop=True)\n",
    "comb_df['doi_suffix'] = comb_df['doi_suffix'].astype('str')\n",
    "# comb_df"
   ]
  },
  {
   "cell_type": "code",
   "execution_count": 30,
   "id": "526fa014",
   "metadata": {},
   "outputs": [
    {
     "data": {
      "text/html": [
       "<div>\n",
       "<style scoped>\n",
       "    .dataframe tbody tr th:only-of-type {\n",
       "        vertical-align: middle;\n",
       "    }\n",
       "\n",
       "    .dataframe tbody tr th {\n",
       "        vertical-align: top;\n",
       "    }\n",
       "\n",
       "    .dataframe thead th {\n",
       "        text-align: right;\n",
       "    }\n",
       "</style>\n",
       "<table border=\"1\" class=\"dataframe\">\n",
       "  <thead>\n",
       "    <tr style=\"text-align: right;\">\n",
       "      <th></th>\n",
       "      <th>doi_suffix</th>\n",
       "      <th>file_path</th>\n",
       "      <th>human</th>\n",
       "      <th>pred_human</th>\n",
       "      <th>pred_0.5</th>\n",
       "    </tr>\n",
       "  </thead>\n",
       "  <tbody>\n",
       "    <tr>\n",
       "      <th>0</th>\n",
       "      <td>s004210050238</td>\n",
       "      <td>/Users/antonhesse/Desktop/Anton/Education/UMN/...</td>\n",
       "      <td>True</td>\n",
       "      <td>True</td>\n",
       "      <td>0.19</td>\n",
       "    </tr>\n",
       "    <tr>\n",
       "      <th>1</th>\n",
       "      <td>s1566-0702_._01_._00340-x</td>\n",
       "      <td>/Users/antonhesse/Desktop/Anton/Education/UMN/...</td>\n",
       "      <td>True</td>\n",
       "      <td>True</td>\n",
       "      <td>0.19</td>\n",
       "    </tr>\n",
       "    <tr>\n",
       "      <th>2</th>\n",
       "      <td>jeb.054452</td>\n",
       "      <td>/Users/antonhesse/Desktop/Anton/Education/UMN/...</td>\n",
       "      <td>True</td>\n",
       "      <td>True</td>\n",
       "      <td>0.19</td>\n",
       "    </tr>\n",
       "    <tr>\n",
       "      <th>3</th>\n",
       "      <td>ep088977</td>\n",
       "      <td>/Users/antonhesse/Desktop/Anton/Education/UMN/...</td>\n",
       "      <td>True</td>\n",
       "      <td>True</td>\n",
       "      <td>0.19</td>\n",
       "    </tr>\n",
       "    <tr>\n",
       "      <th>4</th>\n",
       "      <td>0034-5687_._93_._90088-r</td>\n",
       "      <td>/Users/antonhesse/Desktop/Anton/Education/UMN/...</td>\n",
       "      <td>True</td>\n",
       "      <td>True</td>\n",
       "      <td>0.19</td>\n",
       "    </tr>\n",
       "    <tr>\n",
       "      <th>...</th>\n",
       "      <td>...</td>\n",
       "      <td>...</td>\n",
       "      <td>...</td>\n",
       "      <td>...</td>\n",
       "      <td>...</td>\n",
       "    </tr>\n",
       "    <tr>\n",
       "      <th>9845</th>\n",
       "      <td>02640410701305420</td>\n",
       "      <td>/Users/antonhesse/Desktop/Anton/Education/UMN/...</td>\n",
       "      <td>None</td>\n",
       "      <td>True</td>\n",
       "      <td>0.14</td>\n",
       "    </tr>\n",
       "    <tr>\n",
       "      <th>9846</th>\n",
       "      <td>jappl.2001.90.2.538</td>\n",
       "      <td>/Users/antonhesse/Desktop/Anton/Education/UMN/...</td>\n",
       "      <td>None</td>\n",
       "      <td>True</td>\n",
       "      <td>0.14</td>\n",
       "    </tr>\n",
       "    <tr>\n",
       "      <th>9847</th>\n",
       "      <td>japplphysiol.00690.2001</td>\n",
       "      <td>/Users/antonhesse/Desktop/Anton/Education/UMN/...</td>\n",
       "      <td>None</td>\n",
       "      <td>True</td>\n",
       "      <td>0.12</td>\n",
       "    </tr>\n",
       "    <tr>\n",
       "      <th>9848</th>\n",
       "      <td>ajpendo.1998.274.1.e72</td>\n",
       "      <td>/Users/antonhesse/Desktop/Anton/Education/UMN/...</td>\n",
       "      <td>None</td>\n",
       "      <td>True</td>\n",
       "      <td>0.11</td>\n",
       "    </tr>\n",
       "    <tr>\n",
       "      <th>9849</th>\n",
       "      <td>systems2040425</td>\n",
       "      <td>/Users/antonhesse/Desktop/Anton/Education/UMN/...</td>\n",
       "      <td>None</td>\n",
       "      <td>False</td>\n",
       "      <td>0.17</td>\n",
       "    </tr>\n",
       "  </tbody>\n",
       "</table>\n",
       "<p>9850 rows × 5 columns</p>\n",
       "</div>"
      ],
      "text/plain": [
       "                     doi_suffix  \\\n",
       "0                 s004210050238   \n",
       "1     s1566-0702_._01_._00340-x   \n",
       "2                    jeb.054452   \n",
       "3                      ep088977   \n",
       "4      0034-5687_._93_._90088-r   \n",
       "...                         ...   \n",
       "9845          02640410701305420   \n",
       "9846        jappl.2001.90.2.538   \n",
       "9847    japplphysiol.00690.2001   \n",
       "9848     ajpendo.1998.274.1.e72   \n",
       "9849             systems2040425   \n",
       "\n",
       "                                              file_path human pred_human  \\\n",
       "0     /Users/antonhesse/Desktop/Anton/Education/UMN/...  True       True   \n",
       "1     /Users/antonhesse/Desktop/Anton/Education/UMN/...  True       True   \n",
       "2     /Users/antonhesse/Desktop/Anton/Education/UMN/...  True       True   \n",
       "3     /Users/antonhesse/Desktop/Anton/Education/UMN/...  True       True   \n",
       "4     /Users/antonhesse/Desktop/Anton/Education/UMN/...  True       True   \n",
       "...                                                 ...   ...        ...   \n",
       "9845  /Users/antonhesse/Desktop/Anton/Education/UMN/...  None       True   \n",
       "9846  /Users/antonhesse/Desktop/Anton/Education/UMN/...  None       True   \n",
       "9847  /Users/antonhesse/Desktop/Anton/Education/UMN/...  None       True   \n",
       "9848  /Users/antonhesse/Desktop/Anton/Education/UMN/...  None       True   \n",
       "9849  /Users/antonhesse/Desktop/Anton/Education/UMN/...  None      False   \n",
       "\n",
       "      pred_0.5  \n",
       "0         0.19  \n",
       "1         0.19  \n",
       "2         0.19  \n",
       "3         0.19  \n",
       "4         0.19  \n",
       "...        ...  \n",
       "9845      0.14  \n",
       "9846      0.14  \n",
       "9847      0.12  \n",
       "9848      0.11  \n",
       "9849      0.17  \n",
       "\n",
       "[9850 rows x 5 columns]"
      ]
     },
     "execution_count": 30,
     "metadata": {},
     "output_type": "execute_result"
    }
   ],
   "source": [
    "comb_df"
   ]
  },
  {
   "cell_type": "code",
   "execution_count": null,
   "id": "52e71ff7",
   "metadata": {},
   "outputs": [],
   "source": [
    "comb_df.to_clipboard(index=False)"
   ]
  },
  {
   "cell_type": "code",
   "execution_count": null,
   "id": "337454cc",
   "metadata": {},
   "outputs": [],
   "source": [
    "comb_df.to_csv(Path(\n",
    "    '/Users/antonhesse/Desktop/Anton/Education/UMN/PhD/Dissertation/CPET_scoping_review/data/cpet_articles/text_analysis/eligibility/pred_human.csv'),\n",
    "    index=False)"
   ]
  },
  {
   "cell_type": "code",
   "execution_count": null,
   "id": "2c4e089c",
   "metadata": {},
   "outputs": [],
   "source": []
  }
 ],
 "metadata": {
  "kernelspec": {
   "display_name": "base",
   "language": "python",
   "name": "python3"
  },
  "language_info": {
   "codemirror_mode": {
    "name": "ipython",
    "version": 3
   },
   "file_extension": ".py",
   "mimetype": "text/x-python",
   "name": "python",
   "nbconvert_exporter": "python",
   "pygments_lexer": "ipython3",
   "version": "3.8.8"
  },
  "vscode": {
   "interpreter": {
    "hash": "446a03fef2add5f67b999c04d05da6612f433d57892c44d0763abbe61a1895d0"
   }
  }
 },
 "nbformat": 4,
 "nbformat_minor": 5
}
