{
 "cells": [
  {
   "cell_type": "code",
   "execution_count": 3,
   "id": "f73a16da",
   "metadata": {},
   "outputs": [],
   "source": [
    "import nltk\n",
    "from nltk.tokenize import sent_tokenize, word_tokenize\n",
    "from nltk.corpus import stopwords\n",
    "from nltk.stem import PorterStemmer, WordNetLemmatizer\n",
    "# from nltk.probability import FreqDist\n",
    "from pathlib import Path\n",
    "import glob\n",
    "import random\n",
    "import pandas as pd\n",
    "import re\n",
    "# import requests\n",
    "from tqdm.notebook import tqdm\n",
    "from sklearn.model_selection import StratifiedKFold, cross_val_score, RepeatedStratifiedKFold, train_test_split, GridSearchCV\n",
    "from nltk.classify.scikitlearn import SklearnClassifier\n",
    "from sklearn.naive_bayes import MultinomialNB,BernoulliNB,GaussianNB,ComplementNB,CategoricalNB\n",
    "from statistics import mean, stdev\n",
    "from sklearn.feature_extraction.text import CountVectorizer, TfidfVectorizer, TfidfTransformer\n",
    "from sklearn.metrics import accuracy_score, confusion_matrix, ConfusionMatrixDisplay\n",
    "from sklearn.linear_model import SGDClassifier, LogisticRegression\n",
    "from sklearn.svm import SVC, LinearSVC, NuSVC\n",
    "from sklearn.ensemble import VotingClassifier, RandomForestClassifier\n",
    "from sklearn.tree import DecisionTreeClassifier\n",
    "from sklearn.neighbors import KNeighborsClassifier\n",
    "import matplotlib.pyplot as plt\n",
    "import numpy as np\n",
    "import pickle\n",
    "import time"
   ]
  },
  {
   "cell_type": "code",
   "execution_count": 4,
   "id": "beffd835",
   "metadata": {},
   "outputs": [],
   "source": [
    "def process_file(file_name, file_list, mode = 'lemm'):\n",
    "    txt_re = re.compile(file_name)\n",
    "    fname = list(filter(txt_re.search, file_list))[0]\n",
    "    \n",
    "    # check file size to make sure the txt file actually has text\n",
    "    file_size = 0\n",
    "    while file_size == 0:\n",
    "        file_size = Path(fname).stat().st_size\n",
    "        if file_size != 0: # check if conversion to txt didn't work\n",
    "            with open(fname, 'r') as f:\n",
    "                text = f.read()\n",
    "        else:\n",
    "            print('Empty file, returning None')\n",
    "            return None\n",
    "    text_lower = text.lower()\n",
    "    tokens = word_tokenize(text_lower)\n",
    "    stop_words = set(stopwords.words('english'))\n",
    "\n",
    "    filtered_tokens = [t for t in tokens if t not in stop_words]\n",
    "    \n",
    "    if mode == 'lemm':\n",
    "        lemmatizer = WordNetLemmatizer()\n",
    "        lemmatized_words = [lemmatizer.lemmatize(t) for t in filtered_tokens]\n",
    "\n",
    "        return lemmatized_words\n",
    "    \n",
    "    elif mode == 'stem':\n",
    "        stemmer = PorterStemmer()\n",
    "        stemmed_words = [stemmer.stem(t) for t in filtered_tokens]\n",
    "    \n",
    "        return stemmed_words"
   ]
  },
  {
   "cell_type": "code",
   "execution_count": 10,
   "id": "82ead547",
   "metadata": {},
   "outputs": [],
   "source": [
    "txt_file_paths = Path('/Users/antonhesse/Desktop/Anton/Education/UMN/Lab and Research/HSPL/CPET_scoping_review/data/cpet_articles/full_texts/txts').glob('*.txt')\n",
    "gas_clf_df = pd.read_csv('/Users/antonhesse/Desktop/Anton/Education/UMN/Lab and Research/HSPL/CPET_scoping_review/data/cpet_articles/Manual text analysis - Data.csv')\n",
    "# gas_clf_df['txt_file_name'] = gas_clf_df.apply(lambda x: str(x['Article'] + '.txt'), axis=1)\n",
    "# gas_clf_df = gas_clf_df[(gas_clf_df['Eligible'] == 'e') & (gas_clf_df['External ref'] == 'n')].reset_index(drop=True)"
   ]
  },
  {
   "cell_type": "code",
   "execution_count": 6,
   "id": "e090a205",
   "metadata": {},
   "outputs": [],
   "source": [
    "for idx, row in gas_clf_df.iterrows():\n",
    "    if row['Eligible'] != 'e':\n",
    "        row['Gas data'] = 'n'\n",
    "    if (row['External ref'] == 'y') & (row['Gas data'] != 'y'):\n",
    "        row['Gas data'] = 'n'"
   ]
  },
  {
   "cell_type": "code",
   "execution_count": 16,
   "id": "6ce6d3c4",
   "metadata": {},
   "outputs": [],
   "source": [
    "analyzed_txt_files = gas_clf_df['doi_suffix'].to_list()"
   ]
  },
  {
   "cell_type": "code",
   "execution_count": 17,
   "id": "b4683895",
   "metadata": {},
   "outputs": [
    {
     "data": {
      "application/vnd.jupyter.widget-view+json": {
       "model_id": "af07dbcf8c414eb3accb93b42e7769e8",
       "version_major": 2,
       "version_minor": 0
      },
      "text/plain": [
       "  0%|          | 0/698 [00:00<?, ?it/s]"
      ]
     },
     "metadata": {},
     "output_type": "display_data"
    },
    {
     "ename": "IndexError",
     "evalue": "list index out of range",
     "output_type": "error",
     "traceback": [
      "\u001b[0;31m---------------------------------------------------------------------------\u001b[0m",
      "\u001b[0;31mIndexError\u001b[0m                                Traceback (most recent call last)",
      "Input \u001b[0;32mIn [17]\u001b[0m, in \u001b[0;36m<cell line: 1>\u001b[0;34m()\u001b[0m\n\u001b[0;32m----> 1\u001b[0m word_lists \u001b[38;5;241m=\u001b[39m [process_file(f, \u001b[38;5;28mlist\u001b[39m(\u001b[38;5;28mmap\u001b[39m(\u001b[38;5;28mstr\u001b[39m, txt_file_paths)), mode\u001b[38;5;241m=\u001b[39m\u001b[38;5;124m'\u001b[39m\u001b[38;5;124mlemm\u001b[39m\u001b[38;5;124m'\u001b[39m) \u001b[38;5;28;01mfor\u001b[39;00m f \u001b[38;5;129;01min\u001b[39;00m tqdm(analyzed_txt_files)]\n",
      "Input \u001b[0;32mIn [17]\u001b[0m, in \u001b[0;36m<listcomp>\u001b[0;34m(.0)\u001b[0m\n\u001b[0;32m----> 1\u001b[0m word_lists \u001b[38;5;241m=\u001b[39m [\u001b[43mprocess_file\u001b[49m\u001b[43m(\u001b[49m\u001b[43mf\u001b[49m\u001b[43m,\u001b[49m\u001b[43m \u001b[49m\u001b[38;5;28;43mlist\u001b[39;49m\u001b[43m(\u001b[49m\u001b[38;5;28;43mmap\u001b[39;49m\u001b[43m(\u001b[49m\u001b[38;5;28;43mstr\u001b[39;49m\u001b[43m,\u001b[49m\u001b[43m \u001b[49m\u001b[43mtxt_file_paths\u001b[49m\u001b[43m)\u001b[49m\u001b[43m)\u001b[49m\u001b[43m,\u001b[49m\u001b[43m \u001b[49m\u001b[43mmode\u001b[49m\u001b[38;5;241;43m=\u001b[39;49m\u001b[38;5;124;43m'\u001b[39;49m\u001b[38;5;124;43mlemm\u001b[39;49m\u001b[38;5;124;43m'\u001b[39;49m\u001b[43m)\u001b[49m \u001b[38;5;28;01mfor\u001b[39;00m f \u001b[38;5;129;01min\u001b[39;00m tqdm(analyzed_txt_files)]\n",
      "Input \u001b[0;32mIn [4]\u001b[0m, in \u001b[0;36mprocess_file\u001b[0;34m(file_name, file_list, mode)\u001b[0m\n\u001b[1;32m      1\u001b[0m \u001b[38;5;28;01mdef\u001b[39;00m \u001b[38;5;21mprocess_file\u001b[39m(file_name, file_list, mode \u001b[38;5;241m=\u001b[39m \u001b[38;5;124m'\u001b[39m\u001b[38;5;124mlemm\u001b[39m\u001b[38;5;124m'\u001b[39m):\n\u001b[1;32m      2\u001b[0m     txt_re \u001b[38;5;241m=\u001b[39m re\u001b[38;5;241m.\u001b[39mcompile(file_name)\n\u001b[0;32m----> 3\u001b[0m     fname \u001b[38;5;241m=\u001b[39m \u001b[38;5;28;43mlist\u001b[39;49m\u001b[43m(\u001b[49m\u001b[38;5;28;43mfilter\u001b[39;49m\u001b[43m(\u001b[49m\u001b[43mtxt_re\u001b[49m\u001b[38;5;241;43m.\u001b[39;49m\u001b[43msearch\u001b[49m\u001b[43m,\u001b[49m\u001b[43m \u001b[49m\u001b[43mfile_list\u001b[49m\u001b[43m)\u001b[49m\u001b[43m)\u001b[49m\u001b[43m[\u001b[49m\u001b[38;5;241;43m0\u001b[39;49m\u001b[43m]\u001b[49m\n\u001b[1;32m      5\u001b[0m     \u001b[38;5;66;03m# check file size to make sure the txt file actually has text\u001b[39;00m\n\u001b[1;32m      6\u001b[0m     file_size \u001b[38;5;241m=\u001b[39m \u001b[38;5;241m0\u001b[39m\n",
      "\u001b[0;31mIndexError\u001b[0m: list index out of range"
     ]
    }
   ],
   "source": [
    "word_lists = [process_file(f, list(map(str, txt_file_paths)), mode='lemm') for f in tqdm(analyzed_txt_files)]\n"
   ]
  },
  {
   "cell_type": "code",
   "execution_count": 56,
   "id": "a64513dd",
   "metadata": {
    "scrolled": true
   },
   "outputs": [
    {
     "data": {
      "text/html": [
       "<div>\n",
       "<style scoped>\n",
       "    .dataframe tbody tr th:only-of-type {\n",
       "        vertical-align: middle;\n",
       "    }\n",
       "\n",
       "    .dataframe tbody tr th {\n",
       "        vertical-align: top;\n",
       "    }\n",
       "\n",
       "    .dataframe thead th {\n",
       "        text-align: right;\n",
       "    }\n",
       "</style>\n",
       "<table border=\"1\" class=\"dataframe\">\n",
       "  <thead>\n",
       "    <tr style=\"text-align: right;\">\n",
       "      <th></th>\n",
       "      <th>Article</th>\n",
       "      <th>Eligible</th>\n",
       "      <th>Eligibility note</th>\n",
       "      <th>External ref</th>\n",
       "      <th>Gas data</th>\n",
       "      <th>txt_file_name</th>\n",
       "      <th>words</th>\n",
       "      <th>avg_word_len</th>\n",
       "    </tr>\n",
       "  </thead>\n",
       "  <tbody>\n",
       "  </tbody>\n",
       "</table>\n",
       "</div>"
      ],
      "text/plain": [
       "Empty DataFrame\n",
       "Columns: [Article, Eligible, Eligibility note, External ref, Gas data, txt_file_name, words, avg_word_len]\n",
       "Index: []"
      ]
     },
     "execution_count": 56,
     "metadata": {},
     "output_type": "execute_result"
    }
   ],
   "source": [
    "gas_clf_df['words'] = word_lists\n",
    "gas_clf_df['avg_word_len'] = gas_clf_df.apply(lambda x: np.mean(list(map(len, x['words']))), axis=1)\n",
    "gas_clf_df = gas_clf_df[gas_clf_df['avg_word_len'] > 1.5] # removes articles with pdf to txt conversion issue\n",
    "gas_clf_df[gas_clf_df['Gas data'].isnull()]"
   ]
  },
  {
   "cell_type": "code",
   "execution_count": 57,
   "id": "a66065f0",
   "metadata": {},
   "outputs": [
    {
     "name": "stdout",
     "output_type": "stream",
     "text": [
      "Values counts:\n",
      "n    306\n",
      "y    292\n",
      "Name: Gas data, dtype: int64\n",
      "\n",
      "Proportions:\n",
      "n    51.2\n",
      "y    48.8\n",
      "Name: Gas data, dtype: float64\n"
     ]
    }
   ],
   "source": [
    "joined_word_lists = [' '.join(text) for text in gas_clf_df['words']]\n",
    "gas_data = gas_clf_df['Gas data'].to_list()\n",
    "counts = gas_clf_df['Gas data'].value_counts()\n",
    "print(f'Values counts:\\n{counts}')\n",
    "props = round(gas_clf_df['Gas data'].value_counts() / sum(gas_clf_df['Gas data'].value_counts()) * 100,1)\n",
    "print()\n",
    "print(f'Proportions:\\n{props}')"
   ]
  },
  {
   "cell_type": "markdown",
   "id": "8174cd9b",
   "metadata": {},
   "source": [
    "You can use CountVectorizier and TfidfTransformer together, or just use TfidfVectorizer because that combines those steps together. With a Pipeline, however, I'm unsure if you need to separate those two steps or not."
   ]
  },
  {
   "cell_type": "code",
   "execution_count": 58,
   "id": "5042604b",
   "metadata": {
    "scrolled": true
   },
   "outputs": [],
   "source": [
    "# compare accuracy of different models\n",
    "vectorizer = TfidfVectorizer(stop_words='english')\n",
    "X = vectorizer.fit_transform(joined_word_lists)"
   ]
  },
  {
   "cell_type": "code",
   "execution_count": 59,
   "id": "93f17526",
   "metadata": {},
   "outputs": [],
   "source": [
    "rskf_cv = RepeatedStratifiedKFold(n_splits = 5, n_repeats = 2)"
   ]
  },
  {
   "cell_type": "code",
   "execution_count": 60,
   "id": "c5f7ccdf",
   "metadata": {},
   "outputs": [],
   "source": [
    "names = [\n",
    "#     'MultinomialNB',\n",
    "#     'BernoulliNB',\n",
    "#     'GaussianNB',\n",
    "#     'ComplementNB',\n",
    "#     'Logistic',\n",
    "    'RandomForest',\n",
    "#     'DecisionTree',\n",
    "#     'KNeighborsClassifier'\n",
    "#     'SGDClassifier',\n",
    "#     'SVC',\n",
    "#     'LinearSVC',\n",
    "#     'NuSVC'\n",
    "]\n",
    "\n",
    "classifiers = [\n",
    "#     MultinomialNB(),\n",
    "#     BernoulliNB(),\n",
    "#     GaussianNB(),\n",
    "#     ComplementNB(),\n",
    "#     LogisticRegression(),\n",
    "    RandomForestClassifier(n_estimators=600),\n",
    "#     DecisionTreeClassifier(),\n",
    "#     KNeighborsClassifier(n_neighbors=18),\n",
    "#     SGDClassifier(),\n",
    "#     SVC(kernel='linear', degree=3, gamma='auto', probability=True,),\n",
    "#     LinearSVC(),\n",
    "#     NuSVC(probability=True)\n",
    "]\n",
    "\n",
    "scores_df = pd.DataFrame(columns = names)\n",
    "scores_df.insert(0, 'Metric', ['Mean', 'Median', 'Min', 'Max', 'SD', 'Comp_time'])"
   ]
  },
  {
   "cell_type": "code",
   "execution_count": 37,
   "id": "fb34fec6",
   "metadata": {},
   "outputs": [
    {
     "data": {
      "application/vnd.jupyter.widget-view+json": {
       "model_id": "b195e444416a4614a2241e859dc20344",
       "version_major": 2,
       "version_minor": 0
      },
      "text/plain": [
       "  0%|          | 0/1 [00:00<?, ?it/s]"
      ]
     },
     "metadata": {},
     "output_type": "display_data"
    }
   ],
   "source": [
    "for name, clf in tqdm(zip(names, classifiers), total=len(classifiers)):\n",
    "    start = time.time()\n",
    "    clf.fit(X.toarray(), gas_data)\n",
    "    scores = cross_val_score(clf, X.toarray(), gas_data, cv = rskf_cv)\n",
    "    end = time.time()\n",
    "    minutes = round((end - start) // 60,0)\n",
    "    seconds = round((end - start) % 60,0)\n",
    "    comp_time = '{minutes}:{seconds}'.format(minutes = minutes, seconds = seconds)\n",
    "    scores_df[name] = [\n",
    "        round(np.mean(scores)*100,1),\n",
    "        round(np.median(scores)*100,1),\n",
    "        round(min(scores)*100,1),\n",
    "        round(max(scores)*100,1),\n",
    "        round(stdev(scores*100),1),\n",
    "        comp_time\n",
    "    ]"
   ]
  },
  {
   "cell_type": "code",
   "execution_count": 38,
   "id": "1fabcfc5",
   "metadata": {},
   "outputs": [
    {
     "data": {
      "text/html": [
       "<div>\n",
       "<style scoped>\n",
       "    .dataframe tbody tr th:only-of-type {\n",
       "        vertical-align: middle;\n",
       "    }\n",
       "\n",
       "    .dataframe tbody tr th {\n",
       "        vertical-align: top;\n",
       "    }\n",
       "\n",
       "    .dataframe thead th {\n",
       "        text-align: right;\n",
       "    }\n",
       "</style>\n",
       "<table border=\"1\" class=\"dataframe\">\n",
       "  <thead>\n",
       "    <tr style=\"text-align: right;\">\n",
       "      <th></th>\n",
       "      <th>Metric</th>\n",
       "      <th>RandomForest</th>\n",
       "    </tr>\n",
       "  </thead>\n",
       "  <tbody>\n",
       "    <tr>\n",
       "      <th>0</th>\n",
       "      <td>Mean</td>\n",
       "      <td>80.8</td>\n",
       "    </tr>\n",
       "    <tr>\n",
       "      <th>1</th>\n",
       "      <td>Median</td>\n",
       "      <td>81.0</td>\n",
       "    </tr>\n",
       "    <tr>\n",
       "      <th>2</th>\n",
       "      <td>Min</td>\n",
       "      <td>76.7</td>\n",
       "    </tr>\n",
       "    <tr>\n",
       "      <th>3</th>\n",
       "      <td>Max</td>\n",
       "      <td>84.3</td>\n",
       "    </tr>\n",
       "    <tr>\n",
       "      <th>4</th>\n",
       "      <td>SD</td>\n",
       "      <td>2.8</td>\n",
       "    </tr>\n",
       "    <tr>\n",
       "      <th>5</th>\n",
       "      <td>Comp_time</td>\n",
       "      <td>2.0:32.0</td>\n",
       "    </tr>\n",
       "  </tbody>\n",
       "</table>\n",
       "</div>"
      ],
      "text/plain": [
       "      Metric RandomForest\n",
       "0       Mean         80.8\n",
       "1     Median         81.0\n",
       "2        Min         76.7\n",
       "3        Max         84.3\n",
       "4         SD          2.8\n",
       "5  Comp_time     2.0:32.0"
      ]
     },
     "execution_count": 38,
     "metadata": {},
     "output_type": "execute_result"
    }
   ],
   "source": [
    "scores_df"
   ]
  },
  {
   "cell_type": "code",
   "execution_count": 61,
   "id": "72dd26fd",
   "metadata": {},
   "outputs": [],
   "source": [
    "folder = Path('/Users/antonhesse/Desktop/Anton/Education/UMN/Lab and Research/HSPL/CPET_scoping_review/data/cpet_articles/pdfs/manual_pdf_analysis/')\n",
    "manual_analysis_txts = [re.sub('.pdf', '.txt', path.name) for path in folder.rglob('*.pdf')]"
   ]
  },
  {
   "cell_type": "code",
   "execution_count": 62,
   "id": "6fb7aec5",
   "metadata": {},
   "outputs": [],
   "source": [
    "def list_intersection(lst1, lst2, output = 'intersection'):\n",
    "    if output == 'intersection':\n",
    "        return list(set(lst1).intersection(lst2))\n",
    "    elif output == 'difference':\n",
    "        return list(set(lst1).difference(lst2))\n",
    "    elif output == 'symmetric_difference':\n",
    "        return list(set(lst1).symmetric_difference(lst2))\n",
    "    else:\n",
    "        print('Bad input, returning None')\n",
    "        return None\n"
   ]
  },
  {
   "cell_type": "code",
   "execution_count": 63,
   "id": "46a99ce4",
   "metadata": {
    "scrolled": true
   },
   "outputs": [
    {
     "data": {
      "application/vnd.jupyter.widget-view+json": {
       "model_id": "eab2342564fa4820a522adf6f970ea64",
       "version_major": 2,
       "version_minor": 0
      },
      "text/plain": [
       "  0%|          | 0/387 [00:00<?, ?it/s]"
      ]
     },
     "metadata": {},
     "output_type": "display_data"
    }
   ],
   "source": [
    "test_articles = list_intersection(manual_analysis_txts, analyzed_txt_files, output='difference')\n",
    "word_lists_test = [process_file(f, txt_files) for f in tqdm(test_articles)]\n",
    "joined_word_lists_test = [' '.join(text) for text in word_lists_test]"
   ]
  },
  {
   "cell_type": "code",
   "execution_count": 64,
   "id": "9b3a78cd",
   "metadata": {},
   "outputs": [
    {
     "data": {
      "text/plain": [
       "VotingClassifier(estimators=[('RandomForest',\n",
       "                              RandomForestClassifier(n_estimators=600))],\n",
       "                 voting='soft')"
      ]
     },
     "execution_count": 64,
     "metadata": {},
     "output_type": "execute_result"
    }
   ],
   "source": [
    "estimators = [(name, clf) for name, clf in zip(names, classifiers)]\n",
    "estimators\n",
    "vote_soft = VotingClassifier(estimators=estimators, voting='soft')\n",
    "vote_soft.fit(X, gas_data)"
   ]
  },
  {
   "cell_type": "code",
   "execution_count": null,
   "id": "bd77eff9",
   "metadata": {
    "scrolled": true
   },
   "outputs": [],
   "source": [
    "scores = cross_val_score(vote_soft, X, gas_data, cv = rskf_cv)"
   ]
  },
  {
   "cell_type": "code",
   "execution_count": null,
   "id": "06cdf98f",
   "metadata": {},
   "outputs": [],
   "source": [
    "print(round(np.mean(scores)*100,1))\n",
    "print(round(np.median(scores)*100,1))"
   ]
  },
  {
   "cell_type": "code",
   "execution_count": 65,
   "id": "c49994fc",
   "metadata": {},
   "outputs": [],
   "source": [
    "X_test = vectorizer.transform(joined_word_lists_test)\n",
    "preds = vote_soft.predict_proba(X_test)"
   ]
  },
  {
   "cell_type": "code",
   "execution_count": 66,
   "id": "4eb98779",
   "metadata": {},
   "outputs": [],
   "source": [
    "test_dict = {\n",
    "    'article': test_articles,\n",
    "    'pred_n': preds[:,0],\n",
    "    'pred_y': preds[:,1],\n",
    "    'pred_0.5': abs(preds[:,0]-0.5)\n",
    "}\n",
    "test_df = pd.DataFrame.from_dict(test_dict)\n",
    "test_df['pred'] = test_df.apply(lambda x: 'y' if x['pred_n'] < 0.5 else 'n', axis=1)\n",
    "test_df['article'] = test_df['article'].apply(lambda x: x.replace('.txt', ''))"
   ]
  },
  {
   "cell_type": "code",
   "execution_count": 68,
   "id": "de05d609",
   "metadata": {
    "scrolled": true
   },
   "outputs": [
    {
     "data": {
      "text/html": [
       "<div>\n",
       "<style scoped>\n",
       "    .dataframe tbody tr th:only-of-type {\n",
       "        vertical-align: middle;\n",
       "    }\n",
       "\n",
       "    .dataframe tbody tr th {\n",
       "        vertical-align: top;\n",
       "    }\n",
       "\n",
       "    .dataframe thead th {\n",
       "        text-align: right;\n",
       "    }\n",
       "</style>\n",
       "<table border=\"1\" class=\"dataframe\">\n",
       "  <thead>\n",
       "    <tr style=\"text-align: right;\">\n",
       "      <th></th>\n",
       "      <th>article</th>\n",
       "      <th>pred_0.5</th>\n",
       "    </tr>\n",
       "  </thead>\n",
       "  <tbody>\n",
       "    <tr>\n",
       "      <th>106</th>\n",
       "      <td>j.msard.2022.103721</td>\n",
       "      <td>0.008333</td>\n",
       "    </tr>\n",
       "    <tr>\n",
       "      <th>198</th>\n",
       "      <td>fendo.2020.531926</td>\n",
       "      <td>0.021667</td>\n",
       "    </tr>\n",
       "    <tr>\n",
       "      <th>186</th>\n",
       "      <td>s00421-006-0181-1</td>\n",
       "      <td>0.030000</td>\n",
       "    </tr>\n",
       "    <tr>\n",
       "      <th>301</th>\n",
       "      <td>mss.0000000000001204</td>\n",
       "      <td>0.041667</td>\n",
       "    </tr>\n",
       "    <tr>\n",
       "      <th>234</th>\n",
       "      <td>s0066-782x2002001200004</td>\n",
       "      <td>0.045000</td>\n",
       "    </tr>\n",
       "    <tr>\n",
       "      <th>36</th>\n",
       "      <td>jcm10153299</td>\n",
       "      <td>0.055000</td>\n",
       "    </tr>\n",
       "    <tr>\n",
       "      <th>376</th>\n",
       "      <td>22818</td>\n",
       "      <td>0.056667</td>\n",
       "    </tr>\n",
       "    <tr>\n",
       "      <th>273</th>\n",
       "      <td>ijerph18063282</td>\n",
       "      <td>0.058333</td>\n",
       "    </tr>\n",
       "    <tr>\n",
       "      <th>124</th>\n",
       "      <td>02640414.2021.1876313</td>\n",
       "      <td>0.063333</td>\n",
       "    </tr>\n",
       "    <tr>\n",
       "      <th>335</th>\n",
       "      <td>bjsm.11.3.116</td>\n",
       "      <td>0.065000</td>\n",
       "    </tr>\n",
       "    <tr>\n",
       "      <th>249</th>\n",
       "      <td>jc.84.7.2303</td>\n",
       "      <td>0.070000</td>\n",
       "    </tr>\n",
       "    <tr>\n",
       "      <th>57</th>\n",
       "      <td>apha.12423</td>\n",
       "      <td>0.070000</td>\n",
       "    </tr>\n",
       "    <tr>\n",
       "      <th>83</th>\n",
       "      <td>journal.pone.0085320</td>\n",
       "      <td>0.071667</td>\n",
       "    </tr>\n",
       "    <tr>\n",
       "      <th>135</th>\n",
       "      <td>jsep.2013-0251</td>\n",
       "      <td>0.073333</td>\n",
       "    </tr>\n",
       "    <tr>\n",
       "      <th>173</th>\n",
       "      <td>2060.2021.00150</td>\n",
       "      <td>0.076667</td>\n",
       "    </tr>\n",
       "    <tr>\n",
       "      <th>353</th>\n",
       "      <td>fspor.2020.00067</td>\n",
       "      <td>0.078333</td>\n",
       "    </tr>\n",
       "    <tr>\n",
       "      <th>349</th>\n",
       "      <td>ijspp.2018-0527</td>\n",
       "      <td>0.078333</td>\n",
       "    </tr>\n",
       "  </tbody>\n",
       "</table>\n",
       "</div>"
      ],
      "text/plain": [
       "                     article  pred_0.5\n",
       "106      j.msard.2022.103721  0.008333\n",
       "198        fendo.2020.531926  0.021667\n",
       "186        s00421-006-0181-1  0.030000\n",
       "301     mss.0000000000001204  0.041667\n",
       "234  s0066-782x2002001200004  0.045000\n",
       "36               jcm10153299  0.055000\n",
       "376                    22818  0.056667\n",
       "273           ijerph18063282  0.058333\n",
       "124    02640414.2021.1876313  0.063333\n",
       "335            bjsm.11.3.116  0.065000\n",
       "249             jc.84.7.2303  0.070000\n",
       "57                apha.12423  0.070000\n",
       "83      journal.pone.0085320  0.071667\n",
       "135           jsep.2013-0251  0.073333\n",
       "173          2060.2021.00150  0.076667\n",
       "353         fspor.2020.00067  0.078333\n",
       "349          ijspp.2018-0527  0.078333"
      ]
     },
     "execution_count": 68,
     "metadata": {},
     "output_type": "execute_result"
    }
   ],
   "source": [
    "# test_df[(test_df['pred'] == 'y') & (test_df['pred_0.5'] < 0.20)].sort_values(by = 'pred_0.5', ascending=True)\n",
    "# test_df[(test_df['pred'] == 'n') & (test_df['pred_n'] > 0.6)].sort_values(by = 'pred_0.5', ascending=True).iloc[0:20,:]\n",
    "\n",
    "test_df[test_df['pred_0.5'] < 0.08].sort_values(by = 'pred_0.5', ascending=True).loc[:,['article', 'pred_0.5']]\n"
   ]
  },
  {
   "cell_type": "markdown",
   "id": "82fb8157",
   "metadata": {},
   "source": [
    "# Grid searching with random forest"
   ]
  },
  {
   "cell_type": "code",
   "execution_count": null,
   "id": "891104e9",
   "metadata": {},
   "outputs": [],
   "source": [
    "X_train, X_test, y_train, y_test = train_test_split(joined_word_lists, gas_data, test_size=0.3, random_state=42)\n",
    "X_train = vectorizer.fit_transform(X_train)\n",
    "X_test = vectorizer.transform(X_test)"
   ]
  },
  {
   "cell_type": "code",
   "execution_count": 40,
   "id": "3b7774a1",
   "metadata": {},
   "outputs": [],
   "source": [
    "rfc = RandomForestClassifier(random_state=42)\n",
    "param_grid = { \n",
    "    'n_estimators': [550, 657, 600, 625, 650]\n",
    "}"
   ]
  },
  {
   "cell_type": "code",
   "execution_count": 43,
   "id": "b32c7056",
   "metadata": {},
   "outputs": [
    {
     "name": "stdout",
     "output_type": "stream",
     "text": [
      "Fitting 5 folds for each of 5 candidates, totalling 25 fits\n"
     ]
    },
    {
     "data": {
      "text/plain": [
       "GridSearchCV(cv=5, estimator=RandomForestClassifier(random_state=42), n_jobs=-1,\n",
       "             param_grid={'n_estimators': [550, 657, 600, 625, 650]}, verbose=2)"
      ]
     },
     "execution_count": 43,
     "metadata": {},
     "output_type": "execute_result"
    }
   ],
   "source": [
    "GSCV_rfc = GridSearchCV(estimator=rfc, param_grid=param_grid, cv=5, n_jobs=-1, verbose=2)\n",
    "GSCV_rfc.fit(X_train, y_train)"
   ]
  },
  {
   "cell_type": "code",
   "execution_count": 44,
   "id": "38b7d374",
   "metadata": {},
   "outputs": [
    {
     "data": {
      "text/plain": [
       "{'n_estimators': 600}"
      ]
     },
     "execution_count": 44,
     "metadata": {},
     "output_type": "execute_result"
    }
   ],
   "source": [
    "CV_rfc.best_params_"
   ]
  },
  {
   "cell_type": "code",
   "execution_count": 25,
   "id": "33be6df8",
   "metadata": {},
   "outputs": [
    {
     "data": {
      "text/plain": [
       "RandomForestClassifier(n_estimators=600, random_state=42)"
      ]
     },
     "execution_count": 25,
     "metadata": {},
     "output_type": "execute_result"
    }
   ],
   "source": [
    "rfc_best = RandomForestClassifier(n_estimators=CV_rfc.best_params_['n_estimators'], random_state=42)\n",
    "rfc_best.fit(X_train, y_train)"
   ]
  },
  {
   "cell_type": "code",
   "execution_count": 26,
   "id": "2d94ada1",
   "metadata": {},
   "outputs": [],
   "source": [
    "pred = rfc_best.predict(X_test)"
   ]
  },
  {
   "cell_type": "code",
   "execution_count": 27,
   "id": "0dede5cf",
   "metadata": {},
   "outputs": [
    {
     "name": "stdout",
     "output_type": "stream",
     "text": [
      "Accuracy for Random Forest on CV data:  85.5\n"
     ]
    }
   ],
   "source": [
    "acc = accuracy_score(y_test, pred)\n",
    "print(\"Accuracy for Random Forest on CV data: \", round(acc*100,1))"
   ]
  },
  {
   "cell_type": "code",
   "execution_count": 29,
   "id": "e186a3c6",
   "metadata": {},
   "outputs": [
    {
     "data": {
      "image/png": "[encoded data removed]",
      "text/plain": [
       "<Figure size 432x288 with 2 Axes>"
      ]
     },
     "metadata": {
      "needs_background": "light"
     },
     "output_type": "display_data"
    }
   ],
   "source": [
    "cm = confusion_matrix(y_test, pred)\n",
    "disp = ConfusionMatrixDisplay(confusion_matrix=cm, display_labels=rfc_best.classes_)\n",
    "disp.plot()\n",
    "plt.show()"
   ]
  },
  {
   "cell_type": "markdown",
   "id": "42a97f19",
   "metadata": {},
   "source": [
    "# Grid search with SVC"
   ]
  },
  {
   "cell_type": "code",
   "execution_count": 46,
   "id": "51bce7e3",
   "metadata": {},
   "outputs": [],
   "source": [
    "SVC_clf = SVC(random_state=42, probability=True)\n",
    "param_grid = {\n",
    "    'C': [0.1, 1, 10],\n",
    "    'kernel': ['linear', 'poly', 'rbf', 'sigmoid'],\n",
    "    'degree': [3, 4, 5],\n",
    "    'gamma': ['scale', 'auto']\n",
    "}"
   ]
  },
  {
   "cell_type": "code",
   "execution_count": 47,
   "id": "67c36d14",
   "metadata": {},
   "outputs": [
    {
     "name": "stdout",
     "output_type": "stream",
     "text": [
      "Fitting 5 folds for each of 72 candidates, totalling 360 fits\n"
     ]
    },
    {
     "data": {
      "text/plain": [
       "GridSearchCV(cv=5, estimator=SVC(probability=True, random_state=42), n_jobs=-1,\n",
       "             param_grid={'C': [0.1, 1, 10], 'degree': [3, 4, 5],\n",
       "                         'gamma': ['scale', 'auto'],\n",
       "                         'kernel': ['linear', 'poly', 'rbf', 'sigmoid']},\n",
       "             scoring='accuracy', verbose=2)"
      ]
     },
     "execution_count": 47,
     "metadata": {},
     "output_type": "execute_result"
    }
   ],
   "source": [
    "GSCV_SVC_clf = GridSearchCV(estimator=SVC_clf,\n",
    "                              param_grid=param_grid,\n",
    "                              cv=5, scoring='accuracy',\n",
    "                              n_jobs=-1,\n",
    "                              verbose=3)\n",
    "GSCV_SVC_clf.fit(X_train, y_train)"
   ]
  },
  {
   "cell_type": "code",
   "execution_count": 51,
   "id": "9be081de",
   "metadata": {},
   "outputs": [
    {
     "name": "stdout",
     "output_type": "stream",
     "text": [
      "{'C': 10, 'degree': 3, 'gamma': 'scale', 'kernel': 'sigmoid'}\n"
     ]
    },
    {
     "data": {
      "text/plain": [
       "SVC(C=10, kernel='sigmoid', probability=True, random_state=42)"
      ]
     },
     "execution_count": 51,
     "metadata": {},
     "output_type": "execute_result"
    }
   ],
   "source": [
    "print(GSCV_SVC_clf.best_params_)\n",
    "GSCV_SVC_clf_best = SVC(C=10, kernel='sigmoid', degree=3, gamma='scale', random_state=42, probability=True)\n",
    "GSCV_SVC_clf_best.fit(X_train, y_train)"
   ]
  },
  {
   "cell_type": "code",
   "execution_count": 52,
   "id": "73be6cde",
   "metadata": {},
   "outputs": [
    {
     "name": "stdout",
     "output_type": "stream",
     "text": [
      "Accuracy for SVC on CV data:  74.9\n"
     ]
    }
   ],
   "source": [
    "pred = GSCV_SVC_clf_best.predict(X_test)\n",
    "acc = accuracy_score(y_test, pred)\n",
    "print(\"Accuracy for SVC on CV data: \", round(acc*100,1))"
   ]
  },
  {
   "cell_type": "code",
   "execution_count": null,
   "id": "42b62860",
   "metadata": {},
   "outputs": [],
   "source": []
  }
 ],
 "metadata": {
  "kernelspec": {
   "display_name": "Python 3.8.8 ('base')",
   "language": "python",
   "name": "python3"
  },
  "language_info": {
   "codemirror_mode": {
    "name": "ipython",
    "version": 3
   },
   "file_extension": ".py",
   "mimetype": "text/x-python",
   "name": "python",
   "nbconvert_exporter": "python",
   "pygments_lexer": "ipython3",
   "version": "3.8.8"
  },
  "vscode": {
   "interpreter": {
    "hash": "446a03fef2add5f67b999c04d05da6612f433d57892c44d0763abbe61a1895d0"
   }
  }
 },
 "nbformat": 4,
 "nbformat_minor": 5
}
