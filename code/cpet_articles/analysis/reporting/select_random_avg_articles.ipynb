{
 "cells": [
  {
   "cell_type": "code",
   "execution_count": 1,
   "metadata": {},
   "outputs": [],
   "source": [
    "import pandas as pd\n",
    "import random\n",
    "from pathlib import Path"
   ]
  },
  {
   "cell_type": "code",
   "execution_count": 9,
   "metadata": {},
   "outputs": [],
   "source": [
    "# Load breath-by-breath articles\n",
    "bbb_df_path = Path('/Users/antonhesse/Desktop/Anton/Education/UMN/Lab and Research/HSPL/CPET_scoping_review/data/cpet_articles/text_analysis/bbb_articles.csv')\n",
    "bbb_df = pd.read_csv(bbb_df_path)"
   ]
  },
  {
   "cell_type": "code",
   "execution_count": 10,
   "metadata": {},
   "outputs": [],
   "source": [
    "# Load known mixing chamber and Douglas bag articles\n",
    "mc_db_df_path = Path('/Users/antonhesse/Desktop/Anton/Education/UMN/Lab and Research/HSPL/CPET_scoping_review/data/cpet_articles/text_analysis/Mixing Chamber Douglas Bag - Sheet1.csv')\n",
    "mc_db_df = pd.read_csv(mc_db_df_path)"
   ]
  },
  {
   "cell_type": "code",
   "execution_count": 23,
   "metadata": {},
   "outputs": [],
   "source": [
    "# create data frame of articles known to use mixing chambers or Douglas bag\n",
    "non_bbb = mc_db_df[mc_db_df['bbb'] == False]"
   ]
  },
  {
   "cell_type": "code",
   "execution_count": 29,
   "metadata": {},
   "outputs": [],
   "source": [
    "# remove mixing chamber and Douglas bag articles from breath-by-breath data frame\n",
    "bbb_df_cleaned = bbb_df[bbb_df['doi_suffix'].isin(non_bbb['doi_suffix'].to_list())].reset_index(drop=True)"
   ]
  },
  {
   "cell_type": "code",
   "execution_count": null,
   "metadata": {},
   "outputs": [],
   "source": []
  }
 ],
 "metadata": {
  "kernelspec": {
   "display_name": ".venv",
   "language": "python",
   "name": "python3"
  },
  "language_info": {
   "codemirror_mode": {
    "name": "ipython",
    "version": 3
   },
   "file_extension": ".py",
   "mimetype": "text/x-python",
   "name": "python",
   "nbconvert_exporter": "python",
   "pygments_lexer": "ipython3",
   "version": "3.8.8"
  },
  "orig_nbformat": 4,
  "vscode": {
   "interpreter": {
    "hash": "06576d11e177ae3b8eef48c9690f65df3fa2f3f0334aa83895ceb0de2ca2f680"
   }
  }
 },
 "nbformat": 4,
 "nbformat_minor": 2
}
